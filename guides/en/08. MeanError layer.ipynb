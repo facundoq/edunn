{
 "cells": [
  {
   "cell_type": "code",
   "execution_count": null,
   "metadata": {},
   "outputs": [],
   "source": [
    "%load_ext autoreload\n",
    "%autoreload 2\n",
    "\n",
    "from edunn import utils\n",
    "import edunn as nn\n",
    "import numpy as np"
   ]
  },
  {
   "cell_type": "markdown",
   "metadata": {},
   "source": [
    "# Mean Error\n",
    "\n",
    "The SquaredError layer allows us to calculate the errors for each example.\n",
    "\n",
    "However, to obtain a measure of error for a batch or set of examples, we need to calculate the average of these errors. \n",
    "\n",
    "Since this calculation is independent of the error function, we can encapsulate it in its own class. Implement the `forward` method of the MeanError class.\n",
    "\n",
    "Note: The error function is often referred to as 'loss' to distinguish it from the mean error."
   ]
  },
  {
   "cell_type": "code",
   "execution_count": null,
   "metadata": {},
   "outputs": [],
   "source": [
    "y = np.array([[2,-2],\n",
    "             [-4,4]])\n",
    "y_true = np.array([[3,3],\n",
    "             [-5,2]])\n",
    "\n",
    "\n",
    "layer = nn.MeanError(nn.SquaredError())\n",
    "E = 15.5\n",
    "utils.check_same_float(E, layer.forward(y, y_true), title=\"mean error\")"
   ]
  },
  {
   "cell_type": "markdown",
   "metadata": {},
   "source": [
    "# Backward\n",
    "\n",
    "To make progress faster, and because it contains some tricks, the `backward` step is already implemented, but we suggest thinking about how you would implement it and then comparing it to the reference implementation."
   ]
  }
 ],
 "metadata": {
  "kernelspec": {
   "display_name": "Python 3",
   "language": "python",
   "name": "python3"
  },
  "language_info": {
   "codemirror_mode": {
    "name": "ipython",
    "version": 3
   },
   "file_extension": ".py",
   "mimetype": "text/x-python",
   "name": "python",
   "nbconvert_exporter": "python",
   "pygments_lexer": "ipython3",
   "version": "3.8.10"
  },
  "nbformat": 4,
  "nbformat_minor": 4
 },
 "nbformat": 4,
 "nbformat_minor": 2
}
