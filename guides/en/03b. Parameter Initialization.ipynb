{
 "cells": [
  {
   "cell_type": "code",
   "execution_count": null,
   "metadata": {},
   "outputs": [],
   "source": [
    "%load_ext autoreload\n",
    "%autoreload 2\n",
    "\n",
    "import edunn as nn\n",
    "import matplotlib.pyplot as plt\n",
    "import numpy as np\n",
    "\n",
    "from edunn import utils"
   ]
  },
  {
   "cell_type": "markdown",
   "metadata": {},
   "source": [
    "# Parameter initialization\n",
    "\n",
    "The previously created layers `AddConstant` and `MultiplyConstant` were not defined as _layers with parameters_, they were defined taking a fixed value provided at creation time.\n",
    "\n",
    "If defined as _layer with parameters_, the parameters can be initialized in a more flexible fashion (e.g.: setting random values) using an `Initializer` object."
   ]
  },
  {
   "cell_type": "markdown",
   "metadata": {},
   "source": [
    "# Initializer\n",
    "An `Initializer` object allows to delegate the responsibility of parameter initialization in a layer. Different initialization strategies can be defined, for example:\n",
    "\n",
    "- Initialization with a constant value\n",
    "- Initialization with 0 (special case of the previous one)\n",
    "- Initialization with random values"
   ]
  },
  {
   "cell_type": "markdown",
   "metadata": {},
   "source": [
    "# Creation and Initialization\n",
    "\n",
    "In this guide we'll create a `DummyLayer` layer to understand the usage of the `Initializer`.\n",
    "\n",
    "The `DummyLayer` layer has a parameters vector `c` that must be initialized somehow. Also this parameter is registered in the layer to allow further access to it.\n",
    "This layer works for arrays with the same size as the parameters.\n",
    "\n",
    "Take a look at the implementation of the `__init__` method from the `DummyLayer` layer to see how the parameter `c` is created. You'll observe that an `Initializer` is used to set its initial value.\n",
    "\n",
    "When creating the layer, it can get an object of the `Initializer` class, which will create and assign the initial value to the parameter `c`. By default, if no `Initializer` is passed, the parameter will be initialized with zeroes with the class `initializers.Zero`.\n"
   ]
  },
  {
   "cell_type": "code",
   "execution_count": null,
   "metadata": {},
   "outputs": [],
   "source": [
    "from edunn.model import Model, ParameterSet\n",
    "from edunn import initializers\n",
    "\n",
    "\n",
    "class DummyLayer(Model):\n",
    "\n",
    "    def __init__(self, output_size: int, initializer: initializers.Initializer = None, name=None):\n",
    "        super().__init__(name=name)\n",
    "\n",
    "        if initializer is None:\n",
    "            initializer = initializers.Zero()\n",
    "\n",
    "        c = initializer.create((output_size,))\n",
    "        self.register_parameter('c', c)\n",
    "\n",
    "    def forward(self, *x) -> np.ndarray:\n",
    "        pass\n",
    "\n",
    "    def backward(self, dE_dy: np.ndarray) -> (np.ndarray, ParameterSet):\n",
    "        pass\n"
   ]
  },
  {
   "cell_type": "markdown",
   "metadata": {},
   "source": [
    "\n",
    "Looking at the implementation of the class `Initializers.Zero` in `edunn/initializers.py` we can see that:\n",
    "* Inherits from `Initializer`\n",
    "* Implements the method `initialize(self, p: np.ndarray)` which gets a numpy array for initialization\n",
    "* Uses `p[:]` to initialize with 0 instead of `p = 0`. There are two main reasons for this:\n",
    "    * Using `p = 0` would only change the _local variable_ `p` instead of changing the _numpy array_ to which `p` points to\n",
    "    * When using `p[:]` we're modifying the __contents__ of the parameter array, which belongs to the layer's class(en `DummyLayer` in the example)\n",
    "\n",
    "Once the class is created we can get the parameter vector `c` form the class `DummyLayer` calling the method `get_parameters()`\n"
   ]
  },
  {
   "cell_type": "code",
   "execution_count": null,
   "metadata": {},
   "outputs": [],
   "source": [
    "# Create a DummyLayer layer with 2 input/output values\n",
    "layer = DummyLayer(2, initializer=nn.initializers.Zero())\n",
    "print(f\"Layer name: {layer.name}\")\n",
    "print(f\"Layer parameters: {layer.get_parameters()}\")\n",
    "print()\n",
    "\n",
    "# By default, the initializer is already `Zero`\n",
    "layer2 = DummyLayer(2)\n",
    "print(f\"Layer name: {layer2.name}\")\n",
    "print(f\"Layer parameters: {layer2.get_parameters()}\")"
   ]
  },
  {
   "cell_type": "markdown",
   "metadata": {},
   "source": [
    "# Accessing parameters by name\n",
    "\n",
    "The `get_parameters()` method returns a dictionary of parameters, because a layer can have more than one parameter. \n",
    "\n",
    "Given that we already know the name of the only parameter in this layer, we can access it by its name in string form, `'c'`:"
   ]
  },
  {
   "cell_type": "code",
   "execution_count": null,
   "metadata": {},
   "outputs": [],
   "source": [
    "print(f\"Layer parameters: {layer.get_parameters()}\")\n",
    "print(f\"Layer parameter 'c': {layer.get_parameters()['c']}\")\n"
   ]
  },
  {
   "cell_type": "markdown",
   "metadata": {},
   "source": [
    "# Implementation of a Constant Initializer\n",
    "\n",
    "While sometimes parameters are initialized to `0`, it's common to initialize them with some constant value.\n",
    "\n",
    "Implement the `Constant` initializer that assigns a constant value or array to the parameter. This allows, for example, initializing `c` with all values of `3` or with a vector of values `[1, 2, 3, 4]`.\n",
    "\n",
    "Find the `Constant` class in the `edunn/initializers.py` module and implement the `initialize` method.\n",
    "\n"
   ]
  },
  {
   "cell_type": "code",
   "execution_count": null,
   "metadata": {},
   "outputs": [],
   "source": [
    "# Create a DummyLayer layer with 2 output values (and input values as well)\n",
    "# All parameters are initialized to 3\n",
    "value = 3\n",
    "layer = DummyLayer(2, initializer=nn.initializers.Constant(value))\n",
    "\n",
    "print(f\"Layer Name: {layer.name}\")\n",
    "print(f\"Layer Parameter 'c': {layer.get_parameters()['c']}\")\n",
    "utils.check_same(layer.get_parameters()['c'], np.array([3, 3]))\n",
    "print()\n",
    "\n",
    "# Create a DummyLayer layer with initial values 1, 2, 3, 4. \n",
    "# Note that we are ensuring that the number of values of the Constant initializer match those of the value array\n",
    "\n",
    "value2 = np.array([1, 2, 3, 4])\n",
    "layer2 = DummyLayer(4, initializer=nn.initializers.Constant(value2))\n",
    "\n",
    "print(f\"Layer 2 Name: {layer2.name}\")\n",
    "print(f\"Layer 2 Parameter 'c': {layer2.get_parameters()['c']}\")\n",
    "\n",
    "utils.check_same(layer2.get_parameters()['c'], value2)"
   ]
  },
  {
   "cell_type": "markdown",
   "metadata": {},
   "source": [
    "# Implementation of Random Initializers\n",
    "\n",
    "It's a common practice to initialize the parameters with values sampled from some distribution. In this section we'll work with different random initializers.\n"
   ]
  },
  {
   "cell_type": "markdown",
   "metadata": {},
   "source": [
    "## RandomUniform Initializer\n",
    "\n",
    "Look for the `RandomUniform` class in the `edunn/initializers.py` module and implement the `initialize` method to initialize the parameter with random values sampled form an Uniform distribution.\n"
   ]
  },
  {
   "cell_type": "code",
   "execution_count": null,
   "metadata": {},
   "outputs": [],
   "source": [
    "# Create two DummyLayer layers with a parameter size of 5\n",
    "\n",
    "uniform_value_a = 1e-10\n",
    "dimension = 100\n",
    "layer1 = DummyLayer(dimension, initializer=nn.initializers.RandomUniform(uniform_value_a))\n",
    "print(f\"Layer1 name: {layer1.name}\")\n",
    "print(f\"Layer1 parameters: {layer1.get_parameters()}\")\n",
    "\n",
    "layer2 = DummyLayer(dimension, initializer=nn.initializers.RandomUniform(uniform_value_a))\n",
    "print(f\"Layer2 name: {layer2.name}\")\n",
    "print(f\"Layer2 parameters: {layer2.get_parameters()}\")\n",
    "\n",
    "print(\"(these values should change each time you run this cell)\")\n",
    "print()\n",
    "\n",
    "c1 = layer1.get_parameters()['c']\n",
    "c2 = layer2.get_parameters()['c']\n",
    "\n",
    "# Plot the parameter distribution to see that it has a Uniform distribution shape\n",
    "plt.hist([c1, c2], bins=dimension // 10)\n",
    "\n",
    "print(\"Check that two layers have different initial values for c:\")\n",
    "utils.check_different(c1, c2)\n"
   ]
  },
  {
   "cell_type": "markdown",
   "metadata": {},
   "source": [
    "## RandomNormal Initializer\n",
    "\n",
    "Look for the `RandomUniform` class in the `edunn/initializers.py` module and implement the `initialize` method to initialize the parameter with random values sampled form a Normal distribution with mean `0` and a standard deviation that can be configured upon creation.\n"
   ]
  },
  {
   "cell_type": "code",
   "execution_count": null,
   "metadata": {},
   "outputs": [],
   "source": [
    "# Create two DummyLayer layers with a parameter size of 5\n",
    "\n",
    "std = 1e-12\n",
    "dimension = 100\n",
    "layer1 = DummyLayer(dimension, initializer=nn.initializers.RandomNormal(std))\n",
    "print(f\"Layer1 name: {layer1.name}\")\n",
    "print(f\"Layer1 parameters: {layer1.get_parameters()}\")\n",
    "\n",
    "layer2 = DummyLayer(dimension, initializer=nn.initializers.RandomNormal(std))\n",
    "print(f\"Layer2 name: {layer2.name}\")\n",
    "print(f\"Layer2 parameters: {layer2.get_parameters()}\")\n",
    "\n",
    "print(\"(these values should change each time you run this cell)\")\n",
    "print()\n",
    "\n",
    "c1 = layer1.get_parameters()['c']\n",
    "c2 = layer2.get_parameters()['c']\n",
    "\n",
    "# Tolerance defined as per the 95% confidence interval\n",
    "# Keep in mind that it's statistically feasible to get a failure scenario.\n",
    "# You can try running this cell multiple times\n",
    "tolerance = 1.96 * std / (dimension ** 0.5)\n",
    "\n",
    "# Plot the parameter distribution to see that it has a Normal distribution shape\n",
    "plt.hist([c1, c2], bins=dimension // 10)\n",
    "\n",
    "print(\"Check that two layers have different initial values for c:\")\n",
    "utils.check_different(c1, c2)\n"
   ]
  }
 ],
 "metadata": {
  "kernelspec": {
   "display_name": "Python 3 (ipykernel)",
   "language": "python",
   "name": "python3"
  },
  "language_info": {
   "codemirror_mode": {
    "name": "ipython",
    "version": 3
   },
   "file_extension": ".py",
   "mimetype": "text/x-python",
   "name": "python",
   "nbconvert_exporter": "python",
   "pygments_lexer": "ipython3",
   "version": "3.10.12"
  }
 },
 "nbformat": 4,
 "nbformat_minor": 4
}
