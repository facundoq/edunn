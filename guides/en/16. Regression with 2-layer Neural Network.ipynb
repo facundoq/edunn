{
 "cells": [
  {
   "cell_type": "code",
   "execution_count": null,
   "metadata": {},
   "outputs": [],
   "source": [
    "%load_ext autoreload\n",
    "%autoreload 2\n",
    "import edunn as nn\n",
    "import numpy as np"
   ]
  },
  {
   "cell_type": "markdown",
   "metadata": {},
   "source": [
    "# 2-Layer Neural Network for Regression\n",
    "\n",
    "Now that we have all the elements, we can define and train our first 2-layer neural network! We will also use it to estimate house prices using the [Boston Housing Dataset](https://www.kaggle.com/c/boston-housing).\n",
    "\n",
    "In this case, since the network is more powerful, we should expect a lower error compared to the previous linear regression model.\n",
    "\n",
    "You can also try other available datasets to load using `nn.datasets.load_regression`."
   ]
  },
  {
   "cell_type": "code",
   "execution_count": null,
   "metadata": {},
   "outputs": [],
   "source": [
    "dataset_name = \"boston\"\n",
    "x, y = nn.datasets.load_regression(dataset_name)\n",
    "x = (x - x.mean(axis=0)) / x.std(axis=0)\n",
    "n, din = x.shape\n",
    "n, dout = y.shape\n",
    "print(\"Dataset sizes:\", x.shape, y.shape)\n",
    "\n",
    "hidden_dim = 5\n",
    "\n",
    "# Network with two linear layers\n",
    "model = nn.Sequential([nn.Dense(din, hidden_dim, activation_name=\"relu\"),\n",
    "                       nn.Dense(hidden_dim, dout)\n",
    "                      ])\n",
    "\n",
    "error = nn.MeanError(nn.SquaredError())\n",
    "optimizer = nn.GradientDescent(lr=0.01, epochs=1000, batch_size=32)\n",
    "\n",
    "# Optimization algorithm\n",
    "history = optimizer.optimize(model, x, y, error)\n",
    "nn.plot.plot_history(history, error_name=error.name)\n",
    "\n",
    "\n",
    "print(\"Model Error:\")\n",
    "y_pred = model.forward(x)\n",
    "nn.metrics.regression_summary(y, y_pred)\n",
    "nn.plot.regression1d_predictions(y, y_pred)"
   ]
  },
  {
   "cell_type": "markdown",
   "metadata": {},
   "source": [
    "# Comparison with a Linear Regression Model\n",
    "\n",
    "As an additional verification, we will calculate the optimal parameters of a linear regression model and visualize the results. The error should be worse than that of the neural network (RMSE=3.27 or 3.28)."
   ]
  },
  {
   "cell_type": "code",
   "execution_count": null,
   "metadata": {},
   "outputs": [],
   "source": [
    "\n",
    "linear_model = nn.LinearRegression(din, dout)\n",
    "optimizer = nn.GradientDescent(lr=0.01, epochs=1000, batch_size=32)\n",
    "history = optimizer.optimize(linear_model, x, y, error)\n",
    "nn.plot.plot_history(history, error_name=error.name)\n",
    "y_pred = linear_model.forward(x)\n",
    "\n",
    "print(\"Model Error:\")\n",
    "nn.metrics.regression_summary(y, y_pred)\n",
    "print()\n",
    "\n",
    "nn.plot.regression1d_predictions(y, y_pred)\n"
   ]
  }
 ],
 "metadata": {
  "kernelspec": {
   "display_name": "Python 3",
   "language": "python",
   "name": "python3"
  },
  "language_info": {
   "codemirror_mode": {
    "name": "ipython",
    "version": 3
   },
   "file_extension": ".py",
   "mimetype": "text/x-python",
   "name": "python",
   "nbconvert_exporter": "python",
   "pygments_lexer": "ipython3",
   "version": "3.8.10"
  }
 },
 "nbformat": 4,
 "nbformat_minor": 4
}
