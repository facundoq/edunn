{
 "cells": [
  {
   "cell_type": "code",
   "execution_count": 2,
   "metadata": {},
   "outputs": [
    {
     "ename": "ModuleNotFoundError",
     "evalue": "No module named 'edunn'",
     "output_type": "error",
     "traceback": [
      "\u001b[0;31m---------------------------------------------------------------------------\u001b[0m",
      "\u001b[0;31mModuleNotFoundError\u001b[0m                       Traceback (most recent call last)",
      "\u001b[1;32m/home/facundoq/dev/edunn/guides/en/02. AddConstant Layer.ipynb Cell 1\u001b[0m line \u001b[0;36m4\n\u001b[1;32m      <a href='vscode-notebook-cell:/home/facundoq/dev/edunn/guides/en/02.%20AddConstant%20Layer.ipynb#W0sZmlsZQ%3D%3D?line=0'>1</a>\u001b[0m get_ipython()\u001b[39m.\u001b[39mrun_line_magic(\u001b[39m'\u001b[39m\u001b[39mload_ext\u001b[39m\u001b[39m'\u001b[39m, \u001b[39m'\u001b[39m\u001b[39mautoreload\u001b[39m\u001b[39m'\u001b[39m)\n\u001b[1;32m      <a href='vscode-notebook-cell:/home/facundoq/dev/edunn/guides/en/02.%20AddConstant%20Layer.ipynb#W0sZmlsZQ%3D%3D?line=1'>2</a>\u001b[0m get_ipython()\u001b[39m.\u001b[39mrun_line_magic(\u001b[39m'\u001b[39m\u001b[39mautoreload\u001b[39m\u001b[39m'\u001b[39m, \u001b[39m'\u001b[39m\u001b[39m2\u001b[39m\u001b[39m'\u001b[39m)\n\u001b[0;32m----> <a href='vscode-notebook-cell:/home/facundoq/dev/edunn/guides/en/02.%20AddConstant%20Layer.ipynb#W0sZmlsZQ%3D%3D?line=3'>4</a>\u001b[0m \u001b[39mfrom\u001b[39;00m \u001b[39medunn\u001b[39;00m \u001b[39mimport\u001b[39;00m utils\n\u001b[1;32m      <a href='vscode-notebook-cell:/home/facundoq/dev/edunn/guides/en/02.%20AddConstant%20Layer.ipynb#W0sZmlsZQ%3D%3D?line=4'>5</a>\u001b[0m \u001b[39mimport\u001b[39;00m \u001b[39medunn\u001b[39;00m \u001b[39mas\u001b[39;00m \u001b[39mnn\u001b[39;00m\n\u001b[1;32m      <a href='vscode-notebook-cell:/home/facundoq/dev/edunn/guides/en/02.%20AddConstant%20Layer.ipynb#W0sZmlsZQ%3D%3D?line=5'>6</a>\u001b[0m \u001b[39mimport\u001b[39;00m \u001b[39mnumpy\u001b[39;00m \u001b[39mas\u001b[39;00m \u001b[39mnp\u001b[39;00m\n",
      "\u001b[0;31mModuleNotFoundError\u001b[0m: No module named 'edunn'"
     ]
    }
   ],
   "source": [
    "%load_ext autoreload\n",
    "%autoreload 2\n",
    "\n",
    "from edunn import utils\n",
    "import edunn as nn\n",
    "import numpy as np"
   ]
  },
  {
   "cell_type": "markdown",
   "metadata": {},
   "source": [
    "# AddConstant Layer\n",
    "\n",
    "To start easy, in this exercise you'll need to implement the `AddConstant` layer, which adds a constant value to each of its inputs to generate its output.\n",
    "\n",
    "For example, if the input `x` is `[3.5, -7.2, 5.3]` and the AddConstant layer adds the value `3.0` to its input, then the output `y` will be `[6.5, -4.2, 8.3]`.\n",
    "\n",
    "Your goal is to implement the `forward` and `backward` methods for this layer so that it can be used in a neural network.\n",
    "\n",
    "This layer works for input arrays of any size, including vectors, matrices, or arrays with more dimensions.\n"
   ]
  },
  {
   "cell_type": "markdown",
   "metadata": {},
   "source": [
    "# Forward Method\n",
    "\n",
    "The `forward` method calculates the output `y` based on the input `x`, as explained above. In formal terms, if the constant to be added is $C$ and the input to the layer is $x = [x_1, x_2, ..., x_n]$, then the output $y$ is:\n",
    "\n",
    "$\n",
    "y([x_1, x_2, ..., x_n]) = [x_1 + C, x_2 + C, ..., x_n + C]\n",
    "$\n",
    "\n",
    "We start with the `forward` method of the `AddConstant` class, which can be found in the `activations.py` file in the `edunn/models` folder. You need to complete the code between the comments:\n",
    "\n",
    "```\n",
    """"YOUR IMPLEMENTATION START"""\n",
    "```\n",
    "and\n",
    "\n",
    "```\n",
    """"YOUR IMPLEMENTATION END"""\n",
    "```\n",
    "\n",
    "Then, verify with the following cell for a layer that adds 3 and another that adds -3. If both checks are correct, you will see two messages with <span style='background-color:green;color:white;'>success</span>."
   ]
  },
  {
   "cell_type": "code",
   "execution_count": 1,
   "metadata": {},
   "outputs": [
    {
     "ename": "NameError",
     "evalue": "name 'np' is not defined",
     "output_type": "error",
     "traceback": [
      "\u001b[0;31m---------------------------------------------------------------------------\u001b[0m",
      "\u001b[0;31mNameError\u001b[0m                                 Traceback (most recent call last)",
      "\u001b[1;32m/home/facundoq/dev/edunn/guides/en/02. AddConstant Layer.ipynb Cell 4\u001b[0m line \u001b[0;36m1\n\u001b[0;32m----> <a href='vscode-notebook-cell:/home/facundoq/dev/edunn/guides/en/02.%20AddConstant%20Layer.ipynb#W3sZmlsZQ%3D%3D?line=0'>1</a>\u001b[0m x \u001b[39m=\u001b[39m np\u001b[39m.\u001b[39marray([[\u001b[39m3.5\u001b[39m, \u001b[39m-\u001b[39m\u001b[39m7.2\u001b[39m, \u001b[39m5.3\u001b[39m],\n\u001b[1;32m      <a href='vscode-notebook-cell:/home/facundoq/dev/edunn/guides/en/02.%20AddConstant%20Layer.ipynb#W3sZmlsZQ%3D%3D?line=1'>2</a>\u001b[0m              [\u001b[39m-\u001b[39m\u001b[39m3.5\u001b[39m, \u001b[39m7.2\u001b[39m, \u001b[39m-\u001b[39m\u001b[39m5.3\u001b[39m]])\n\u001b[1;32m      <a href='vscode-notebook-cell:/home/facundoq/dev/edunn/guides/en/02.%20AddConstant%20Layer.ipynb#W3sZmlsZQ%3D%3D?line=3'>4</a>\u001b[0m layer \u001b[39m=\u001b[39m nn\u001b[39m.\u001b[39mAddConstant(\u001b[39m3\u001b[39m)\n\u001b[1;32m      <a href='vscode-notebook-cell:/home/facundoq/dev/edunn/guides/en/02.%20AddConstant%20Layer.ipynb#W3sZmlsZQ%3D%3D?line=4'>5</a>\u001b[0m y \u001b[39m=\u001b[39m np\u001b[39m.\u001b[39marray([[\u001b[39m6.5\u001b[39m, \u001b[39m-\u001b[39m\u001b[39m4.2\u001b[39m, \u001b[39m8.3\u001b[39m],\n\u001b[1;32m      <a href='vscode-notebook-cell:/home/facundoq/dev/edunn/guides/en/02.%20AddConstant%20Layer.ipynb#W3sZmlsZQ%3D%3D?line=5'>6</a>\u001b[0m               [\u001b[39m-\u001b[39m\u001b[39m0.5\u001b[39m, \u001b[39m10.2\u001b[39m, \u001b[39m-\u001b[39m\u001b[39m2.3\u001b[39m]])\n",
      "\u001b[0;31mNameError\u001b[0m: name 'np' is not defined"
     ]
    }
   ],
   "source": [
    "x = np.array([[3.5, -7.2, 5.3],\n",
    "             [-3.5, 7.2, -5.3]])\n",
    "\n",
    "layer = nn.AddConstant(3)\n",
    "y = np.array([[6.5, -4.2, 8.3],\n",
    "              [-0.5, 10.2, -2.3]])\n",
    "utils.check_same(y, layer.forward(x))\n",
    "\n",
    "layer = nn.AddConstant(-3)\n",
    "y = np.array([[0.5, -10.2, 2.3],\n",
    "              [-6.5, 4.2, -8.3]])\n",
    "utils.check_same(y, layer.forward(x))"
   ]
  },
  {
   "cell_type": "markdown",
   "metadata": {},
   "source": [
    "# Backward Method\n",
    "\n",
    "In addition to calculating its output with `forward`, the layer must also be able to propagate the gradient of the network's error backward. To do this, you need to implement the `backward` method, which receives $\\frac{δE}{δy}$, the partial derivatives (gradient) of the error with respect to the output of this layer, and returns $\\frac{δE}{δx}$, the partial derivatives of the error with respect to the inputs of this layer.\n",
    "\n",
    "For the `AddConstant` layer, calculating the gradient of the output $y$ with respect to the input $x$ is straightforward. However, we need to return the gradient of $E$ with respect to $x$. Let's recall the form of the output:\n",
    "\n",
    "$\n",
    "y([x_1, x_2, ..., x_n]) = [x_1 + C, x_2 + C, ..., x_n + C]\n",
    "$\n",
    "\n",
    "Our goal is to calculate $\\frac{δE}{δx_i}$. For that, we'll focus on $\\frac{δE}{δx_i}$, which is the derivative of the error with respect to a specific input. Then, applying the chain rule, we can write $\\frac{δE}{δx_i}$ as:\n",
    "\n",
    "$\\frac{δE}{δx_i} = \\frac{δE}{δy} * \\frac{δy}{δx_i} = \\sum_j \\frac{δE}{δy_j} * \\frac{δy_j}{δx_i}$\n",
    "\n",
    "We can consider each element of the output separately:\n",
    "\n",
    "$y_i(x) = x_i + C$\n",
    "\n",
    "And therefore:\n",
    "\n",
    "$\\frac{δy_i}{δx_i} = 1 + 0 = 1$\n",
    "\n",
    "Since there is no interaction between elements with different indices (i.e., $y_i$ depends only on $x_i$), in the sum above, if $i \\neq j$, then $\\frac{δy_j}{δx_i} = 0$. Thus, we can remove the summation and use the chain rule only with $y_i$:\n",
    "\n",
    "$\\frac{δE}{δx_i} = \\frac{δE}{δy} * \\frac{δy}{δx_i} = \\sum_j \\frac{δE}{δy_j} * \\frac{δy_j}{δx_i} = \\frac{δE}{δy_i} * \\frac{δy_i}{δx_i}$\n",
    "\n",
    "Knowing that $\\frac{δy_i}{δx_i} = 1$\n",
    "\n",
    "$\\frac{δE}{δx_i} = \\frac{δE}{δy} * \\frac{δy}{δx_i} = \\frac{δE}{δy_i} * 1 = \\frac{δE}{δy_i}$\n",
    "\n",
    "Writing it in vector form for the vector x:\n",
    "\n",
    "$\\frac{δE}{δx} = [\\frac{δE}{δy_1}, \\frac{δE}{δy_2}, ..., \\frac{δE}{δy_n}] = \\frac{δE}{δy}$\n",
    "\n",
    "What dos this equation mean? Simply that the layer just propagates the gradients from the next layer to the previous one.\n",
    "\n",
    "Note that for simplicity, in the code we call these vectors `δEδy` and `δEδx`. Also, remember that in this case $C$ is a constant and NOT a network parameter, so we do not need to calculate $\\frac{δE}{δC}$.\n",
    "\n",
    "How do we know if the implementation is correct? Well, gradient checking is done with the `check_gradient_layer_random_sample` function. This function generates random samples of `x` and `δEδy`, and then compares the analytical gradient (your implementation) with the *numerical gradient*. The numerical gradient is costly to compute, but can be computed with the same algorithm for different functions.\n",
    "\n",
    "The numerical gradient _approximates_ the partial derivatives using the derivative formula:\n",
    "\n",
    "$\\frac{δf(x)}{δx} = \\lim_{h→0} \\frac{f(x+h) - f(x)}{h}$ \n",
    "\n",
    "with a very small value of $h$ ($h=10^{-12}$). In truth, for a better approximation, it uses the _centered derivative_, whose formula is:\n",
    "\n",
    " $\\frac{δf(x)}{δx} \\~= \\frac{f(x+h) - f(x-h)}{2h}$. \n",
    " \n",
    "This gradient checking technique is a standard method to verify the correct implementation of a neural network.\n",
    "\n",
    "Complete the code in the `backward` function of the `AddConstant` layer between the comments:\n",
    "\n",
    "\n",
    "```\n",
    """"YOUR IMPLEMENTATION START"""\n",
    "```\n",
    "and\n",
    "\n",
    "```\n",
    """"YOUR IMPLEMENTATION END"""\n",
    "```\n",
    "\n",
    "Then, verify with the following cell for a layer that adds 3 and another that adds -3. If both checks are correct, you will see two messages with <span style='background-color:green;color:white;'>success</span>."
   ]
  },
  {
   "cell_type": "code",
   "execution_count": null,
   "metadata": {},
   "outputs": [],
   "source": [
    "from edunn.utils import check_gradient\n",
    "\n",
    "# Number of random values of x and δEδy to generate and test gradients\n",
    "samples = 100\n",
    "\n",
    "input_shape = (5, 2)\n",
    "\n",
    "# Test derivatives of an AddConstant layer that adds 3\n",
    "layer = nn.AddConstant(3)\n",
    "check_gradient.common_layer(layer, input_shape, samples=samples)\n",
    "\n",
    "# Test derivatives of an AddConstant layer that adds -4\n",
    "layer = nn.AddConstant(-4)\n",
    "check_gradient.common_layer(layer, input_shape, samples=samples)"
   ]
  },
  {
   "cell_type": "markdown",
   "metadata": {},
   "source": [
    "# Layer Name\n",
    "\n",
    "Layer names are automatically assigned when an object of the same class is created, and ideally, they should be unique to distinguish different layers even if they are of the same type.\n",
    "\n",
    "By default, when you execute `AddConstant(3)`, an object of this layer is created, and it is given the name `AddConstant_i`, where `i` increments automatically as we create objects of the same `AddConstant` class.\n",
    "\n",
    "You can also specify the layer name manually to keep it fixed using the `name` parameter. For example, with `AddConstant(3, name=\"A layer that adds 3\")`\n",
    "\n",
    "All layers must follow the convention of having a `name` parameter for the library to identify them. Also, in a given session, model names should be unique to simplify the implementation of some parts of the library."
   ]
  },
  {
   "cell_type": "code",
   "execution_count": null,
   "metadata": {},
   "outputs": [],
   "source": [
    "c1 = nn.AddConstant(3)\n",
    "print(c1.name)\n",
    "\n",
    "c2 = nn.AddConstant(3)\n",
    "print(c2.name)\n",
    "\n",
    "c3 = nn.AddConstant(3, name=\"My first layer :)\")\n",
    "print(c3.name)\n"
   ]
  }
 ],
 "metadata": {
  "kernelspec": {
   "display_name": "Python 3",
   "language": "python",
   "name": "python3"
  },
  "language_info": {
   "codemirror_mode": {
    "name": "ipython",
    "version": 3
   },
   "file_extension": ".py",
   "mimetype": "text/x-python",
   "name": "python",
   "nbconvert_exporter": "python",
   "pygments_lexer": "ipython3",
   "version": "3.10.12"
  }
 },
 "nbformat": 4,
 "nbformat_minor": 4
}
