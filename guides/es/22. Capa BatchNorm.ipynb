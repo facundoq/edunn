{
 "cells": [
  {
   "cell_type": "code",
   "execution_count": 1,
   "metadata": {},
   "outputs": [],
   "source": [
    "import sys\n",
    "sys.path.insert(0, '../..')"
   ]
  },
  {
   "cell_type": "code",
   "execution_count": 2,
   "metadata": {},
   "outputs": [],
   "source": [
    "%load_ext autoreload\n",
    "%autoreload 2\n",
    "import numpy as np\n",
    "import edunn as nn\n",
    "from edunn import utils"
   ]
  },
  {
   "cell_type": "code",
   "execution_count": 3,
   "metadata": {},
   "outputs": [],
   "source": [
    "np.set_printoptions(threshold=sys.maxsize)"
   ]
  },
  {
   "cell_type": "markdown",
   "metadata": {},
   "source": [
    "# Capa Batch Normalization\n",
    "\n",
    "La normalización por lotes aborda el problema de la inicialización deficiente de las redes neuronales. Se puede interpretar como hacer un preprocesamiento en cada capa de la red. Obliga a las activaciones en una red a adoptar una distribución gaussiana unitaria al comienzo del entrenamiento. Esto asegura que todas las neuronas tengan aproximadamente la misma distribución de salida en la red y mejora la tasa de convergencia.\n",
    "\n",
    "Explicar el por qué la distribución de las activaciones en una red importa excede el propósito de estas guías, pero de ser de tu interés podés referirte a las páginas 46 — 62 en las [diapositivas de la conferencia](http://cs231n.stanford.edu/slides/2019/cs231n_2019_lecture07.pdf) ofrecidas por el curso de la universidad de Stanford."
   ]
  },
  {
   "cell_type": "markdown",
   "metadata": {},
   "source": [
    "## Método Forward\n",
    "\n",
    "Digamos que tenemos un lote de activaciones $x$ en una capa, la versión de $x$ con media cero y varianza unitaria $\\hat{x}$ es:\n",
    "\n",
    "$$\\hat{x}^{(k)}=\\frac{x^{(k)}-\\mathbb{E}[x^{(k)}]}{\\sqrt{\\text{Var}[x^{(k)}]}}$$\n",
    "\n",
    "Esta es en realidad una operación diferenciable, por eso podemos aplicar la normalización por lotes en el entrenamiento.\n",
    "\n",
    "El cálculo de ésta se resume en computar la media $\\mu_\\mathcal{B}$ y varianza $\\sigma_\\mathcal{B}^2$ de un mini-batch de $\\mathcal{B}=\\{x_1, \\dots, x_N\\}$. Los parámetros aprendibles de la capa son $\\gamma$ y $\\beta$ que son utilizados para escalar y desplazar los valores normalizados.\n",
    "\n",
    "$$\n",
    "\\begin{aligned}\n",
    "\\mu_\\mathcal{B} &= \\frac{1}{N} \\sum_{i=1}^{N} x_i & \\text{(mini-batch mean)} \\\\\n",
    "\\sigma_\\mathcal{B}^2 &= \\frac{1}{N} \\sum_{i=1}^{N} (x_i - \\mu_\\mathcal{B})^2 & \\text{(mini-batch variance)} \\\\\n",
    "\\hat{x}_i &= \\frac{x_i - \\mu_\\mathcal{B}}{\\sqrt{\\sigma_\\mathcal{B}^2+\\epsilon}} & \\text{(normalize)} \\\\\n",
    "\\text{\\textbf{BN}}_{\\gamma,\\beta}(x_i) &\\stackrel{\\text{def}}{=} \\gamma \\hat{x}_i + \\beta = y_i & \\text{(scale and shift)} \n",
    "\\end{aligned}\n",
    "$$\n",
    "\n",
    "> NOTA: En la implementación, insertamos la capa `BatchNorm` justo después de una capa `Dense` o una capa `Conv2d`, y antes de las capas no lineales.\n"
   ]
  },
  {
   "cell_type": "code",
   "execution_count": 4,
   "metadata": {},
   "outputs": [],
   "source": [
    "np.random.seed(123)\n",
    "\n",
    "din=10\n",
    "batch_size=2\n",
    "\n",
    "x = np.random.rand(batch_size,din)\n",
    "w = np.random.rand(din)\n",
    "b = np.random.rand(din)\n",
    "                       \n",
    "gamma_initializer = nn.initializers.Constant(w)\n",
    "beta_initializer = nn.initializers.Constant(b)\n",
    "\n",
    "layer=nn.BatchNorm(num_features=din, gamma_initializer=gamma_initializer, beta_initializer=beta_initializer)"
   ]
  },
  {
   "cell_type": "code",
   "execution_count": 5,
   "metadata": {},
   "outputs": [
    {
     "data": {
      "text/plain": [
       "array([[0.69646919, 0.28613933, 0.22685145, 0.55131477, 0.71946897,\n",
       "        0.42310646, 0.9807642 , 0.68482974, 0.4809319 , 0.39211752],\n",
       "       [0.34317802, 0.72904971, 0.43857224, 0.0596779 , 0.39804426,\n",
       "        0.73799541, 0.18249173, 0.17545176, 0.53155137, 0.53182759]])"
      ]
     },
     "execution_count": 5,
     "metadata": {},
     "output_type": "execute_result"
    }
   ],
   "source": [
    "x"
   ]
  },
  {
   "cell_type": "code",
   "execution_count": 6,
   "metadata": {},
   "outputs": [
    {
     "data": {
      "text/plain": [
       "(array([[ 0.72640427, -0.41564403, -0.29326955,  1.10465806,  1.14813386,\n",
       "         -0.01063257,  0.78812861,  1.1216348 ,  0.65271203, -0.12849391],\n",
       "        [-0.54219439,  1.28304638,  1.15499507, -0.11728786, -0.29647328,\n",
       "          0.63515501,  0.06457401,  0.66514353,  1.23560801,  1.13216726]]),\n",
       " (2, 10))"
      ]
     },
     "execution_count": 6,
     "metadata": {},
     "output_type": "execute_result"
    }
   ],
   "source": [
    "y = layer.forward(x)\n",
    "y, y.shape"
   ]
  },
  {
   "cell_type": "markdown",
   "metadata": {},
   "source": [
    "## Método Backward\n",
    "\n",
    "### `δEδβ`\n",
    "\n",
    "El cálculo de los gradientes del error $E$ con respecto al parámetro $\\beta$ se puede hacer derivando parcialmente como se explicó en guías anteriores:\n",
    "\n",
    "$$\n",
    "\\frac{\\partial E}{\\partial \\beta} = \\frac{\\partial E}{\\partial y} \\cdot \\frac{\\partial y}{\\partial \\beta}\n",
    "$$\n",
    "\n",
    "Como $y$ es un vector de $N$ elementos, tenemos que sumar por todos sus valores para aplicar la regla de la cadena:\n",
    "\n",
    "$$\n",
    "\\frac{\\partial E}{\\partial \\beta} = \\frac{\\partial E}{\\partial y_1} \\cdot \\frac{\\partial y_1}{\\partial \\beta} + \\cdots + \\frac{\\partial E}{\\partial y_N} \\cdot \\frac{\\partial y_N}{\\partial \\beta} \n",
    "\\qquad \\text{donde} \\qquad\n",
    "\\frac{\\partial y_i}{\\partial \\beta} = \\frac{\\partial (\\gamma \\hat{x}_i + \\beta)}{\\partial \\beta} = 1\n",
    "$$\n",
    "\n",
    "de este modo:\n",
    "\n",
    "$$\n",
    "\\frac{\\partial E}{\\partial \\beta} = \\sum\\limits_{i=1}^N \\frac{\\partial E}{\\partial y_i} \\cdot 1\n",
    "$$\n",
    "\n",
    "### `δEδγ`\n",
    "\n",
    "El cálculo de los gradientes del error $E$ con respecto al parámetro $\\gamma$ se puede hacer derivando parcialmente como se explicó en guías anteriores:\n",
    "\n",
    "$$\n",
    "\\frac{\\partial E}{\\partial \\gamma} = \\frac{\\partial E}{\\partial y} \\cdot \\frac{\\partial y}{\\partial \\gamma}\n",
    "$$\n",
    "\n",
    "Como $y$ es un vector de $N$ elementos, tenemos que sumar por todos sus valores para aplicar la regla de la cadena:\n",
    "\n",
    "$$\n",
    "\\frac{\\partial E}{\\partial \\gamma} = \\frac{\\partial E}{\\partial y_1} \\cdot \\frac{\\partial y_1}{\\partial \\gamma} + \\cdots + \\frac{\\partial E}{\\partial y_N} \\cdot \\frac{\\partial y_N}{\\partial \\gamma} \n",
    "\\qquad \\text{donde} \\qquad\n",
    "\\frac{\\partial y_i}{\\partial \\gamma} = \\frac{\\partial (\\gamma \\hat{x}_i + \\beta)}{\\partial \\gamma} = \\hat{x}_i\n",
    "$$\n",
    "\n",
    "de este modo:\n",
    "\n",
    "$$\n",
    "\\frac{\\partial E}{\\partial \\gamma} = \\sum\\limits_{i=1}^N \\frac{\\partial E}{\\partial y_i} \\cdot \\hat{x}_i\n",
    "$$\n",
    "\n",
    "### `δEδx`\n",
    "\n",
    "<!-- Utilizando la regla de la cadena para el cálculo diferencial, esta nos dice que la derivada de una función compuesta es el producto de las derivadas de las funciones que la componen. -->\n",
    "\n",
    "Teniendo en cuenta de qué depende cada función:\n",
    "\n",
    "<center>\n",
    "\n",
    "||||\n",
    "|:-:|:-:|:-:|\n",
    "|$E(y)$|$y(\\hat{x},\\gamma,\\beta)$|$\\hat{x}(\\mu,\\sigma^2,x)$|\n",
    "\n",
    "</center>\n",
    "\n",
    "Obtenemos que:\n",
    "\n",
    "$$\n",
    "\\dfrac{\\partial E}{\\partial x_i} = \\frac{\\partial E}{\\partial \\hat{x}_i} \\cdot \\frac{\\partial \\hat{x}_i}{\\partial x_i} + \\frac{\\partial E}{\\partial \\mu} \\cdot \\frac{\\partial \\mu}{\\partial x_i} + \\frac{\\partial E}{\\partial \\sigma^2} \\cdot \\frac{\\partial \\sigma^2}{\\partial x_i}\n",
    "$$\n",
    "\n",
    "En las siguientes subsecciones calcularemos la expresión correspondiente para el gradiente de cada componente.\n",
    "\n",
    "#### `δEδx̂`\n",
    "\n",
    "$$\n",
    "\\frac{\\partial E}{\\partial \\hat{x}_i} = \\frac{\\partial E}{\\partial y_i} \\cdot \\frac{\\partial y_i}{\\partial \\hat{x}_i} = \\frac{\\partial E}{\\partial y_i} \\cdot \\frac{\\partial (\\gamma \\hat{x}_i + \\beta)}{\\partial \\hat{x}_i} = \\frac{\\partial E}{\\partial y_i} \\cdot \\gamma\n",
    "$$\n",
    "\n",
    "#### `δEδμ`\n",
    "\n",
    "Notar que $\\sigma^2$ se puede escribir en función de $\\mu$, es por ello que $E$ depende de $\\mu$ a traves de dos variables: $\\hat{x}_i$​ y $\\sigma^2$.\n",
    "\n",
    "$$\n",
    "\\dfrac{\\partial E}{\\partial \\mu} = \\frac{\\partial E}{\\partial \\hat{x}_i} \\cdot \\frac{\\partial \\hat{x}_i}{\\partial \\mu} + \\frac{\\partial E}{\\partial \\sigma^2} \\cdot \\frac{\\partial \\sigma^2}{\\partial\\mu}\n",
    "$$\n",
    "\n",
    "Calculando las derivadas parciales para `δx̂δμ` y `δσ²δμ`:\n",
    "\n",
    "$$\n",
    "\\begin{aligned}\n",
    "\\hat{x}_i = \\frac{(x_i - \\mu)}{\\sqrt{\\sigma^2 + \\epsilon}}\n",
    "&\\qquad \\Rightarrow \\qquad\n",
    "\\dfrac{\\partial \\hat{x}_i}{\\partial \\mu} = \\frac{-1}{\\sqrt{\\sigma^2 + \\epsilon}} \\\\\n",
    "\\sigma^2 = \\frac{1}{N} \\sum\\limits_{i=1}^N (x_i - \\mu)^2\n",
    "&\\qquad \\Rightarrow \\qquad\n",
    "\\dfrac{\\partial \\sigma^2}{\\partial \\mu} = \\frac{1}{N} \\sum\\limits_{i=1}^N -2 \\cdot (x_i - \\mu) \\\\\n",
    "\\end{aligned}\n",
    "$$\n",
    "\n",
    "Reemplazando éstas últimas y dejando como variables a los gradientes del error $E$, obtenemos:\n",
    "\n",
    "$$\n",
    "\\begin{aligned}\n",
    "\\frac{\\partial E}{\\partial \\mu} &= \\bigg(\\sum\\limits_{i=1}^N  \\frac{\\partial E}{\\partial \\hat{x}_i} \\cdot \\frac{-1}{\\sqrt{\\sigma^2 + \\epsilon}} \\bigg) + \\bigg( \\frac{\\partial E}{\\partial \\sigma^2} \\cdot \\frac{1}{N} \\sum\\limits_{i=1}^N -2(x_i - \\mu)   \\bigg) \\qquad \\\\\n",
    "&= \\bigg(\\sum\\limits_{i=1}^N  \\frac{\\partial E}{\\partial \\hat{x}_i} \\cdot \\frac{-1}{\\sqrt{\\sigma^2 + \\epsilon}} \\bigg) + \\bigg( \\frac{\\partial E}{\\partial \\sigma^2} \\cdot (-2) \\cdot \\bigg( \\frac{1}{N} \\sum\\limits_{i=1}^N x_i - \\frac{1}{N} \\sum\\limits_{i=1}^N \\mu   \\bigg) \\bigg) \\qquad \\\\\n",
    "&= \\bigg(\\sum\\limits_{i=1}^N  \\frac{\\partial E}{\\partial \\hat{x}_i} \\cdot \\frac{-1}{\\sqrt{\\sigma^2 + \\epsilon}} \\bigg) + \\bigg( \\frac{\\partial E}{\\partial \\sigma^2} \\cdot (-2) \\cdot \\underbrace{\\bigg( \\mu - \\frac{N \\cdot \\mu}{N} \\bigg)}_{0} \\bigg) \\qquad \\\\\n",
    "&= \\sum\\limits_{i=1}^N  \\frac{\\partial E}{\\partial \\hat{x}_i} \\cdot \\frac{-1}{\\sqrt{\\sigma^2 + \\epsilon}} \\qquad \\\\\n",
    "\\end{aligned}\n",
    "$$\n",
    "\n",
    "#### `δEδσ²`\n",
    "\n",
    "$$\\frac{\\partial E}{\\partial \\sigma^2} = \\frac{\\partial E}{\\partial \\hat{x}} \\cdot \\frac{\\partial \\hat{x}}{\\partial \\sigma^2}$$\n",
    "\n",
    "Reescribiendo $\\hat{x}_i$ para que su derivada sea más fácil de calcular, vemos que $(x_i - \\mu)$ pasa a ser un factor constante, de modo que:\n",
    "\n",
    "$$\n",
    "\\hat{x}_i = (x_i - \\mu)(\\sigma^2 + \\epsilon)^{-0.5}\n",
    "\\qquad \\Rightarrow \\qquad\n",
    "\\dfrac{\\partial \\hat{x}}{\\partial \\sigma^2} = -0.5 \\sum\\limits_{i=1}^N (x_i - \\mu) \\cdot (\\sigma^2 + \\epsilon)^{-1.5}\n",
    "$$\n",
    "\n",
    "#### `δEδx` (cont.)\n",
    "\n",
    "Calculando las derivadas parciales restantes (`δx̂δx`, `δμδx` y `δσ²δx`) de la expresión original obtenemos que:\n",
    "\n",
    "<center>\n",
    "\n",
    "||||\n",
    "|:-:|:-:|:-:|\n",
    "|$\\dfrac{\\partial \\hat{x}_i}{\\partial x_i} = \\dfrac{1}{\\sqrt{\\sigma^2 + \\epsilon}}$|$\\dfrac{\\partial \\mu}{\\partial x_i} = \\dfrac{1}{N}$|$\\dfrac{\\partial \\sigma^2}{\\partial x_i} = \\dfrac{2(x_i - \\mu)}{N}$|\n",
    "\n",
    "</center>\n",
    "\n",
    "Finalmente podemos calcular el gradiente del error $E$ con respecto a $x$ utilizando el siguiente truco:\n",
    "\n",
    "$$\n",
    "(\\sigma^2 + \\epsilon)^{-1.5} = (\\sigma^2 + \\epsilon)^{-0.5}(\\sigma^2 + \\epsilon)^{-1} = (\\sigma^2 + \\epsilon)^{-0.5} \\frac{1}{\\sqrt{\\sigma^2 + \\epsilon}}\\frac{1}{\\sqrt{\\sigma^2 + \\epsilon}}\n",
    "$$\n",
    "\n",
    "de este modo:\n",
    "\n",
    "$$\n",
    "\\begin{aligned}\n",
    "\\frac{\\partial E}{\\partial x_i} &= \\bigg(\\frac{\\partial E}{\\partial \\hat{x}_i} \\cdot \\dfrac{1}{\\sqrt{\\sigma^2 + \\epsilon}} \\quad\\; \\bigg) + \\bigg(\\frac{\\partial E}{\\partial \\mu} \\cdot \\dfrac{1}{N} \\qquad\\qquad\\qquad\\!\\! \\bigg) + \\bigg(\\frac{\\partial E}{\\partial \\sigma^2} \\cdot \\dfrac{2(x_i - \\mu)}{N}\\bigg) \\qquad \\\\\n",
    "&= \\bigg(\\frac{\\partial E}{\\partial \\hat{x}_i} \\cdot \\dfrac{1}{\\sqrt{\\sigma^2 + \\epsilon}} \\quad\\; \\bigg) + \\bigg(\\frac{1}{N} \\sum\\limits_{j=1}^N  \\frac{\\partial E}{\\partial \\hat{x}_j} \\cdot \\frac{-1}{\\sqrt{\\sigma^2 + \\epsilon}}\\bigg) + \\bigg(-0.5 \\sum\\limits_{j=1}^N \\frac{\\partial E}{\\partial \\hat{x}_j} \\cdot (x_j - \\mu) \\cdot (\\sigma^2 + \\epsilon)^{-1.5} \\cdot \\dfrac{2(x_i - \\mu)}{N} \\bigg) \\qquad \\\\\n",
    "&= \\bigg(\\frac{\\partial E}{\\partial \\hat{x}_i} \\cdot (\\sigma^2 + \\epsilon)^{-0.5} \\bigg) - \\bigg(\\frac{(\\sigma^2 + \\epsilon)^{-0.5}}{N} \\sum\\limits_{j=1}^N  \\frac{\\partial E}{\\partial \\hat{x}_j} \\;\\, \\bigg) - \\bigg(\\frac{(\\sigma^2 + \\epsilon)^{-0.5}}{N} \\cdot \\frac{x_i - \\mu}{\\sqrt{\\sigma^2 + \\epsilon}} \\sum\\limits_{j=1}^N \\frac{\\partial E}{\\partial \\hat{x}_j} \\cdot \\frac{(x_j - \\mu)}{\\sqrt{\\sigma^2 + \\epsilon}} \\bigg )\\qquad \\\\\n",
    "&= \\bigg(\\frac{\\partial E}{\\partial \\hat{x}_i} \\cdot (\\sigma^2 + \\epsilon)^{-0.5} \\bigg) - \\bigg(\\frac{(\\sigma^2 + \\epsilon)^{-0.5}}{N} \\sum\\limits_{j=1}^N  \\frac{\\partial E}{\\partial \\hat{x}_j} \\;\\, \\bigg) - \\bigg(\\frac{(\\sigma^2 + \\epsilon)^{-0.5}}{N} \\cdot \\hat{x}_i \\sum\\limits_{j=1}^N \\frac{\\partial E}{\\partial \\hat{x}_j} \\cdot \\hat{x}_j \\bigg )\\qquad \\\\\n",
    "&= \\boxed{\\frac{(\\sigma^2 + \\epsilon)^{-0.5}}{N} \\bigg [N \\frac{\\partial E}{\\partial \\hat{x}_i} - \\sum\\limits_{j=1}^N  \\frac{\\partial E}{\\partial \\hat{x}_j} - \\hat{x}_i \\sum\\limits_{j=1}^N \\frac{\\partial E}{\\partial \\hat{x}_j} \\cdot \\hat{x}_j\\bigg ]} \\qquad \\\\\n",
    "&= \\frac{(\\sigma^2 + \\epsilon)^{-0.5}}{N} \\bigg [N \\frac{\\partial E}{\\partial y_i} \\cdot \\gamma - \\sum\\limits_{j=1}^N  \\frac{\\partial E}{\\partial y_j} \\cdot \\gamma - \\hat{x}_i \\sum\\limits_{j=1}^N \\frac{\\partial E}{\\partial y_j} \\cdot \\gamma \\cdot \\hat{x}_j\\bigg ] \\qquad \\\\\n",
    "\\end{aligned}\n",
    "$$\n"
   ]
  },
  {
   "cell_type": "code",
   "execution_count": 7,
   "metadata": {},
   "outputs": [
    {
     "data": {
      "text/plain": [
       "(array([[ 2.89510703e-04, -2.77848552e-04, -8.71412370e-04,\n",
       "         -2.67810219e-05,  4.55331949e-04, -2.21904874e-05,\n",
       "          1.87777622e-06,  2.10144722e-05, -3.15033262e-02,\n",
       "          9.45501401e-04],\n",
       "        [-2.89510703e-04,  2.77848552e-04,  8.71412370e-04,\n",
       "          2.67810219e-05, -4.55331949e-04,  2.21904874e-05,\n",
       "         -1.87777622e-06, -2.10144722e-05,  3.15033262e-02,\n",
       "         -9.45501401e-04]]),\n",
       " {'w': array([ 0.50324365,  0.71064996,  0.28564723, -0.13023102,  0.523444  ,\n",
       "          0.0536546 ,  0.06600998,  0.30423557,  0.35322534, -0.10236735]),\n",
       "  'b': array([0.74458162, 0.9419592 , 0.92034561, 0.95989422, 1.20907299,\n",
       "         0.55457615, 0.90005648, 1.66686055, 1.39494196, 1.12331686])})"
      ]
     },
     "execution_count": 7,
     "metadata": {},
     "output_type": "execute_result"
    }
   ],
   "source": [
    "# Define el gradiente de la salida\n",
    "g = np.random.rand(*y.shape)\n",
    "\n",
    "# Propaga el gradiente hacia atrás a través de la convolución\n",
    "layer_grad = layer.backward(g)\n",
    "layer_grad"
   ]
  },
  {
   "cell_type": "markdown",
   "metadata": {},
   "source": [
    "## Comprobaciones con PyTorch"
   ]
  },
  {
   "cell_type": "code",
   "execution_count": 8,
   "metadata": {},
   "outputs": [
    {
     "data": {
      "text/plain": [
       "tensor([[ 0.7264, -0.4156, -0.2933,  1.1047,  1.1481, -0.0106,  0.7881,  1.1216,\n",
       "          0.6527, -0.1285],\n",
       "        [-0.5422,  1.2830,  1.1550, -0.1173, -0.2965,  0.6352,  0.0646,  0.6651,\n",
       "          1.2356,  1.1322]], grad_fn=<NativeBatchNormBackward0>)"
      ]
     },
     "execution_count": 8,
     "metadata": {},
     "output_type": "execute_result"
    }
   ],
   "source": [
    "import torch\n",
    "import torch.nn as tnn\n",
    "\n",
    "w = torch.from_numpy(w).to(torch.float)\n",
    "b = torch.from_numpy(b).to(torch.float)\n",
    "x = torch.from_numpy(x).to(torch.float)\n",
    "\n",
    "batch_norm = tnn.BatchNorm1d(din)\n",
    "batch_norm.weight.data = w\n",
    "batch_norm.bias.data = b\n",
    "\n",
    "x.requires_grad = True\n",
    "batch_norm.weight.requires_grad = True\n",
    "batch_norm.bias.requires_grad = True\n",
    "\n",
    "y_torch = batch_norm(x)\n",
    "y_torch"
   ]
  },
  {
   "cell_type": "code",
   "execution_count": 9,
   "metadata": {},
   "outputs": [
    {
     "name": "stdout",
     "output_type": "stream",
     "text": [
      "\u001b[42m\u001b[30mSUCCESS :)\u001b[0m Arrays are equal (tolerance 1e-05)\n"
     ]
    }
   ],
   "source": [
    "utils.check_same(y_torch.detach().numpy(),y,tol=1e-5)"
   ]
  },
  {
   "cell_type": "code",
   "execution_count": 10,
   "metadata": {},
   "outputs": [
    {
     "name": "stdout",
     "output_type": "stream",
     "text": [
      "Gradiente de la entrada (δE/δx):\n",
      "tensor([[ 2.8979e-04, -2.7798e-04, -8.7130e-04, -2.6777e-05,  4.5487e-04,\n",
      "         -2.2148e-05,  1.8504e-06,  2.0966e-05, -3.1500e-02,  9.4646e-04],\n",
      "        [-2.8958e-04,  2.7809e-04,  8.7110e-04,  2.6777e-05, -4.5527e-04,\n",
      "          2.2137e-05, -1.8774e-06, -2.1019e-05,  3.1497e-02, -9.4629e-04]]) torch.Size([2, 10])\n",
      "\n",
      "Gradiente de gamma (δE/δγ):\n",
      "tensor([ 0.5032,  0.7106,  0.2856, -0.1302,  0.5234,  0.0537,  0.0660,  0.3042,\n",
      "         0.3532, -0.1024]) torch.Size([10])\n",
      "\n",
      "Gradiente de beta (δE/δβ):\n",
      "tensor([0.7446, 0.9420, 0.9203, 0.9599, 1.2091, 0.5546, 0.9001, 1.6669, 1.3949,\n",
      "        1.1233]) torch.Size([10])\n",
      "\n",
      "Parámetros de la capa BatchNorm:\n",
      "weight tensor([0.6344, 0.8494, 0.7245, 0.6110, 0.7224, 0.3230, 0.3618, 0.2283, 0.2937,\n",
      "        0.6310])\n",
      "bias tensor([0.0921, 0.4337, 0.4309, 0.4937, 0.4258, 0.3123, 0.4264, 0.8934, 0.9442,\n",
      "        0.5018])\n"
     ]
    }
   ],
   "source": [
    "# Define el gradiente de la salida\n",
    "g = torch.from_numpy(g).to(torch.double)\n",
    "\n",
    "# Propaga el gradiente hacia atrás\n",
    "x.grad = None  # Limpiamos los gradientes existentes\n",
    "y_torch.backward(g)\n",
    "\n",
    "# Imprime el gradiente de la imagen de entrada, gamma y beta\n",
    "print(\"Gradiente de la entrada (δE/δx):\")\n",
    "print(x.grad, x.grad.shape)\n",
    "print(\"\\nGradiente de gamma (δE/δγ):\")\n",
    "print(batch_norm.weight.grad, batch_norm.weight.grad.shape)\n",
    "print(\"\\nGradiente de beta (δE/δβ):\")\n",
    "print(batch_norm.bias.grad, batch_norm.bias.grad.shape)\n",
    "\n",
    "# Imprime los parámetros de la capa BatchNorm\n",
    "print(\"\\nParámetros de la capa BatchNorm:\")\n",
    "for name, param in batch_norm.named_parameters():\n",
    "    print(name, param.data)"
   ]
  },
  {
   "cell_type": "code",
   "execution_count": 11,
   "metadata": {},
   "outputs": [
    {
     "name": "stdout",
     "output_type": "stream",
     "text": [
      "\u001b[42m\u001b[30mSUCCESS :)\u001b[0m Arrays are equal (tolerance 1e-05)\n"
     ]
    }
   ],
   "source": [
    "utils.check_same(x.grad.numpy(),layer_grad[0],tol=1e-5)"
   ]
  },
  {
   "cell_type": "code",
   "execution_count": 12,
   "metadata": {},
   "outputs": [
    {
     "name": "stdout",
     "output_type": "stream",
     "text": [
      "\u001b[42m\u001b[30mSUCCESS :)\u001b[0m Arrays are equal (tolerance 1e-05)\n"
     ]
    }
   ],
   "source": [
    "utils.check_same(batch_norm.weight.grad.numpy(),layer_grad[1]['w'],tol=1e-5)"
   ]
  },
  {
   "cell_type": "code",
   "execution_count": 13,
   "metadata": {},
   "outputs": [
    {
     "name": "stdout",
     "output_type": "stream",
     "text": [
      "\u001b[42m\u001b[30mSUCCESS :)\u001b[0m Arrays are equal (tolerance 1e-05)\n"
     ]
    }
   ],
   "source": [
    "utils.check_same(batch_norm.bias.grad.numpy(),layer_grad[1]['b'],tol=1e-5)"
   ]
  },
  {
   "cell_type": "code",
   "execution_count": 14,
   "metadata": {},
   "outputs": [
    {
     "name": "stdout",
     "output_type": "stream",
     "text": [
      "\u001b[104m\u001b[30mBatchNorm_1 layer:\u001b[0m\n",
      "\u001b[41m\u001b[30m ERROR \u001b[0m\n",
      "δEδx\n",
      " Relative error (max):0.20005 (tolerance: 1e-05)\n",
      "\u001b[0m######################## Details: ######################## \n",
      " Input x:\n",
      "[[-0.5489551   1.80597011  1.51886562 -0.35400011 -0.82343141  0.13021495\n",
      "   1.26729865  0.33276498  0.5565487  -0.21208012]\n",
      " [ 0.4562709   1.54454445 -0.23966878  0.14330773  0.25381648  0.28372536\n",
      "  -1.41188888 -1.87686866 -1.01965507  0.1679423 ]]\n",
      " Input δEδy:\n",
      "[[ 0.55385617 -0.53067456  1.37725748 -0.14317597  0.020316   -0.19396387\n",
      "   0.13402679  0.70447407  0.66565344 -0.89842294]\n",
      " [ 1.52366378 -1.09502646  0.07922701 -0.27439657 -1.04899168 -0.07512059\n",
      "  -0.74081377  0.07290724  0.40308596  1.47192937]]\n",
      " δEδx (numerical, automatic):\n",
      "[[ 7.85297926e-05 -6.29592753e-04  2.80610755e-05 -1.29596637e-04\n",
      "  -1.41530727e-05  1.08539892e-03  3.29570705e-07  2.62805824e-06\n",
      "   6.47174430e-06  6.99965057e-04]\n",
      " [-7.85321398e-05  6.29520508e-04 -2.80606161e-05  1.29604454e-04\n",
      "   1.41534645e-05 -1.08561070e-03 -3.29565849e-07 -2.62801577e-06\n",
      "  -6.47162186e-06 -7.00020304e-04]]\n",
      " δEδx (analytic, your implementation):\n",
      "[[ 5.23539912e-05 -4.19704417e-04  1.87072289e-05 -8.64003625e-05\n",
      "  -9.43551288e-06  7.23669856e-04  2.19711907e-07  1.75202348e-06\n",
      "   4.31445523e-06  4.66661787e-04]\n",
      " [-5.23539912e-05  4.19704417e-04 -1.87072289e-05  8.64003625e-05\n",
      "   9.43551288e-06 -7.23669856e-04 -2.19711907e-07 -1.75202348e-06\n",
      "  -4.31445523e-06 -4.66661787e-04]]\n",
      "##########################################################\n",
      "\u001b[0m\n",
      "\u001b[41m\u001b[30m ERROR \u001b[0m\n",
      "δEδw\n",
      " Relative error (max):0.20000 (tolerance: 1e-05)\n",
      "\u001b[0m######################## Details: ######################## \n",
      " Input w:\n",
      "[-1.37094847 -0.33247528  1.95941134 -2.02504576 -0.27578601 -0.55210807\n",
      "  0.12074736  0.74821562  1.60869097 -0.27023239]\n",
      " Input δEδy:\n",
      "[[ 0.55385617 -0.53067456  1.37725748 -0.14317597  0.020316   -0.19396387\n",
      "   0.13402679  0.70447407  0.66565344 -0.89842294]\n",
      " [ 1.52366378 -1.09502646  0.07922701 -0.27439657 -1.04899168 -0.07512059\n",
      "  -0.74081377  0.07290724  0.40308596  1.47192937]]\n",
      " δEδw (numerical, automatic):\n",
      "[ 1.45468262  0.84628023  1.94703311 -0.19681498 -1.60393387  0.17811382\n",
      "  1.31225719  0.94734637  0.39384804  3.55503617]\n",
      " δEδw (analytic, your implementation):\n",
      "[ 0.96978842  0.56418682  1.29802207 -0.13120999 -1.06928925  0.11874255\n",
      "  0.87483813  0.63156424  0.26256536  2.37002411]\n",
      "##########################################################\n",
      "\u001b[0m\n",
      "\u001b[41m\u001b[30m ERROR \u001b[0m\n",
      "δEδb\n",
      " Relative error (max):0.20000 (tolerance: 1e-05)\n",
      "\u001b[0m######################## Details: ######################## \n",
      " Input b:\n",
      "[ 0.81234133  0.49974014  0.4743473  -0.56392393 -0.99732147 -1.10004311\n",
      " -0.75643721  0.32168658  0.76094939  0.32346885]\n",
      " Input δEδy:\n",
      "[[ 0.55385617 -0.53067456  1.37725748 -0.14317597  0.020316   -0.19396387\n",
      "   0.13402679  0.70447407  0.66565344 -0.89842294]\n",
      " [ 1.52366378 -1.09502646  0.07922701 -0.27439657 -1.04899168 -0.07512059\n",
      "  -0.74081377  0.07290724  0.40308596  1.47192937]]\n",
      " δEδb (numerical, automatic):\n",
      "[ 3.11627991 -2.43855153  2.18472675 -0.62635882 -1.54301352 -0.40362669\n",
      " -0.91018047  1.16607198  1.6031091   0.86025964]\n",
      " δEδb (analytic, your implementation):\n",
      "[ 2.07751994 -1.62570102  1.4564845  -0.41757255 -1.02867568 -0.26908446\n",
      " -0.60678698  0.77738132  1.0687394   0.57350643]\n",
      "##########################################################\n",
      "\u001b[0m\n"
     ]
    }
   ],
   "source": [
    "samples = 100\n",
    "batch_size=2\n",
    "din=10 # dimensión de entrada\n",
    "input_shape=(batch_size,din)\n",
    "\n",
    "# Verificar las derivadas de un modelo de BatchNorm\n",
    "# con valores aleatorios de `w`, `b`, y `x`, la entrada\n",
    "layer=nn.BatchNorm(din)\n",
    "\n",
    "\n",
    "utils.check_gradient.common_layer(layer,input_shape,samples=samples,tolerance=1e-5)    "
   ]
  }
 ],
 "metadata": {
  "kernelspec": {
   "display_name": "Python 3.10.4 ('captum')",
   "language": "python",
   "name": "python3"
  },
  "language_info": {
   "codemirror_mode": {
    "name": "ipython",
    "version": 3
   },
   "file_extension": ".py",
   "mimetype": "text/x-python",
   "name": "python",
   "nbconvert_exporter": "python",
   "pygments_lexer": "ipython3",
   "version": "3.10.4"
  },
  "vscode": {
   "interpreter": {
    "hash": "27cd8888c451505594cd6ce93183113956b3735aa05f73d7c3cf078349bc9fda"
   }
  }
 },
 "nbformat": 4,
 "nbformat_minor": 2
}
