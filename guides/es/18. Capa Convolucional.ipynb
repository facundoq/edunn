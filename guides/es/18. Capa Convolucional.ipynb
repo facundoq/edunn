{
 "cells": [
  {
   "cell_type": "code",
   "execution_count": 1,
   "metadata": {},
   "outputs": [],
   "source": [
    "import sys\n",
    "sys.path.insert(0, '../..')"
   ]
  },
  {
   "cell_type": "code",
   "execution_count": 2,
   "metadata": {},
   "outputs": [],
   "source": [
    "%load_ext autoreload\n",
    "%autoreload 2\n",
    "import numpy as np\n",
    "import edunn as nn\n",
    "from edunn import utils"
   ]
  },
  {
   "cell_type": "code",
   "execution_count": 3,
   "metadata": {},
   "outputs": [],
   "source": [
    "np.set_printoptions(threshold=sys.maxsize)"
   ]
  },
  {
   "cell_type": "markdown",
   "metadata": {},
   "source": [
    "# Capa Convolucional 1D\n",
    "\n",
    "La convolución es una operación matemática fundamental en el procesamiento de señales y sistemas. Se utiliza ampliamente para el filtrado de señales, el suavizado de datos y la detección de características.\n",
    "\n",
    "En el contexto del procesamiento de señales, la convolución 1D se utiliza para extraer ciertas características de la señal, como bordes en el caso de las imágenes, o para eliminar ruido.\n",
    "\n",
    "$$\n",
    "y[n] = (x \\circledast w) = \\sum_{k} w[k] \\cdot x[n+k]\n",
    "$$\n",
    "\n",
    "> NOTA: a cotinuación se explica cómo realizar la capa ``Conv2d``, donde su versión en 1D se puede interpretar como un caso particular de ella, de modo que la dimensión de la altura es siempre 1 e implica que el _stride_ y _padding_ sean en ese caso 1 y 0 respectivamente."
   ]
  },
  {
   "cell_type": "markdown",
   "metadata": {},
   "source": [
    "# Capa Convolucional 2D\n",
    "\n",
    "Siguiendo la misma idea, podemos extender el concepto de convolución sobre matrices. Es decir, una convolución en 2 dimensiones. Esto nos sirve para imágenes en escala de grises, RGB y por lotes."
   ]
  },
  {
   "cell_type": "markdown",
   "metadata": {},
   "source": [
    "## Método Forward\n",
    "\n",
    "Una capa convolucional 2D se forma aplicando una operación de convolución 2D a la entrada, seguida de una adición de Bias si se desea. La convolución es una operación sobre dos funciones $x$ y $w$, que produce una tercera función que puede ser interpretada como una versión de la entrada $x$ \"filtrada\" por $w$ (también conocido como kernel). \n",
    "\n",
    "* Si bien la convolución se define en forma continua, a nosotros nos interesa su versión discreta.\n",
    "\n",
    "Entonces, dado un batch de imágenes de entrada de shape $(N,C_{\\text{in}},H,W)$ y un batch de filtros de shape $(M,C_{\\text{out}},F,F)$, la operación de convolución se puede expresar como:\n",
    "\n",
    "$$\n",
    "y[l,m,i,j] = (x \\circledast w) = \\sum_{a}\\sum_{b} w[m,:,a,b] \\cdot x[l,:,i+a,j+b]\n",
    "$$\n",
    "\n",
    "Donde $N$ es la cantidad de imágenes del lote, $C_{\\text{in/out}}$ es el número de canales de la imagen de entrada y feature map de salida (respectivamente), $M$ es la cantidad de feature maps deseados y $F$ es el tamaño del kernel.\n",
    "\n",
    "En esta fórmula se ve que las sumas se realizan sobre las dimensiones del kernel y sobre los $C$ canales a la vez, además se asume que el **stride** (paso) es de 1 y el **padding** (relleno) es de 0. El término de bias se suma después de la operación de convolución.\n",
    "\n",
    "* Las funciones de activación pueden funcionar de manera matricial, aplicándose a cada valor de $y[k,i,j]$ sin necesidad de cambio alguno.\n",
    "\n",
    "|||\n",
    "|:-:|:-:|\n",
    "|![conv2d_forward.gif](img/conv2d_forward.gif)|![conv2d_multilayer.gif](img/conv2d_multilayer.gif)|\n"
   ]
  },
  {
   "cell_type": "markdown",
   "metadata": {},
   "source": [
    "### Hiperparámetros\n",
    "\n",
    "El tamaño de la matriz resultante $y$ y está estrictamente relacionado por los siguientes parámetros:\n",
    "\n",
    "* `kernel_size`: es el tamaño del filtro utilizado.\n",
    "* `stride`: es el número de saltos que da el filtro cada vez que se aplica. \n",
    "* `padding`: es la cantidad de píxeles rellenos con cero en los bordes.\n",
    "   * Aplicar el filtro de forma discreta ocasiona dos problemas:\n",
    "       * Pérdida de información en los bordes.\n",
    "       * Reducción del tamaño final del vector.\n",
    "   <!-- * Se utiliza para obtener una imagen resultante de un tamaño buscado. -->\n",
    "\n",
    "|strides|padding|\n",
    "|:-:|:-:|\n",
    "|![conv2d_strides.gif](img/conv2d_strides.gif)|![conv2d_padding.gif](img/conv2d_padding.gif)|\n",
    "\n",
    "### Shapes\n",
    "\n",
    "El tamaño de la salida $y$ (es decir, los feature maps resultantes) depende del tamaño $H_{in} \\times W_{in}$ de la imagen de entrada, el tamaño del kernel $F$, el stride (paso) $S$ y el padding (relleno) $P$. La fórmula general para calcular la altura $H_{out}$ y el ancho $W_{out}$ de la salida en una capa convolucional es:\n",
    "\n",
    "$$\n",
    "\\begin{aligned}\n",
    "A_{out} &= \\left\\lfloor \\frac{A_{in} - F + 2P}{S} \\right\\rfloor + 1 & \\text{donde $A \\in \\{W, H\\}$} \\\\\n",
    "\\end{aligned}\n",
    "$$\n",
    "\n",
    "Por lo tanto, el shape de la salida $y$ es $(N, M, H_{out}, W_{out})$. El shape del bias depende únicamente del número de feature maps $M$. Notar que:\n",
    "\n",
    "- El tamaño del batch en la salida es igual al tamaño del batch en la entrada. Esto se debe a que cada imagen en el batch se procesa de forma independiente.\n",
    "- El tamaño de los canales en la salida es igual al tamaño del batch en el kernel. Esto se debe a que cada canal de salida se genera al convolucionar la entrada con un kernel diferente.\n"
   ]
  },
  {
   "cell_type": "markdown",
   "metadata": {},
   "source": [
    "### Implementación\n",
    "\n",
    "Similarmente como sucede con el Modelo Lineal, en lugar de ver a $y$ como $x \\circledast w + b$, podemos verlo como `x -> Convolution -> Bias -> y`. Es decir, como una sucesión de capas, donde cada una transforma la entrada `x` hasta obtener la salida `y`.\n",
    "\n",
    "En términos de código, el método `forward` de un modelo de `Convolution` es la composición de las funciones `forward` de las capas `Convolution` y `Bias`:\n",
    "\n",
    "```python\n",
    "y_conv = conv2d(x)  # Implementar la función dentro del mismo modelo\n",
    "y = bias.forward(y_conv)\n",
    "```\n",
    "\n",
    "> TIP: la operación de convolución también se puede representar como la **cross-correlation** entre $x$ y $\\text{rot}_{180^\\circ } \\left \\{ w \\right \\}$, es decir:\n",
    "> $$\n",
    "y = \\left( \\begin{bmatrix} x_{11} & x_{12} & x_{13} \\\\ x_{21} & x_{22} & x_{23} \\\\ x_{31} & x_{32} & x_{33} \\end{bmatrix}  \\circledast \\begin{bmatrix} w_{11} & w_{12} \\\\ w_{21} & w_{22} \\end{bmatrix} \\right)\n",
    "\\Leftrightarrow\n",
    "\\left( \\begin{bmatrix} x_{11} & x_{12} & x_{13} \\\\ x_{21} & x_{22} & x_{23} \\\\ x_{31} & x_{32} & x_{33} \\end{bmatrix} \\star \\begin{bmatrix} w_{22} & w_{21} \\\\ w_{12} & w_{11} \\end{bmatrix} \\right) = y\n",
    "$$\n",
    "\n",
    "Implementa el método `forward` del modelo `Convolution` en el archivo `edunn/models/convolution.py`."
   ]
  },
  {
   "cell_type": "code",
   "execution_count": 4,
   "metadata": {},
   "outputs": [],
   "source": [
    "np.random.seed(123)\n",
    "\n",
    "x = np.random.rand(2,3,7,7)\n",
    "w = np.random.rand(4,3,5,5)\n",
    "                       \n",
    "stride,padding=2,1\n",
    "kernel_initializer = nn.initializers.Constant(w)\n",
    "\n",
    "layer=nn.Conv2d(x.shape[1],w.shape[0],kernel_size=w.shape[2:],stride=stride,padding=padding,kernel_initializer=kernel_initializer)"
   ]
  },
  {
   "cell_type": "code",
   "execution_count": 5,
   "metadata": {},
   "outputs": [
    {
     "data": {
      "text/plain": [
       "(array([[[[13.67533187, 15.06363019, 10.86259051],\n",
       "          [18.23903647, 18.76882808, 13.67438621],\n",
       "          [13.09918212, 15.0233942 , 10.85365125]],\n",
       " \n",
       "         [[12.01869291, 14.31386561, 10.51646907],\n",
       "          [16.51396448, 18.93949341, 13.34667392],\n",
       "          [13.17224211, 17.20560982, 11.59793342]],\n",
       " \n",
       "         [[12.78086503, 14.91756095, 11.60440143],\n",
       "          [17.35654321, 19.83030544, 15.04708379],\n",
       "          [13.83003073, 15.60867416, 12.57713001]],\n",
       " \n",
       "         [[12.73609136, 15.33298352, 10.88211767],\n",
       "          [15.71015046, 20.29708406, 13.69851101],\n",
       "          [13.76077383, 17.26098446, 11.3925364 ]]],\n",
       " \n",
       " \n",
       "        [[[13.5167941 , 15.23910784, 12.46319048],\n",
       "          [14.68162586, 18.6930386 , 13.99787793],\n",
       "          [11.41059579, 13.86668801, 11.81574336]],\n",
       " \n",
       "         [[12.04153096, 15.6246846 , 10.85810122],\n",
       "          [14.61019629, 17.68460619, 15.09498775],\n",
       "          [11.48820518, 13.60652163, 11.5175481 ]],\n",
       " \n",
       "         [[11.95764005, 14.67584135, 11.51677327],\n",
       "          [13.98117214, 18.72518592, 14.61679238],\n",
       "          [11.96651134, 13.96987993, 12.12302267]],\n",
       " \n",
       "         [[11.41127566, 15.70399538, 12.28891081],\n",
       "          [15.45398499, 16.70850699, 15.270726  ],\n",
       "          [12.44681664, 13.69494368, 12.96374496]]]]),\n",
       " (2, 4, 3, 3))"
      ]
     },
     "execution_count": 5,
     "metadata": {},
     "output_type": "execute_result"
    }
   ],
   "source": [
    "y = layer.forward(x)\n",
    "y, y.shape"
   ]
  },
  {
   "cell_type": "markdown",
   "metadata": {},
   "source": [
    "## Método Backward\n",
    "\n",
    "Conociendo el gradiente de la función de error con respecto a los píxeles de salida, debemos calcular el gradiente total del error con respecto a los píxeles de entrada y los pesos de los filtros. Utilizando la regla de la cadena y derivadas parciales podemos llegar a las expresiones:\n",
    "\n",
    "$$\n",
    "\\frac{\\partial E}{\\partial x_{mn}}=\\sum_{ij}\\frac{\\partial E}{\\partial y_{ij}}\\frac{\\partial y_{ij}}{\\partial x_{mn}} \n",
    "\\quad\\quad\\quad\n",
    "\\frac{\\partial E}{\\partial w_{mn}}=\\sum_{ij}\\frac{\\partial E}{\\partial y_{ij}}\\frac{\\partial y_{ij}}{\\partial w_{mn}}\n",
    "$$\n",
    "\n",
    "Donde cada píxel $x_{mn}$ de la entrada y del filtro $w_{mn}$ contribuye a uno o más píxeles $y_{ij}$ de salida, siendo solo los píxeles de salida que aparecen en las ecuaciones anteriores para un dado $x$ o $w$ los que contribuyen durante el cálculo del forward.\n"
   ]
  },
  {
   "cell_type": "markdown",
   "metadata": {},
   "source": [
    "### SIN stride o padding\n",
    "\n",
    "La explicación de su cálculo es sencilla a partir de un ejemplo, supongamos que $x \\in \\mathbb{R}^{(3\\times 3)}$ y $w \\in \\mathbb{R}^{(2\\times 2)}$, de modo los $y_{ij}$ se definen como:\n",
    "\n",
    "$$\\begin{aligned}\n",
    "y_{11} &= x_{11}w_{11} + x_{12}w_{12} + x_{21}w_{21} + x_{22}w_{22} \\\\\n",
    "y_{12} &= x_{12}w_{11} + x_{13}w_{12} + x_{22}w_{21} + x_{23}w_{22} \\\\\n",
    "y_{21} &= x_{21}w_{11} + x_{22}w_{12} + x_{31}w_{21} + x_{32}w_{22} \\\\\n",
    "y_{22} &= x_{22}w_{11} + x_{23}w_{12} + x_{32}w_{21} + x_{33}w_{22}\n",
    "\\end{aligned}$$\n",
    "\n",
    "#### `δE/δw`\n",
    "\n",
    "El cálculo de los gradientes del error $E$ con respecto al filtro $w$ (vector de pesos aprendido) se puede hacer derivando parcialmente como se explicó en guías anteriores:\n",
    "\n",
    "$$\n",
    "\\begin{aligned}\n",
    "\\frac{\\partial E}{\\partial w_{11}} &= \\frac{\\partial E}{\\partial y_{11}} \\frac{\\partial y_{11}}{\\partial w_{11}} + \\frac{\\partial E}{\\partial y_{12}} \\frac{\\partial y_{12}}{\\partial w_{11}} + \\frac{\\partial E}{\\partial y_{21}} \\frac{\\partial y_{21}}{\\partial w_{11}} + \\frac{\\partial E}{\\partial y_{22}} \\frac{\\partial y_{22}}{\\partial w_{11}}\n",
    "\\\\\n",
    "\\frac{\\partial E}{\\partial w_{12}} &= \\frac{\\partial E}{\\partial y_{11}} \\frac{\\partial y_{11}}{\\partial w_{12}} + \\frac{\\partial E}{\\partial y_{12}} \\frac{\\partial y_{12}}{\\partial w_{12}} + \\frac{\\partial E}{\\partial y_{21}} \\frac{\\partial y_{21}}{\\partial w_{12}} + \\frac{\\partial E}{\\partial y_{22}} \\frac{\\partial y_{22}}{\\partial w_{12}}\n",
    "\\\\\n",
    "\\frac{\\partial E}{\\partial w_{21}} &= \\frac{\\partial E}{\\partial y_{11}} \\frac{\\partial y_{11}}{\\partial w_{21}} + \\frac{\\partial E}{\\partial y_{12}} \\frac{\\partial y_{12}}{\\partial w_{21}} + \\frac{\\partial E}{\\partial y_{21}} \\frac{\\partial y_{21}}{\\partial w_{21}} + \\frac{\\partial E}{\\partial y_{22}} \\frac{\\partial y_{22}}{\\partial w_{21}}\n",
    "\\\\\n",
    "\\frac{\\partial E}{\\partial w_{22}} &= \\frac{\\partial E}{\\partial y_{11}} \\frac{\\partial y_{11}}{\\partial w_{22}} + \\frac{\\partial E}{\\partial y_{12}} \\frac{\\partial y_{12}}{\\partial w_{22}} + \\frac{\\partial E}{\\partial y_{21}} \\frac{\\partial y_{21}}{\\partial w_{22}} + \\frac{\\partial E}{\\partial y_{22}} \\frac{\\partial y_{22}}{\\partial w_{22}}\n",
    "\\end{aligned}\n",
    "$$\n",
    "\n",
    "Donde utilizando las ecuaciones anteriormente definidas al principio de esta celda, es fácil ver que:\n",
    "\n",
    "$$\n",
    "\\begin{aligned}\n",
    "\\frac{\\partial E}{\\partial w_{11}} &= \\frac{\\partial E}{\\partial y_{11}} x_{11} + \\frac{\\partial E}{\\partial y_{12}} x_{12} + \\frac{\\partial E}{\\partial y_{21}} x_{21} + \\frac{\\partial E}{\\partial y_{22}} x_{22}\n",
    "\\\\\n",
    "\\frac{\\partial E}{\\partial w_{12}} &= \\frac{\\partial E}{\\partial y_{11}} x_{12} + \\frac{\\partial E}{\\partial y_{12}} x_{13} + \\frac{\\partial E}{\\partial y_{21}} x_{22} + \\frac{\\partial E}{\\partial y_{22}} x_{23}\n",
    "\\\\\n",
    "\\frac{\\partial E}{\\partial w_{21}} &= \\frac{\\partial E}{\\partial y_{11}} x_{21} + \\frac{\\partial E}{\\partial y_{12}} x_{22} + \\frac{\\partial E}{\\partial y_{21}} x_{31} + \\frac{\\partial E}{\\partial y_{22}} x_{32}\n",
    "\\\\\n",
    "\\frac{\\partial E}{\\partial w_{22}} &= \\frac{\\partial E}{\\partial y_{11}} x_{22} + \\frac{\\partial E}{\\partial y_{12}} x_{23} + \\frac{\\partial E}{\\partial y_{21}} x_{32} + \\frac{\\partial E}{\\partial y_{22}} x_{33}\n",
    "\\end{aligned}\n",
    "$$\n",
    "\n",
    "Tiene un patrón idéntico al de una convolución entre $x$ y $\\frac{\\delta E}{\\delta y}$:\n",
    "\n",
    "$$\n",
    "\\frac{\\delta E}{\\delta w} = \\begin{bmatrix} x_{11} & x_{12} & x_{13} \\\\ x_{21} & x_{22} & x_{23} \\\\ x_{31} & x_{32} & x_{33} \\end{bmatrix}  \\circledast \\begin{bmatrix} \\frac{\\partial E}{\\partial y_{11}} & \\frac{\\partial E}{\\partial y_{12}} \\\\ \\frac{\\partial E}{\\partial y_{21}} & \\frac{\\partial E}{\\partial y_{22}} \\end{bmatrix} = x \\circledast \\frac{\\delta E}{\\delta y}\n",
    "$$\n",
    "\n",
    "#### `δE/δx`\n",
    "\n",
    "El razonamiento para el cálculo de los gradientes del $E$ con respecto a la imagen de entrada $x$ es el mismo que antes:\n",
    "\n",
    "$$\n",
    "\\begin{aligned}\n",
    "\\frac{\\partial E}{\\partial x_{11}}&=\\frac{\\partial E}{\\partial y_{11}}w_{11}+\\frac{\\partial E}{\\partial y_{12}}\\;\\:\\, 0 \\;+\\frac{\\partial E}{\\partial y_{21}}\\;\\:\\, 0 \\;+\\frac{\\partial E}{\\partial y_{22}}\\;\\:\\, 0 \\; \n",
    "\\\\\n",
    "\\frac{\\partial E}{\\partial x_{12}}&=\\frac{\\partial E}{\\partial y_{11}}w_{12}+\\frac{\\partial E}{\\partial y_{12}}w_{11}+\\frac{\\partial E}{\\partial y_{21}}\\;\\:\\, 0 \\;+\\frac{\\partial E}{\\partial y_{22}}\\;\\:\\, 0 \\; \n",
    "\\\\\n",
    "\\frac{\\partial E}{\\partial x_{13}}&=\\frac{\\partial E}{\\partial y_{11}}\\;\\:\\, 0 \\;+\\frac{\\partial E}{\\partial y_{12}}w_{12}+\\frac{\\partial E}{\\partial y_{21}}\\;\\:\\, 0 \\;+\\frac{\\partial E}{\\partial y_{22}}\\;\\:\\, 0 \\; \n",
    "\\\\\n",
    "\\frac{\\partial E}{\\partial x_{21}}&=\\frac{\\partial E}{\\partial y_{11}}w_{21}+\\frac{\\partial E}{\\partial y_{12}}\\;\\:\\, 0 \\;+\\frac{\\partial E}{\\partial y_{21}}w_{11}+\\frac{\\partial E}{\\partial y_{22}}\\;\\:\\, 0 \\; \n",
    "\\\\\n",
    "\\frac{\\partial E}{\\partial x_{22}}&=\\frac{\\partial E}{\\partial y_{11}}w_{22}+\\frac{\\partial E}{\\partial y_{12}}w_{21}+\\frac{\\partial E}{\\partial y_{21}}w_{12}+\\frac{\\partial E}{\\partial y_{22}}w_{11} \n",
    "\\\\\n",
    "\\frac{\\partial E}{\\partial x_{23}}&=\\frac{\\partial E}{\\partial y_{11}}\\;\\:\\, 0 \\;+\\frac{\\partial E}{\\partial y_{12}}w_{22}+\\frac{\\partial E}{\\partial y_{21}}\\;\\:\\, 0 \\;+\\frac{\\partial E}{\\partial y_{22}}w_{11} \n",
    "\\\\\n",
    "\\frac{\\partial E}{\\partial x_{31}}&=\\frac{\\partial E}{\\partial y_{11}}\\;\\:\\, 0 \\;+\\frac{\\partial E}{\\partial y_{12}}\\;\\:\\, 0 \\;+\\frac{\\partial E}{\\partial y_{21}}w_{21}+\\frac{\\partial E}{\\partial y_{22}}\\;\\:\\, 0 \\; \n",
    "\\\\\n",
    "\\frac{\\partial E}{\\partial x_{32}}&=\\frac{\\partial E}{\\partial y_{11}}\\;\\:\\, 0 \\;+\\frac{\\partial E}{\\partial y_{12}}\\;\\:\\, 0 \\;+\\frac{\\partial E}{\\partial y_{21}}w_{22}+\\frac{\\partial E}{\\partial y_{22}}w_{21} \n",
    "\\\\\n",
    "\\frac{\\partial E}{\\partial x_{33}}&=\\frac{\\partial E}{\\partial y_{11}}\\;\\:\\, 0 \\;+\\frac{\\partial E}{\\partial y_{12}}\\;\\:\\, 0 \\;+\\frac{\\partial E}{\\partial y_{21}}\\;\\:\\, 0 \\;+\\frac{\\partial E}{\\partial y_{22}}w_{22} \n",
    "\\end{aligned}\n",
    "$$\n",
    "\n",
    "Tal cálculo se puede automatizar mediante el operador de **full-convolution**, en la que se aplica padding a la entrada de tal manera que la dimensión de la salida sea la misma que la de la entrada. Además, para poder representarlo de tal manera, es obligatorio que la matriz de filtros $w$ se rote 180°. \n",
    "\n",
    "$$\n",
    "\\frac{\\delta E}{\\delta x} = \\begin{bmatrix} \\frac{\\partial E}{\\partial y_{11}} & \\frac{\\partial E}{\\partial y_{12}} \\\\ \\frac{\\partial E}{\\partial y_{21}} & \\frac{\\partial E}{\\partial y_{22}} \\end{bmatrix} \\circledast \\begin{bmatrix} w_{22} & w_{21} \\\\ w_{12} & w_{11} \\end{bmatrix} = \\left. \\left[ \\frac{\\delta E}{\\delta y} \\circledast \\text{rot}_{180^\\circ } \\left \\{ w \\right \\} \\right] \\right|_{\\text{full-padding=F-1}}\n",
    "$$\n",
    "\n",
    "![conv2d_backward.gif](img/conv2d_backward.gif)\n",
    "\n",
    "La fórmula para lograr el padding adecuado es fácil deducirla y queda como ejercicio para el lector demostrarla (puede encontrar ayuda en el blog [cs231n](https://cs231n.github.io/convolutional-networks/)).\n"
   ]
  },
  {
   "cell_type": "markdown",
   "metadata": {},
   "source": [
    "### CON stride y padding\n",
    "\n",
    "La explicación de su cálculo es sencilla a partir de un ejemplo, supongamos que $x \\in \\mathbb{R}^{(5\\times 5)}$ y $w \\in \\mathbb{R}^{(3\\times 3)}$, con $S=2$ de modo los $y_{ij}$ se definen como:\n",
    "\n",
    "$$\\begin{aligned}\n",
    "y_{11} &=x_{11}w_{11}+x_{12}w_{12}+x_{13}w_{13}+x_{21}w_{21}+x_{22}w_{22}+x_{23}w_{23}+x_{31}w_{31}+x_{32}w_{32}+x_{33}w_{33} \\\\\n",
    "y_{12} &=x_{13}w_{11}+x_{14}w_{12}+x_{15}w_{13}+x_{23}w_{21}+x_{24}w_{22}+x_{25}w_{23}+x_{33}w_{31}+x_{34}w_{32}+x_{35}w_{33} \\\\\n",
    "y_{21} &=x_{31}w_{11}+x_{32}w_{12}+x_{33}w_{13}+x_{41}w_{21}+x_{42}w_{22}+x_{43}w_{23}+x_{51}w_{31}+x_{52}w_{32}+x_{53}w_{33} \\\\\n",
    "y_{22} &=x_{33}w_{11}+x_{34}w_{12}+x_{35}w_{13}+x_{43}w_{21}+x_{44}w_{22}+x_{45}w_{23}+x_{53}w_{31}+x_{54}w_{32}+x_{55}w_{33} \n",
    "\\end{aligned}$$\n",
    "\n",
    "#### `δE/δx`\n",
    "\n",
    "Debido al tamaño de la entrada, la cantidad de derivadas parciales de $E$ respecto de los $x_{mn}$ es sustancialmente mayor a la de ejemplos previos, por lo tanto se deja oculta su demostración quedando en el lector si quiere incurrir en el _inhóspito_ cálculo de las mismas.\n",
    "\n",
    "<details><summary>Demostración</summary>\n",
    "\n",
    "$$\n",
    "\\begin{aligned}\n",
    "\\frac{\\partial E}{\\partial x_{11}}&=\n",
    "    \\frac{\\partial E}{\\partial y_{11}}w_{11}+\n",
    "    \\frac{\\partial E}{\\partial y_{12}}\\;\\:\\, 0 \\;+\n",
    "    \\frac{\\partial E}{\\partial y_{21}}\\;\\:\\, 0 \\;+\n",
    "    \\frac{\\partial E}{\\partial y_{22}}\\;\\:\\, 0 \\; \\\\\n",
    "\\frac{\\partial E}{\\partial x_{12}}&=\n",
    "    \\frac{\\partial E}{\\partial y_{11}}w_{12}+\n",
    "    \\frac{\\partial E}{\\partial y_{12}}\\;\\:\\, 0 \\;+\n",
    "    \\frac{\\partial E}{\\partial y_{21}}\\;\\:\\, 0 \\;+\n",
    "    \\frac{\\partial E}{\\partial y_{22}}\\;\\:\\, 0 \\; \\\\\n",
    "\\frac{\\partial E}{\\partial x_{13}}&=\n",
    "    \\frac{\\partial E}{\\partial y_{11}}w_{13}+\n",
    "    \\frac{\\partial E}{\\partial y_{12}}w_{11}+\n",
    "    \\frac{\\partial E}{\\partial y_{21}}\\;\\:\\, 0 \\;+\n",
    "    \\frac{\\partial E}{\\partial y_{22}}\\;\\:\\, 0 \\; \\\\\n",
    "\\frac{\\partial E}{\\partial x_{14}}&=\n",
    "    \\frac{\\partial E}{\\partial y_{11}}\\;\\:\\, 0 \\;+\n",
    "    \\frac{\\partial E}{\\partial y_{12}}w_{12}+\n",
    "    \\frac{\\partial E}{\\partial y_{21}}\\;\\:\\, 0 \\;+\n",
    "    \\frac{\\partial E}{\\partial y_{22}}\\;\\:\\, 0 \\; \\\\\n",
    "\\frac{\\partial E}{\\partial x_{15}}&=\n",
    "    \\frac{\\partial E}{\\partial y_{11}}\\;\\:\\, 0 \\;+\n",
    "    \\frac{\\partial E}{\\partial y_{12}}w_{13}+\n",
    "    \\frac{\\partial E}{\\partial y_{21}}\\;\\:\\, 0 \\;+\n",
    "    \\frac{\\partial E}{\\partial y_{22}}\\;\\:\\, 0 \\; \\\\\n",
    "\\frac{\\partial E}{\\partial x_{21}}&=\n",
    "    \\frac{\\partial E}{\\partial y_{11}}w_{21}+\n",
    "    \\frac{\\partial E}{\\partial y_{12}}\\;\\:\\, 0 \\;+\n",
    "    \\frac{\\partial E}{\\partial y_{21}}\\;\\:\\, 0 \\;+\n",
    "    \\frac{\\partial E}{\\partial y_{22}}\\;\\:\\, 0 \\; \\\\\n",
    "\\frac{\\partial E}{\\partial x_{22}}&=\n",
    "    \\frac{\\partial E}{\\partial y_{11}}w_{22}+\n",
    "    \\frac{\\partial E}{\\partial y_{12}}\\;\\:\\, 0 \\;+\n",
    "    \\frac{\\partial E}{\\partial y_{21}}\\;\\:\\, 0 \\;+\n",
    "    \\frac{\\partial E}{\\partial y_{22}}\\;\\:\\, 0 \\; \\\\\n",
    "\\frac{\\partial E}{\\partial x_{23}}&=\n",
    "    \\frac{\\partial E}{\\partial y_{11}}w_{23}+\n",
    "    \\frac{\\partial E}{\\partial y_{12}}w_{21}+\n",
    "    \\frac{\\partial E}{\\partial y_{21}}\\;\\:\\, 0 \\;+\n",
    "    \\frac{\\partial E}{\\partial y_{22}}\\;\\:\\, 0 \\; \\\\\n",
    "\\frac{\\partial E}{\\partial x_{24}}&=\n",
    "    \\frac{\\partial E}{\\partial y_{11}}\\;\\:\\, 0 \\;+\n",
    "    \\frac{\\partial E}{\\partial y_{12}}w_{22}+\n",
    "    \\frac{\\partial E}{\\partial y_{21}}\\;\\:\\, 0 \\;+\n",
    "    \\frac{\\partial E}{\\partial y_{22}}\\;\\:\\, 0 \\; \\\\\n",
    "\\frac{\\partial E}{\\partial x_{25}}&=\n",
    "    \\frac{\\partial E}{\\partial y_{11}}\\;\\:\\, 0 \\;+\n",
    "    \\frac{\\partial E}{\\partial y_{12}}w_{23}+\n",
    "    \\frac{\\partial E}{\\partial y_{21}}\\;\\:\\, 0 \\;+\n",
    "    \\frac{\\partial E}{\\partial y_{22}}\\;\\:\\, 0 \\; \\\\\n",
    "\\frac{\\partial E}{\\partial x_{31}}&=\n",
    "    \\frac{\\partial E}{\\partial y_{11}}w_{31}+\n",
    "    \\frac{\\partial E}{\\partial y_{12}}\\;\\:\\, 0 \\;+\n",
    "    \\frac{\\partial E}{\\partial y_{21}}w_{11}+\n",
    "    \\frac{\\partial E}{\\partial y_{22}}\\;\\:\\, 0 \\; \\\\\n",
    "\\frac{\\partial E}{\\partial x_{32}}&=\n",
    "    \\frac{\\partial E}{\\partial y_{11}}w_{32}+\n",
    "    \\frac{\\partial E}{\\partial y_{12}}\\;\\:\\, 0 \\;+\n",
    "    \\frac{\\partial E}{\\partial y_{21}}w_{12}+\n",
    "    \\frac{\\partial E}{\\partial y_{22}}\\;\\:\\, 0 \\; \\\\\n",
    "\\frac{\\partial E}{\\partial x_{33}}&=\n",
    "    \\frac{\\partial E}{\\partial y_{11}}w_{33}+\n",
    "    \\frac{\\partial E}{\\partial y_{12}}w_{31}+\n",
    "    \\frac{\\partial E}{\\partial y_{21}}w_{13}+\n",
    "    \\frac{\\partial E}{\\partial y_{22}}w_{11} \\\\\n",
    "\\frac{\\partial E}{\\partial x_{34}}&=\n",
    "    \\frac{\\partial E}{\\partial y_{11}}\\;\\:\\, 0 \\;+\n",
    "    \\frac{\\partial E}{\\partial y_{12}}w_{32}+\n",
    "    \\frac{\\partial E}{\\partial y_{21}}\\;\\:\\, 0 \\;+\n",
    "    \\frac{\\partial E}{\\partial y_{22}}w_{12} \\\\\n",
    "\\frac{\\partial E}{\\partial x_{35}}&=\n",
    "    \\frac{\\partial E}{\\partial y_{11}}\\;\\:\\, 0 \\;+\n",
    "    \\frac{\\partial E}{\\partial y_{12}}w_{33}+\n",
    "    \\frac{\\partial E}{\\partial y_{21}}\\;\\:\\, 0 \\;+\n",
    "    \\frac{\\partial E}{\\partial y_{22}}w_{13} \\\\\n",
    "\\frac{\\partial E}{\\partial x_{41}}&=\n",
    "    \\frac{\\partial E}{\\partial y_{11}}\\;\\:\\, 0 \\;+\n",
    "    \\frac{\\partial E}{\\partial y_{12}}\\;\\:\\, 0 \\;+\n",
    "    \\frac{\\partial E}{\\partial y_{21}}w_{21}+\n",
    "    \\frac{\\partial E}{\\partial y_{22}}\\;\\:\\, 0 \\; \\\\\n",
    "\\frac{\\partial E}{\\partial x_{42}}&=\n",
    "    \\frac{\\partial E}{\\partial y_{11}}\\;\\:\\, 0 \\;+\n",
    "    \\frac{\\partial E}{\\partial y_{12}}\\;\\:\\, 0 \\;+\n",
    "    \\frac{\\partial E}{\\partial y_{21}}w_{22}+\n",
    "    \\frac{\\partial E}{\\partial y_{22}}\\;\\:\\, 0 \\; \\\\\n",
    "\\frac{\\partial E}{\\partial x_{43}}&=\n",
    "    \\frac{\\partial E}{\\partial y_{11}}\\;\\:\\, 0 \\;+\n",
    "    \\frac{\\partial E}{\\partial y_{12}}\\;\\:\\, 0 \\;+\n",
    "    \\frac{\\partial E}{\\partial y_{21}}w_{23}+\n",
    "    \\frac{\\partial E}{\\partial y_{22}}w_{21} \\\\\n",
    "\\frac{\\partial E}{\\partial x_{44}}&=\n",
    "    \\frac{\\partial E}{\\partial y_{11}}\\;\\:\\, 0 \\;+\n",
    "    \\frac{\\partial E}{\\partial y_{12}}\\;\\:\\, 0 \\;+\n",
    "    \\frac{\\partial E}{\\partial y_{21}}\\;\\:\\, 0 \\;+\n",
    "    \\frac{\\partial E}{\\partial y_{22}}w_{22} \\\\\n",
    "\\frac{\\partial E}{\\partial x_{45}}&=\n",
    "    \\frac{\\partial E}{\\partial y_{11}}\\;\\:\\, 0 \\;+\n",
    "    \\frac{\\partial E}{\\partial y_{12}}\\;\\:\\, 0 \\;+\n",
    "    \\frac{\\partial E}{\\partial y_{21}}\\;\\:\\, 0 \\;+\n",
    "    \\frac{\\partial E}{\\partial y_{22}}w_{23} \\\\\n",
    "\\frac{\\partial E}{\\partial x_{51}}&=\n",
    "    \\frac{\\partial E}{\\partial y_{11}}\\;\\:\\, 0 \\;+\n",
    "    \\frac{\\partial E}{\\partial y_{12}}\\;\\:\\, 0 \\;+\n",
    "    \\frac{\\partial E}{\\partial y_{21}}w_{31}+\n",
    "    \\frac{\\partial E}{\\partial y_{22}}\\;\\:\\, 0 \\; \\\\\n",
    "\\frac{\\partial E}{\\partial x_{52}}&=\n",
    "    \\frac{\\partial E}{\\partial y_{11}}\\;\\:\\, 0 \\;+\n",
    "    \\frac{\\partial E}{\\partial y_{12}}\\;\\:\\, 0 \\;+\n",
    "    \\frac{\\partial E}{\\partial y_{21}}w_{32}+\n",
    "    \\frac{\\partial E}{\\partial y_{22}}\\;\\:\\, 0 \\; \\\\\n",
    "\\frac{\\partial E}{\\partial x_{53}}&=\n",
    "    \\frac{\\partial E}{\\partial y_{11}}\\;\\:\\, 0 \\;+\n",
    "    \\frac{\\partial E}{\\partial y_{12}}\\;\\:\\, 0 \\;+\n",
    "    \\frac{\\partial E}{\\partial y_{21}}w_{33}+\n",
    "    \\frac{\\partial E}{\\partial y_{22}}w_{31} \\\\\n",
    "\\frac{\\partial E}{\\partial x_{54}}&=\n",
    "    \\frac{\\partial E}{\\partial y_{11}}\\;\\:\\, 0 \\;+\n",
    "    \\frac{\\partial E}{\\partial y_{12}}\\;\\:\\, 0 \\;+\n",
    "    \\frac{\\partial E}{\\partial y_{21}}\\;\\:\\, 0 \\;+\n",
    "    \\frac{\\partial E}{\\partial y_{22}}w_{32} \\\\\n",
    "\\frac{\\partial E}{\\partial x_{55}}&=\n",
    "    \\frac{\\partial E}{\\partial y_{11}}\\;\\:\\, 0 \\;+\n",
    "    \\frac{\\partial E}{\\partial y_{12}}\\;\\:\\, 0 \\;+\n",
    "    \\frac{\\partial E}{\\partial y_{21}}\\;\\:\\, 0 \\;+\n",
    "    \\frac{\\partial E}{\\partial y_{22}}w_{33}\n",
    "\\end{aligned}\n",
    "$$\n",
    "\n",
    "</details>\n",
    "\n",
    "Tales resultados siguen un patrón común, que es fácil ver si **se dilata a $\\frac{\\partial E}{\\partial y}$ en una cantidad igual a $S-1$**, se la rellena con ceros para obtener una full-convolution y se rota el filtro $w$ en 180°.\n",
    "\n",
    "![conv2d_dilate.gif](img/conv2d_dilate.gif)\n",
    "\n",
    "#### `δE/δw`\n",
    "\n",
    "Este caso tiene gran similitud al anterior en cuanto a cómo tratarlo, y el patrón se basa también en una convolución donde se debe **dilatar a $\\frac{\\partial E}{\\partial y}$ en una cantidad igual a $S-1$**, sin necesidad alguna de realizar padding.\n",
    "\n",
    "$$\n",
    "\\begin{aligned}\n",
    "\\frac{\\partial E}{\\partial w_{11}}&=\\frac{\\partial E}{\\partial y_{11}}x_{11}+\\frac{\\partial E}{\\partial y_{12}}x_{13}+\\frac{\\partial E}{\\partial y_{21}}x_{31}+\\frac{\\partial E}{\\partial y_{22}}x_{33} \\\\\n",
    "\\frac{\\partial E}{\\partial w_{12}}&=\\frac{\\partial E}{\\partial y_{11}}x_{12}+\\frac{\\partial E}{\\partial y_{12}}x_{14}+\\frac{\\partial E}{\\partial y_{21}}x_{32}+\\frac{\\partial E}{\\partial y_{22}}x_{34} \\\\\n",
    "\\frac{\\partial E}{\\partial w_{13}}&=\\frac{\\partial E}{\\partial y_{11}}x_{13}+\\frac{\\partial E}{\\partial y_{12}}x_{15}+\\frac{\\partial E}{\\partial y_{21}}x_{33}+\\frac{\\partial E}{\\partial y_{22}}x_{35} \\\\\n",
    "\\frac{\\partial E}{\\partial w_{21}}&=\\frac{\\partial E}{\\partial y_{11}}x_{21}+\\frac{\\partial E}{\\partial y_{12}}x_{23}+\\frac{\\partial E}{\\partial y_{21}}x_{41}+\\frac{\\partial E}{\\partial y_{22}}x_{43} \\\\\n",
    "\\frac{\\partial E}{\\partial w_{22}}&=\\frac{\\partial E}{\\partial y_{11}}x_{22}+\\frac{\\partial E}{\\partial y_{12}}x_{24}+\\frac{\\partial E}{\\partial y_{21}}x_{42}+\\frac{\\partial E}{\\partial y_{22}}x_{44} \\\\\n",
    "\\frac{\\partial E}{\\partial w_{23}}&=\\frac{\\partial E}{\\partial y_{11}}x_{23}+\\frac{\\partial E}{\\partial y_{12}}x_{25}+\\frac{\\partial E}{\\partial y_{21}}x_{43}+\\frac{\\partial E}{\\partial y_{22}}x_{45} \\\\\n",
    "\\frac{\\partial E}{\\partial w_{31}}&=\\frac{\\partial E}{\\partial y_{11}}x_{31}+\\frac{\\partial E}{\\partial y_{12}}x_{33}+\\frac{\\partial E}{\\partial y_{21}}x_{51}+\\frac{\\partial E}{\\partial y_{22}}x_{53} \\\\\n",
    "\\frac{\\partial E}{\\partial w_{32}}&=\\frac{\\partial E}{\\partial y_{11}}x_{32}+\\frac{\\partial E}{\\partial y_{12}}x_{34}+\\frac{\\partial E}{\\partial y_{21}}x_{52}+\\frac{\\partial E}{\\partial y_{22}}x_{54} \\\\\n",
    "\\frac{\\partial E}{\\partial w_{33}}&=\\frac{\\partial E}{\\partial y_{11}}x_{33}+\\frac{\\partial E}{\\partial y_{12}}x_{35}+\\frac{\\partial E}{\\partial y_{21}}x_{53}+\\frac{\\partial E}{\\partial y_{22}}x_{55}\n",
    "\\end{aligned}\n",
    "$$\n",
    "\n",
    "> NOTA: tener en cuenta que en el cálculo del backward, siempre el stride de la full-convolution se establece a 1, independientemente del stride que se utilizó en el forward. Esto se debe a que en la propagación hacia atrás se calcula el gradiente de la función de error con respecto a cada elemento de la entrada y el kernel, por lo que es necesario considerar cada posición del filtro específico sobre cada píxel de la entrada correspondiente.\n"
   ]
  },
  {
   "cell_type": "code",
   "execution_count": 6,
   "metadata": {},
   "outputs": [
    {
     "data": {
      "text/plain": [
       "(array([[[[ 0.47096459,  2.46250718,  1.18584932,  4.3152331 ,\n",
       "            1.21133264,  2.61995922,  0.57393932],\n",
       "          [ 2.5099557 ,  4.74033001,  4.36829141,  5.06898507,\n",
       "            3.92252628,  4.77744065,  2.37148249],\n",
       "          [ 1.38509306,  4.05186895,  3.28329695,  6.20316961,\n",
       "            2.92940248,  4.49417376,  1.99486303],\n",
       "          [ 3.5513373 ,  7.04144284,  7.07373913,  8.84648821,\n",
       "            6.22521114,  6.13075418,  3.72398508],\n",
       "          [ 1.13795991,  3.92725647,  2.33774064,  6.52475077,\n",
       "            2.03344522,  3.98348466,  1.7456788 ],\n",
       "          [ 1.69861175,  3.17599848,  3.41770171,  6.44719723,\n",
       "            3.10817693,  3.45078172,  1.64450569],\n",
       "          [ 1.09218471,  1.92552303,  1.89193538,  3.87590771,\n",
       "            2.13731381,  2.24024357,  1.07536877]],\n",
       " \n",
       "         [[ 1.05927949,  2.73105854,  2.41090678,  3.63479426,\n",
       "            2.21771671,  1.90964623,  1.6292768 ],\n",
       "          [ 1.95761008,  4.06599371,  3.59801568,  6.34957478,\n",
       "            3.86091117,  4.17493302,  1.76929753],\n",
       "          [ 1.78349073,  2.5013123 ,  4.44351911,  5.88282025,\n",
       "            3.37668863,  3.47351949,  2.56095135],\n",
       "          [ 3.61196246,  5.59800398,  5.5337562 ,  9.00246827,\n",
       "            5.36070879,  5.19858167,  3.0602282 ],\n",
       "          [ 1.56249513,  2.63307856,  3.76825989,  4.73444685,\n",
       "            3.36490393,  2.8586275 ,  2.28157996],\n",
       "          [ 2.43907538,  3.98078221,  3.35970224,  6.52915923,\n",
       "            3.49324424,  4.31276415,  2.50828356],\n",
       "          [ 0.93601469,  1.09352007,  1.91457967,  2.40849131,\n",
       "            2.2086503 ,  1.8640201 ,  1.32446165]],\n",
       " \n",
       "         [[ 1.99015781,  3.51537357,  3.08466682,  4.19892729,\n",
       "            3.57675647,  2.87084815,  1.36286237],\n",
       "          [ 2.027977  ,  3.70692055,  3.67648734,  6.53893885,\n",
       "            3.90164517,  4.39307635,  2.33999369],\n",
       "          [ 3.0235822 ,  4.70771551,  4.72476259,  6.91546949,\n",
       "            4.56623025,  3.62161517,  2.55635709],\n",
       "          [ 3.74115858,  5.7790273 ,  6.52619707,  8.7204318 ,\n",
       "            6.80073733,  6.25513436,  3.49134278],\n",
       "          [ 2.51140612,  3.85239879,  4.73232931,  6.93824134,\n",
       "            4.0588836 ,  4.26771799,  2.7413633 ],\n",
       "          [ 2.24202651,  3.06033901,  3.08935697,  5.05479806,\n",
       "            3.16880627,  2.77483625,  2.05119091],\n",
       "          [ 1.60927264,  1.8810381 ,  2.54485571,  2.99110357,\n",
       "            2.36041659,  2.09315414,  1.6670954 ]]],\n",
       " \n",
       " \n",
       "        [[[ 0.30086474,  1.41650693,  0.77218478,  2.84723766,\n",
       "            0.89688647,  2.31599798,  0.78407703],\n",
       "          [ 2.57413606,  4.31685083,  4.10987   ,  5.09572982,\n",
       "            4.62374935,  4.53312066,  2.39121609],\n",
       "          [ 1.03593858,  4.20399988,  2.54606941,  5.85695878,\n",
       "            2.41475955,  4.64421898,  1.9432725 ],\n",
       "          [ 3.53177929,  6.53160301,  6.8087256 , 10.47154917,\n",
       "            7.45640914,  5.8540915 ,  4.02279167],\n",
       "          [ 1.17183284,  4.98739042,  3.01028896,  7.33717013,\n",
       "            3.31699164,  5.06231833,  1.6355629 ],\n",
       "          [ 1.62734094,  3.81785268,  4.56621052,  7.04525547,\n",
       "            4.86914767,  5.91616224,  2.44871007],\n",
       "          [ 0.83936276,  2.02864829,  2.08675735,  4.17518574,\n",
       "            2.38443801,  2.58295384,  1.5623567 ]],\n",
       " \n",
       "         [[ 0.66983519,  1.75809612,  1.53587567,  3.1999526 ,\n",
       "            1.76750951,  1.61025817,  1.60840838],\n",
       "          [ 1.40491692,  3.13138388,  4.27061904,  5.61864707,\n",
       "            3.03838916,  4.04595291,  2.28982196],\n",
       "          [ 1.64585012,  3.01481007,  4.68670972,  4.03101626,\n",
       "            3.68164921,  3.41892085,  2.61195234],\n",
       "          [ 2.75737589,  6.68863865,  5.50570176,  8.97564693,\n",
       "            6.45793484,  6.09775432,  2.9764233 ],\n",
       "          [ 1.11920484,  3.38804405,  4.57204612,  5.68969793,\n",
       "            5.51797163,  3.51988399,  2.86278766],\n",
       "          [ 2.42249625,  5.23483649,  4.44213919,  6.67348571,\n",
       "            4.58646652,  5.91484612,  2.62635967],\n",
       "          [ 0.74630109,  1.11084381,  1.95719094,  2.48475077,\n",
       "            2.95763873,  1.98359232,  2.12108507]],\n",
       " \n",
       "         [[ 1.19793248,  2.09582471,  2.262721  ,  2.99987992,\n",
       "            3.06254995,  2.73207246,  1.46458315],\n",
       "          [ 1.73873551,  3.83772287,  3.85759519,  6.29853996,\n",
       "            4.08611299,  4.94362156,  2.1401315 ],\n",
       "          [ 2.89880312,  4.6573071 ,  4.95614435,  6.72125974,\n",
       "            4.39420809,  4.64043993,  2.3116112 ],\n",
       "          [ 2.94439971,  5.33025769,  5.6298822 ,  8.91035867,\n",
       "            6.44911443,  6.41157476,  3.55887251],\n",
       "          [ 2.07529876,  5.07153311,  5.57685133,  7.1198206 ,\n",
       "            5.920242  ,  5.77273623,  3.10443682],\n",
       "          [ 2.22559034,  3.72721127,  4.21426158,  6.05394509,\n",
       "            4.3721102 ,  3.85983356,  2.2884582 ],\n",
       "          [ 1.30355473,  2.18600603,  2.56431682,  3.43618836,\n",
       "            2.60444821,  2.40956884,  1.22623612]]]]),\n",
       " {'w': array([[[[2.51359369, 4.73378608, 3.28457142, 4.07716532, 2.8582249 ],\n",
       "           [2.63209768, 4.17891553, 4.63883293, 4.35222634, 2.80165124],\n",
       "           [3.69733772, 5.76834896, 5.72228695, 5.18021684, 3.69240172],\n",
       "           [2.13284784, 4.6170161 , 4.25810393, 4.59894857, 2.61215517],\n",
       "           [1.95130245, 2.4121895 , 3.32869707, 3.11354607, 2.35564739]],\n",
       "  \n",
       "          [[2.89795639, 3.44105494, 4.20049756, 4.06076013, 2.00329966],\n",
       "           [2.35588025, 5.24478904, 4.06832944, 4.24452381, 2.77504514],\n",
       "           [3.06907209, 5.11832569, 5.45581862, 5.37183631, 2.58681746],\n",
       "           [3.46380802, 5.35473143, 3.74968142, 4.52723523, 2.73378682],\n",
       "           [1.99316558, 1.91240703, 3.09433633, 3.0690217 , 1.93075459]],\n",
       "  \n",
       "          [[2.4733647 , 3.46692562, 4.58566564, 2.66835827, 3.21780935],\n",
       "           [3.78796863, 3.51547675, 4.99973214, 3.60357139, 3.49545166],\n",
       "           [3.60732594, 3.7774441 , 5.76010251, 3.00174045, 3.81665287],\n",
       "           [3.65134071, 4.64622235, 5.43639163, 4.88852691, 3.59908794],\n",
       "           [1.4649843 , 2.60673967, 3.03624167, 2.08430882, 2.26493079]]],\n",
       "  \n",
       "  \n",
       "         [[[1.47166214, 3.81006132, 2.66430432, 3.40978431, 2.35938382],\n",
       "           [2.21608064, 3.89399957, 3.95827875, 3.57965212, 2.61541953],\n",
       "           [3.90306889, 5.08095812, 4.72188503, 4.40812456, 2.85771617],\n",
       "           [2.24349517, 4.22048636, 3.22918875, 4.23828824, 2.37693029],\n",
       "           [1.89100851, 3.27649065, 4.01348227, 2.94607154, 2.57568367]],\n",
       "  \n",
       "          [[2.59578973, 3.4666325 , 2.86839122, 3.58272566, 1.62681014],\n",
       "           [2.10908949, 4.73497512, 3.2392472 , 4.07694759, 2.70936657],\n",
       "           [3.3568192 , 3.8316279 , 5.06767509, 4.45709556, 2.52501096],\n",
       "           [3.16355062, 4.75358253, 3.91885272, 3.59127529, 2.30772531],\n",
       "           [1.71108093, 2.61209303, 3.24749235, 3.20802232, 2.15934241]],\n",
       "  \n",
       "          [[2.18339562, 2.22837027, 3.0406699 , 1.91280379, 2.97797492],\n",
       "           [3.55053005, 3.23887452, 4.45990185, 2.74452268, 3.15181917],\n",
       "           [3.78218346, 3.36203889, 5.49395373, 3.21755562, 3.42113283],\n",
       "           [3.58840487, 4.42138178, 4.52473761, 4.17479586, 3.07664296],\n",
       "           [1.63188544, 3.01342883, 3.16975809, 1.58641171, 2.31081143]]],\n",
       "  \n",
       "  \n",
       "         [[[2.26261759, 3.82237823, 2.90148625, 2.67858295, 1.25240318],\n",
       "           [2.22884246, 3.52669074, 3.64014491, 4.13567381, 2.0338463 ],\n",
       "           [3.09530696, 4.23539487, 4.65191694, 4.60771452, 3.17685338],\n",
       "           [2.49818866, 3.52763026, 4.00094031, 4.13474003, 2.00923633],\n",
       "           [2.83538402, 2.72801621, 3.21779912, 2.85270931, 1.51762117]],\n",
       "  \n",
       "          [[1.94987256, 2.50445153, 3.84581369, 2.73899412, 1.47111538],\n",
       "           [2.67960784, 4.15514962, 3.1025027 , 4.01953274, 1.81318056],\n",
       "           [2.82937629, 4.55566432, 4.25249231, 5.17659322, 2.33883808],\n",
       "           [2.92297827, 4.72920449, 3.78727502, 3.07009599, 2.38029649],\n",
       "           [2.47539353, 1.81821358, 2.67573084, 2.87201297, 1.46010319]],\n",
       "  \n",
       "          [[2.62993338, 2.98884031, 3.78897411, 2.18286946, 1.42223218],\n",
       "           [3.38634775, 3.56943507, 4.30667065, 3.01712308, 2.25318297],\n",
       "           [3.18158768, 4.20049131, 5.23003869, 3.11858263, 3.10602195],\n",
       "           [3.2586401 , 3.67471959, 4.54749065, 4.63726645, 2.65120988],\n",
       "           [2.58335173, 1.43209259, 2.64945366, 2.40803788, 1.80480441]]],\n",
       "  \n",
       "  \n",
       "         [[[1.50568666, 4.67975073, 3.78760629, 3.93375364, 2.16755804],\n",
       "           [3.15640188, 4.65226423, 5.00619096, 5.40652992, 2.76771618],\n",
       "           [4.29197814, 6.15624792, 5.76404448, 6.00201983, 4.62793775],\n",
       "           [2.83795808, 4.93754384, 4.71741393, 5.68562405, 2.97724091],\n",
       "           [3.33673696, 4.48091609, 4.58137482, 4.08798806, 3.16819309]],\n",
       "  \n",
       "          [[2.70195013, 3.56182134, 3.45033517, 4.32610017, 2.39388329],\n",
       "           [3.46277578, 5.2371615 , 4.20656856, 4.95044576, 2.8308081 ],\n",
       "           [4.55215782, 5.21350882, 6.09616139, 6.59636842, 3.30646251],\n",
       "           [3.73496243, 5.79620502, 5.17009502, 4.51576926, 3.12870202],\n",
       "           [2.93306796, 3.55555889, 4.68227531, 3.91464138, 1.95609953]],\n",
       "  \n",
       "          [[2.61529893, 2.81663063, 4.20788941, 2.37677769, 2.95723232],\n",
       "           [4.74454298, 3.75091193, 6.38420343, 3.91780174, 3.50669175],\n",
       "           [4.43033079, 5.23183153, 7.36239129, 4.21333921, 4.47973611],\n",
       "           [4.32435083, 4.94404874, 5.90344563, 5.53995301, 3.8406634 ],\n",
       "           [2.31215695, 3.07366054, 4.86794499, 2.56662071, 2.77972787]]]])})"
      ]
     },
     "execution_count": 6,
     "metadata": {},
     "output_type": "execute_result"
    }
   ],
   "source": [
    "# Define el gradiente de la salida\n",
    "g = np.random.rand(*y.shape)\n",
    "\n",
    "# Propaga el gradiente hacia atrás a través de la convolución\n",
    "layer_grad = layer.backward(g)\n",
    "layer_grad"
   ]
  },
  {
   "cell_type": "markdown",
   "metadata": {},
   "source": [
    "## Comprobaciones con PyTorch"
   ]
  },
  {
   "cell_type": "code",
   "execution_count": 7,
   "metadata": {},
   "outputs": [
    {
     "data": {
      "text/plain": [
       "tensor([[[[13.6753, 15.0636, 10.8626],\n",
       "          [18.2390, 18.7688, 13.6744],\n",
       "          [13.0992, 15.0234, 10.8537]],\n",
       "\n",
       "         [[12.0187, 14.3139, 10.5165],\n",
       "          [16.5140, 18.9395, 13.3467],\n",
       "          [13.1722, 17.2056, 11.5979]],\n",
       "\n",
       "         [[12.7809, 14.9176, 11.6044],\n",
       "          [17.3565, 19.8303, 15.0471],\n",
       "          [13.8300, 15.6087, 12.5771]],\n",
       "\n",
       "         [[12.7361, 15.3330, 10.8821],\n",
       "          [15.7102, 20.2971, 13.6985],\n",
       "          [13.7608, 17.2610, 11.3925]]],\n",
       "\n",
       "\n",
       "        [[[13.5168, 15.2391, 12.4632],\n",
       "          [14.6816, 18.6930, 13.9979],\n",
       "          [11.4106, 13.8667, 11.8157]],\n",
       "\n",
       "         [[12.0415, 15.6247, 10.8581],\n",
       "          [14.6102, 17.6846, 15.0950],\n",
       "          [11.4882, 13.6065, 11.5175]],\n",
       "\n",
       "         [[11.9576, 14.6758, 11.5168],\n",
       "          [13.9812, 18.7252, 14.6168],\n",
       "          [11.9665, 13.9699, 12.1230]],\n",
       "\n",
       "         [[11.4113, 15.7040, 12.2889],\n",
       "          [15.4540, 16.7085, 15.2707],\n",
       "          [12.4468, 13.6949, 12.9637]]]], dtype=torch.float64,\n",
       "       grad_fn=<ConvolutionBackward0>)"
      ]
     },
     "execution_count": 7,
     "metadata": {},
     "output_type": "execute_result"
    }
   ],
   "source": [
    "import torch\n",
    "import torch.nn as tnn\n",
    "\n",
    "w = torch.from_numpy(w).to(torch.double)\n",
    "x = torch.from_numpy(x).to(torch.double)\n",
    "\n",
    "conv = tnn.Conv2d(in_channels=x.shape[1], out_channels=w.shape[0], kernel_size=w.shape[-1], stride=stride, padding=padding, bias=False)\n",
    "conv.weight.data = w\n",
    "\n",
    "x.requires_grad = True\n",
    "conv.weight.requires_grad = True\n",
    "\n",
    "y_torch = conv(x)\n",
    "y_torch"
   ]
  },
  {
   "cell_type": "code",
   "execution_count": 8,
   "metadata": {},
   "outputs": [
    {
     "name": "stdout",
     "output_type": "stream",
     "text": [
      "\u001b[42m\u001b[30mSUCCESS :)\u001b[0m Arrays are equal (tolerance 1e-12)\n"
     ]
    }
   ],
   "source": [
    "utils.check_same(y_torch.detach().numpy(),y)"
   ]
  },
  {
   "cell_type": "code",
   "execution_count": 9,
   "metadata": {},
   "outputs": [
    {
     "name": "stdout",
     "output_type": "stream",
     "text": [
      "Gradiente de la entrada (δE/δx):\n",
      "tensor([[[[ 0.4710,  2.4625,  1.1858,  4.3152,  1.2113,  2.6200,  0.5739],\n",
      "          [ 2.5100,  4.7403,  4.3683,  5.0690,  3.9225,  4.7774,  2.3715],\n",
      "          [ 1.3851,  4.0519,  3.2833,  6.2032,  2.9294,  4.4942,  1.9949],\n",
      "          [ 3.5513,  7.0414,  7.0737,  8.8465,  6.2252,  6.1308,  3.7240],\n",
      "          [ 1.1380,  3.9273,  2.3377,  6.5248,  2.0334,  3.9835,  1.7457],\n",
      "          [ 1.6986,  3.1760,  3.4177,  6.4472,  3.1082,  3.4508,  1.6445],\n",
      "          [ 1.0922,  1.9255,  1.8919,  3.8759,  2.1373,  2.2402,  1.0754]],\n",
      "\n",
      "         [[ 1.0593,  2.7311,  2.4109,  3.6348,  2.2177,  1.9096,  1.6293],\n",
      "          [ 1.9576,  4.0660,  3.5980,  6.3496,  3.8609,  4.1749,  1.7693],\n",
      "          [ 1.7835,  2.5013,  4.4435,  5.8828,  3.3767,  3.4735,  2.5610],\n",
      "          [ 3.6120,  5.5980,  5.5338,  9.0025,  5.3607,  5.1986,  3.0602],\n",
      "          [ 1.5625,  2.6331,  3.7683,  4.7344,  3.3649,  2.8586,  2.2816],\n",
      "          [ 2.4391,  3.9808,  3.3597,  6.5292,  3.4932,  4.3128,  2.5083],\n",
      "          [ 0.9360,  1.0935,  1.9146,  2.4085,  2.2087,  1.8640,  1.3245]],\n",
      "\n",
      "         [[ 1.9902,  3.5154,  3.0847,  4.1989,  3.5768,  2.8708,  1.3629],\n",
      "          [ 2.0280,  3.7069,  3.6765,  6.5389,  3.9016,  4.3931,  2.3400],\n",
      "          [ 3.0236,  4.7077,  4.7248,  6.9155,  4.5662,  3.6216,  2.5564],\n",
      "          [ 3.7412,  5.7790,  6.5262,  8.7204,  6.8007,  6.2551,  3.4913],\n",
      "          [ 2.5114,  3.8524,  4.7323,  6.9382,  4.0589,  4.2677,  2.7414],\n",
      "          [ 2.2420,  3.0603,  3.0894,  5.0548,  3.1688,  2.7748,  2.0512],\n",
      "          [ 1.6093,  1.8810,  2.5449,  2.9911,  2.3604,  2.0932,  1.6671]]],\n",
      "\n",
      "\n",
      "        [[[ 0.3009,  1.4165,  0.7722,  2.8472,  0.8969,  2.3160,  0.7841],\n",
      "          [ 2.5741,  4.3169,  4.1099,  5.0957,  4.6237,  4.5331,  2.3912],\n",
      "          [ 1.0359,  4.2040,  2.5461,  5.8570,  2.4148,  4.6442,  1.9433],\n",
      "          [ 3.5318,  6.5316,  6.8087, 10.4715,  7.4564,  5.8541,  4.0228],\n",
      "          [ 1.1718,  4.9874,  3.0103,  7.3372,  3.3170,  5.0623,  1.6356],\n",
      "          [ 1.6273,  3.8179,  4.5662,  7.0453,  4.8691,  5.9162,  2.4487],\n",
      "          [ 0.8394,  2.0286,  2.0868,  4.1752,  2.3844,  2.5830,  1.5624]],\n",
      "\n",
      "         [[ 0.6698,  1.7581,  1.5359,  3.2000,  1.7675,  1.6103,  1.6084],\n",
      "          [ 1.4049,  3.1314,  4.2706,  5.6186,  3.0384,  4.0460,  2.2898],\n",
      "          [ 1.6459,  3.0148,  4.6867,  4.0310,  3.6816,  3.4189,  2.6120],\n",
      "          [ 2.7574,  6.6886,  5.5057,  8.9756,  6.4579,  6.0978,  2.9764],\n",
      "          [ 1.1192,  3.3880,  4.5720,  5.6897,  5.5180,  3.5199,  2.8628],\n",
      "          [ 2.4225,  5.2348,  4.4421,  6.6735,  4.5865,  5.9148,  2.6264],\n",
      "          [ 0.7463,  1.1108,  1.9572,  2.4848,  2.9576,  1.9836,  2.1211]],\n",
      "\n",
      "         [[ 1.1979,  2.0958,  2.2627,  2.9999,  3.0625,  2.7321,  1.4646],\n",
      "          [ 1.7387,  3.8377,  3.8576,  6.2985,  4.0861,  4.9436,  2.1401],\n",
      "          [ 2.8988,  4.6573,  4.9561,  6.7213,  4.3942,  4.6404,  2.3116],\n",
      "          [ 2.9444,  5.3303,  5.6299,  8.9104,  6.4491,  6.4116,  3.5589],\n",
      "          [ 2.0753,  5.0715,  5.5769,  7.1198,  5.9202,  5.7727,  3.1044],\n",
      "          [ 2.2256,  3.7272,  4.2143,  6.0539,  4.3721,  3.8598,  2.2885],\n",
      "          [ 1.3036,  2.1860,  2.5643,  3.4362,  2.6044,  2.4096,  1.2262]]]],\n",
      "       dtype=torch.float64) torch.Size([2, 3, 7, 7])\n",
      "\n",
      "Gradiente del kernel (δE/δw):\n",
      "tensor([[[[2.5136, 4.7338, 3.2846, 4.0772, 2.8582],\n",
      "          [2.6321, 4.1789, 4.6388, 4.3522, 2.8017],\n",
      "          [3.6973, 5.7683, 5.7223, 5.1802, 3.6924],\n",
      "          [2.1328, 4.6170, 4.2581, 4.5989, 2.6122],\n",
      "          [1.9513, 2.4122, 3.3287, 3.1135, 2.3556]],\n",
      "\n",
      "         [[2.8980, 3.4411, 4.2005, 4.0608, 2.0033],\n",
      "          [2.3559, 5.2448, 4.0683, 4.2445, 2.7750],\n",
      "          [3.0691, 5.1183, 5.4558, 5.3718, 2.5868],\n",
      "          [3.4638, 5.3547, 3.7497, 4.5272, 2.7338],\n",
      "          [1.9932, 1.9124, 3.0943, 3.0690, 1.9308]],\n",
      "\n",
      "         [[2.4734, 3.4669, 4.5857, 2.6684, 3.2178],\n",
      "          [3.7880, 3.5155, 4.9997, 3.6036, 3.4955],\n",
      "          [3.6073, 3.7774, 5.7601, 3.0017, 3.8167],\n",
      "          [3.6513, 4.6462, 5.4364, 4.8885, 3.5991],\n",
      "          [1.4650, 2.6067, 3.0362, 2.0843, 2.2649]]],\n",
      "\n",
      "\n",
      "        [[[1.4717, 3.8101, 2.6643, 3.4098, 2.3594],\n",
      "          [2.2161, 3.8940, 3.9583, 3.5797, 2.6154],\n",
      "          [3.9031, 5.0810, 4.7219, 4.4081, 2.8577],\n",
      "          [2.2435, 4.2205, 3.2292, 4.2383, 2.3769],\n",
      "          [1.8910, 3.2765, 4.0135, 2.9461, 2.5757]],\n",
      "\n",
      "         [[2.5958, 3.4666, 2.8684, 3.5827, 1.6268],\n",
      "          [2.1091, 4.7350, 3.2392, 4.0769, 2.7094],\n",
      "          [3.3568, 3.8316, 5.0677, 4.4571, 2.5250],\n",
      "          [3.1636, 4.7536, 3.9189, 3.5913, 2.3077],\n",
      "          [1.7111, 2.6121, 3.2475, 3.2080, 2.1593]],\n",
      "\n",
      "         [[2.1834, 2.2284, 3.0407, 1.9128, 2.9780],\n",
      "          [3.5505, 3.2389, 4.4599, 2.7445, 3.1518],\n",
      "          [3.7822, 3.3620, 5.4940, 3.2176, 3.4211],\n",
      "          [3.5884, 4.4214, 4.5247, 4.1748, 3.0766],\n",
      "          [1.6319, 3.0134, 3.1698, 1.5864, 2.3108]]],\n",
      "\n",
      "\n",
      "        [[[2.2626, 3.8224, 2.9015, 2.6786, 1.2524],\n",
      "          [2.2288, 3.5267, 3.6401, 4.1357, 2.0338],\n",
      "          [3.0953, 4.2354, 4.6519, 4.6077, 3.1769],\n",
      "          [2.4982, 3.5276, 4.0009, 4.1347, 2.0092],\n",
      "          [2.8354, 2.7280, 3.2178, 2.8527, 1.5176]],\n",
      "\n",
      "         [[1.9499, 2.5045, 3.8458, 2.7390, 1.4711],\n",
      "          [2.6796, 4.1551, 3.1025, 4.0195, 1.8132],\n",
      "          [2.8294, 4.5557, 4.2525, 5.1766, 2.3388],\n",
      "          [2.9230, 4.7292, 3.7873, 3.0701, 2.3803],\n",
      "          [2.4754, 1.8182, 2.6757, 2.8720, 1.4601]],\n",
      "\n",
      "         [[2.6299, 2.9888, 3.7890, 2.1829, 1.4222],\n",
      "          [3.3863, 3.5694, 4.3067, 3.0171, 2.2532],\n",
      "          [3.1816, 4.2005, 5.2300, 3.1186, 3.1060],\n",
      "          [3.2586, 3.6747, 4.5475, 4.6373, 2.6512],\n",
      "          [2.5834, 1.4321, 2.6495, 2.4080, 1.8048]]],\n",
      "\n",
      "\n",
      "        [[[1.5057, 4.6798, 3.7876, 3.9338, 2.1676],\n",
      "          [3.1564, 4.6523, 5.0062, 5.4065, 2.7677],\n",
      "          [4.2920, 6.1562, 5.7640, 6.0020, 4.6279],\n",
      "          [2.8380, 4.9375, 4.7174, 5.6856, 2.9772],\n",
      "          [3.3367, 4.4809, 4.5814, 4.0880, 3.1682]],\n",
      "\n",
      "         [[2.7020, 3.5618, 3.4503, 4.3261, 2.3939],\n",
      "          [3.4628, 5.2372, 4.2066, 4.9504, 2.8308],\n",
      "          [4.5522, 5.2135, 6.0962, 6.5964, 3.3065],\n",
      "          [3.7350, 5.7962, 5.1701, 4.5158, 3.1287],\n",
      "          [2.9331, 3.5556, 4.6823, 3.9146, 1.9561]],\n",
      "\n",
      "         [[2.6153, 2.8166, 4.2079, 2.3768, 2.9572],\n",
      "          [4.7445, 3.7509, 6.3842, 3.9178, 3.5067],\n",
      "          [4.4303, 5.2318, 7.3624, 4.2133, 4.4797],\n",
      "          [4.3244, 4.9440, 5.9034, 5.5400, 3.8407],\n",
      "          [2.3122, 3.0737, 4.8679, 2.5666, 2.7797]]]], dtype=torch.float64) torch.Size([4, 3, 5, 5])\n"
     ]
    }
   ],
   "source": [
    "# Define el gradiente de la salida\n",
    "g = torch.from_numpy(g).to(torch.double)\n",
    "\n",
    "# Propaga el gradiente hacia atrás a través de la convolución\n",
    "y_torch.backward(g)\n",
    "\n",
    "# Imprime el gradiente de la imagen de entrada y el kernel\n",
    "print(\"Gradiente de la entrada (δE/δx):\")\n",
    "print(x.grad, x.grad.shape)\n",
    "print(\"\\nGradiente del kernel (δE/δw):\")\n",
    "print(conv.weight.grad, conv.weight.grad.shape)"
   ]
  },
  {
   "cell_type": "code",
   "execution_count": 10,
   "metadata": {},
   "outputs": [
    {
     "name": "stdout",
     "output_type": "stream",
     "text": [
      "\u001b[42m\u001b[30mSUCCESS :)\u001b[0m Arrays are equal (tolerance 1e-12)\n"
     ]
    }
   ],
   "source": [
    "utils.check_same(x.grad.numpy(),layer_grad[0])"
   ]
  },
  {
   "cell_type": "code",
   "execution_count": 11,
   "metadata": {},
   "outputs": [
    {
     "name": "stdout",
     "output_type": "stream",
     "text": [
      "\u001b[42m\u001b[30mSUCCESS :)\u001b[0m Arrays are equal (tolerance 1e-12)\n"
     ]
    }
   ],
   "source": [
    "utils.check_same(conv.weight.grad.numpy(),layer_grad[1]['w'])"
   ]
  },
  {
   "cell_type": "code",
   "execution_count": 12,
   "metadata": {},
   "outputs": [
    {
     "name": "stdout",
     "output_type": "stream",
     "text": [
      "\u001b[104m\u001b[30mConv2d_1 layer:\u001b[0m\n",
      "\u001b[42m\u001b[30mSUCCESS\u001b[0m 28500 partial derivatives checked (100 random input samples)\n"
     ]
    }
   ],
   "source": [
    "samples = 100\n",
    "batch_size=2\n",
    "din=3 # dimensión de entrada\n",
    "dout=5 # dimensión de salida\n",
    "input_shape=(batch_size,din,5,5)\n",
    "\n",
    "# Verificar las derivadas de un modelo de Convolución\n",
    "# con valores aleatorios de `w`, `b`, y `x`, la entrada\n",
    "layer=nn.Conv2d(input_shape[1],dout,kernel_size=(3,3))\n",
    "\n",
    "\n",
    "utils.check_gradient.common_layer(layer,input_shape,samples=samples,tolerance=1e-5)    "
   ]
  },
  {
   "cell_type": "markdown",
   "metadata": {},
   "source": [
    "## Comprobaciones para 1D"
   ]
  },
  {
   "cell_type": "markdown",
   "metadata": {},
   "source": [
    "### PyTorch"
   ]
  },
  {
   "cell_type": "code",
   "execution_count": 13,
   "metadata": {},
   "outputs": [],
   "source": [
    "import torch\n",
    "import torch.nn as tnn"
   ]
  },
  {
   "cell_type": "code",
   "execution_count": 14,
   "metadata": {},
   "outputs": [],
   "source": [
    "stride,padding=1,0"
   ]
  },
  {
   "cell_type": "code",
   "execution_count": 15,
   "metadata": {},
   "outputs": [],
   "source": [
    "x1d = torch.randn(2, 3, 7, requires_grad=True)              # (batch_size, channels,    length)\n",
    "\n",
    "x2d = torch.from_numpy(x1d.unsqueeze(2).detach().numpy())   # (batch_size, channels, 1, length)\n",
    "x2d.requires_grad=True"
   ]
  },
  {
   "cell_type": "code",
   "execution_count": 16,
   "metadata": {},
   "outputs": [],
   "source": [
    "conv1d = tnn.Conv1d(x1d.shape[1], 4,     3 , stride=stride, padding=padding, bias=False)\n",
    "conv2d = tnn.Conv2d(x1d.shape[1], 4, (1, 3), stride=stride, padding=padding, bias=False)\n",
    "conv2d.weight.data = conv1d.weight.data.unsqueeze(2)"
   ]
  },
  {
   "cell_type": "code",
   "execution_count": 17,
   "metadata": {},
   "outputs": [],
   "source": [
    "output1d = conv1d(x1d)\n",
    "output2d = conv2d(x2d)"
   ]
  },
  {
   "cell_type": "code",
   "execution_count": 18,
   "metadata": {},
   "outputs": [],
   "source": [
    "# (batch_size, num_filters, 1, new_length) -> (batch_size, num_filters, new_length)\n",
    "output2d = output2d.squeeze(2)"
   ]
  },
  {
   "cell_type": "code",
   "execution_count": 19,
   "metadata": {},
   "outputs": [
    {
     "data": {
      "text/plain": [
       "True"
      ]
     },
     "execution_count": 19,
     "metadata": {},
     "output_type": "execute_result"
    }
   ],
   "source": [
    "torch.allclose(output1d, output2d, atol=1e-6)"
   ]
  },
  {
   "cell_type": "code",
   "execution_count": 20,
   "metadata": {},
   "outputs": [],
   "source": [
    "grad_output = torch.randn_like(output1d)\n",
    "grad_output_np = grad_output.unsqueeze(2).clone().numpy()\n",
    "\n",
    "output1d.backward(grad_output.clone(), retain_graph=True)\n",
    "output2d.backward(grad_output, retain_graph=True)"
   ]
  },
  {
   "cell_type": "code",
   "execution_count": 21,
   "metadata": {},
   "outputs": [
    {
     "data": {
      "text/plain": [
       "True"
      ]
     },
     "execution_count": 21,
     "metadata": {},
     "output_type": "execute_result"
    }
   ],
   "source": [
    "torch.allclose(x1d.grad, x2d.grad.squeeze(2), atol=1e-6)"
   ]
  },
  {
   "cell_type": "code",
   "execution_count": 22,
   "metadata": {},
   "outputs": [
    {
     "data": {
      "text/plain": [
       "True"
      ]
     },
     "execution_count": 22,
     "metadata": {},
     "output_type": "execute_result"
    }
   ],
   "source": [
    "torch.allclose(conv1d.weight.grad, conv2d.weight.grad.squeeze(2), atol=1e-6)"
   ]
  },
  {
   "cell_type": "markdown",
   "metadata": {},
   "source": [
    "### edunn"
   ]
  },
  {
   "cell_type": "code",
   "execution_count": 23,
   "metadata": {},
   "outputs": [],
   "source": [
    "x = x2d.detach().numpy()\n",
    "w = conv2d.weight.data.detach().numpy()\n",
    "                       \n",
    "kernel_initializer = nn.initializers.Constant(w)\n",
    "\n",
    "layer=nn.Conv2d(x.shape[1],w.shape[0],kernel_size=w.shape[2:],stride=stride,padding=padding,kernel_initializer=kernel_initializer)"
   ]
  },
  {
   "cell_type": "code",
   "execution_count": 24,
   "metadata": {},
   "outputs": [
    {
     "data": {
      "text/plain": [
       "(array([[[[-0.12993404,  0.11155666, -0.0033199 , -0.83892553,\n",
       "           -0.67269841]],\n",
       " \n",
       "         [[-0.00760235,  0.24050955, -0.00378796,  0.37707243,\n",
       "           -0.04805325]],\n",
       " \n",
       "         [[-0.19057056, -0.57876464, -0.04827882,  0.31562192,\n",
       "            0.48772967]],\n",
       " \n",
       "         [[-0.26412817, -0.23179797,  0.27678517, -0.55800464,\n",
       "            0.63027741]]],\n",
       " \n",
       " \n",
       "        [[[-0.28622939, -0.49418893,  0.52484418,  0.10342817,\n",
       "           -0.62401949]],\n",
       " \n",
       "         [[-0.12532506,  0.8769521 , -0.27777117,  0.24268897,\n",
       "            0.66836041]],\n",
       " \n",
       "         [[-0.37239041,  0.59117104,  0.84326629, -0.96926016,\n",
       "            0.00422337]],\n",
       " \n",
       "         [[-0.36526372, -0.06361786,  0.56702302, -0.87976077,\n",
       "            0.47470151]]]]),\n",
       " (2, 4, 1, 5))"
      ]
     },
     "execution_count": 24,
     "metadata": {},
     "output_type": "execute_result"
    }
   ],
   "source": [
    "y = layer.forward(x)\n",
    "y, y.shape"
   ]
  },
  {
   "cell_type": "code",
   "execution_count": 25,
   "metadata": {},
   "outputs": [
    {
     "name": "stdout",
     "output_type": "stream",
     "text": [
      "\u001b[42m\u001b[30mSUCCESS :)\u001b[0m Arrays are equal (tolerance 1e-05)\n"
     ]
    }
   ],
   "source": [
    "utils.check_same(output2d.detach().numpy(),y.squeeze(2), tol=1e-5)"
   ]
  },
  {
   "cell_type": "code",
   "execution_count": 26,
   "metadata": {},
   "outputs": [
    {
     "data": {
      "text/plain": [
       "(array([[[[ 0.06686295, -0.25877774, -0.13272792,  0.30136907,\n",
       "           -0.9358317 ,  0.05339767,  0.43975016]],\n",
       " \n",
       "         [[-0.16607478, -0.22734913, -0.5673997 , -0.22770661,\n",
       "           -0.29150054, -0.42387944, -0.07001044]],\n",
       " \n",
       "         [[ 0.08155264,  1.0059274 , -0.5196476 ,  1.0666201 ,\n",
       "            0.01007864, -0.8044203 , -0.28168172]]],\n",
       " \n",
       " \n",
       "        [[[-0.10991132, -0.3279412 , -0.08680366,  0.24631149,\n",
       "           -0.74884623, -0.10592665,  0.49745342]],\n",
       " \n",
       "         [[ 0.09700203,  0.2232698 , -0.45012352, -0.08179605,\n",
       "            0.29186544,  0.01312634,  0.13386849]],\n",
       " \n",
       "         [[ 0.00215698, -0.62478334, -0.26635212,  0.44134447,\n",
       "            0.04348988, -0.7194589 , -0.5668802 ]]]], dtype=float32),\n",
       " {'w': array([[[[ 1.03151855, -2.24804456,  1.51494894]],\n",
       "  \n",
       "          [[ 0.79247528, -0.07881346, -2.83958238]],\n",
       "  \n",
       "          [[ 0.4871261 , -1.17990772, -0.02736071]]],\n",
       "  \n",
       "  \n",
       "         [[[ 3.80931274, -2.10681816, -1.1472133 ]],\n",
       "  \n",
       "          [[ 1.78010317,  0.12645573, -5.11481791]],\n",
       "  \n",
       "          [[-0.81879436, -2.61331464,  1.83742622]]],\n",
       "  \n",
       "  \n",
       "         [[[-1.71195845, -4.31455992, -0.21896441]],\n",
       "  \n",
       "          [[ 1.4254087 , -1.52992304, -8.42539746]],\n",
       "  \n",
       "          [[ 4.59371718, -1.6188644 , -3.54609258]]],\n",
       "  \n",
       "  \n",
       "         [[[ 3.77699511, -3.50646551, -0.95560916]],\n",
       "  \n",
       "          [[ 0.59655817,  1.11414788, -0.0922668 ]],\n",
       "  \n",
       "          [[ 2.28264813,  0.01488123,  0.47233956]]]])})"
      ]
     },
     "execution_count": 26,
     "metadata": {},
     "output_type": "execute_result"
    }
   ],
   "source": [
    "g = grad_output_np\n",
    "\n",
    "layer_grad = layer.backward(g)\n",
    "layer_grad"
   ]
  },
  {
   "cell_type": "code",
   "execution_count": 27,
   "metadata": {},
   "outputs": [
    {
     "name": "stdout",
     "output_type": "stream",
     "text": [
      "\u001b[42m\u001b[30mSUCCESS :)\u001b[0m Arrays are equal (tolerance 1e-05)\n"
     ]
    }
   ],
   "source": [
    "utils.check_same(x2d.grad.squeeze(2).detach().numpy(),layer_grad[0].squeeze(2), tol=1e-5)"
   ]
  },
  {
   "cell_type": "code",
   "execution_count": 28,
   "metadata": {},
   "outputs": [
    {
     "name": "stdout",
     "output_type": "stream",
     "text": [
      "\u001b[42m\u001b[30mSUCCESS :)\u001b[0m Arrays are equal (tolerance 1e-05)\n"
     ]
    }
   ],
   "source": [
    "utils.check_same(conv2d.weight.grad.squeeze(2).detach().numpy(),layer_grad[1]['w'].squeeze(2), tol=1e-5)"
   ]
  }
 ],
 "metadata": {
  "kernelspec": {
   "display_name": "captum",
   "language": "python",
   "name": "python3"
  },
  "language_info": {
   "codemirror_mode": {
    "name": "ipython",
    "version": 3
   },
   "file_extension": ".py",
   "mimetype": "text/x-python",
   "name": "python",
   "nbconvert_exporter": "python",
   "pygments_lexer": "ipython3",
   "version": "3.10.4"
  }
 },
 "nbformat": 4,
 "nbformat_minor": 2
}
