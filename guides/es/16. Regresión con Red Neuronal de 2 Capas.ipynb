{
 "cells": [
  {
   "cell_type": "code",
   "execution_count": null,
   "metadata": {},
   "outputs": [],
   "source": [
    "%load_ext autoreload\n",
    "%autoreload 2\n",
    "import simplenn as sn\n",
    "import numpy as np"
   ]
  },
  {
   "cell_type": "markdown",
   "metadata": {},
   "source": [
    "# Red Neuronal de 2 Capas para Regresión\n",
    "\n",
    "Ahora que tenemos todos los elementos, podemos definir y entrenar nuestra primera red neuronal de 2 capas!. También la utilizaremos para estimar el precio de casas utilizando el conjunto de datos de [Casas de Boston](https://www.kaggle.com/c/boston-housing). \n",
    "\n",
    "En este caso, dado que la red es más potente, deberíamos obtener un error menor que el del modelo de regresión lineal anterior.\n",
    "\n",
    "Podés también probar otros conjuntos de datos disponibles para cargar con `sn.datasets.load_regression`"
   ]
  },
  {
   "cell_type": "code",
   "execution_count": null,
   "metadata": {},
   "outputs": [],
   "source": [
    "dataset_name=\"boston\"\n",
    "x,y=sn.datasets.load_regression(dataset_name)\n",
    "x = (x-x.mean(axis=0))/x.std(axis=0)\n",
    "n, din = x.shape\n",
    "n, dout = y.shape\n",
    "print(\"Dataset sizes:\", x.shape,y.shape)\n",
    "\n",
    "hidden_dim=5\n",
    "\n",
    "#Red con dos capas lineales\n",
    "model = sn.Sequential([sn.Dense(din,hidden_dim,activation_name=\"relu\"),\n",
    "                       sn.Dense(hidden_dim,dout)\n",
    "                      ])\n",
    "\n",
    "error = sn.MeanError(sn.SquaredError())\n",
    "optimizer = sn.GradientDescent(lr=0.01,epochs=1000,batch_size=32)\n",
    "\n",
    "# Algoritmo de optimización\n",
    "history = optimizer.optimize(model,x,y,error)\n",
    "sn.plot.plot_history(history,error_name=error.name)\n",
    "\n",
    "\n",
    "print(\"Error del modelo:\")\n",
    "y_pred=model.forward(x)\n",
    "sn.metrics.regression_summary(y,y_pred)\n",
    "sn.plot.regression1d_predictions(y,y_pred)"
   ]
  },
  {
   "cell_type": "markdown",
   "metadata": {},
   "source": [
    "# Comparación con un modelo de Regresión Lineal\n",
    "\n",
    "Como verificación adicional, calcularemos los parámetros óptimos de un modelo de regresión lineal, y visualizamos los resultados. El error debería ser peor que de la red (RMSE=3.27 o 3.28)."
   ]
  },
  {
   "cell_type": "code",
   "execution_count": null,
   "metadata": {},
   "outputs": [],
   "source": [
    "\n",
    "linear_model=sn.LinearRegression(din,dout)\n",
    "optimizer = sn.GradientDescent(lr=0.01,epochs=1000,batch_size=32)\n",
    "history = optimizer.optimize(linear_model,x,y,error)\n",
    "sn.plot.plot_history(history,error_name=error.name)\n",
    "y_pred=linear_model.forward(x)\n",
    "\n",
    "print(\"Error del modelo:\")\n",
    "sn.metrics.regression_summary(y,y_pred)\n",
    "print()\n",
    "\n",
    "sn.plot.regression1d_predictions(y,y_pred)\n"
   ]
  }
 ],
 "metadata": {
  "kernelspec": {
   "display_name": "Python 3",
   "language": "python",
   "name": "python3"
  },
  "language_info": {
   "codemirror_mode": {
    "name": "ipython",
    "version": 3
   },
   "file_extension": ".py",
   "mimetype": "text/x-python",
   "name": "python",
   "nbconvert_exporter": "python",
   "pygments_lexer": "ipython3",
   "version": "3.8.5"
  }
 },
 "nbformat": 4,
 "nbformat_minor": 4
}
