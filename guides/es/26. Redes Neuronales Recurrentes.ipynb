{
 "cells": [
  {
   "cell_type": "code",
   "execution_count": 1,
   "id": "0921bcd5",
   "metadata": {},
   "outputs": [],
   "source": [
    "import sys; sys.path.insert(0, \"../..\");"
   ]
  },
  {
   "cell_type": "code",
   "execution_count": 2,
   "id": "3f60f32b",
   "metadata": {},
   "outputs": [],
   "source": [
    "%load_ext autoreload\n",
    "%autoreload 2\n",
    "import edunn as nn\n",
    "import numpy as np"
   ]
  },
  {
   "cell_type": "markdown",
   "id": "ae2e1e1f",
   "metadata": {},
   "source": [
    "# Redes Neuronales Recurrentes\n",
    "\n",
    "Las redes neuronales recurrentes (RNN) son un tipo de arquitectura especialmente diseñada para trabajar con datos secuenciales, como series temporales, texto o audio. A diferencia de una capa densa tradicional, una **capa RNN tiene memoria**: puede tomar en cuenta no solo la entrada actual, sino también lo que ha visto anteriormente, gracias a su mecanismo de retroalimentación.\n",
    "\n",
    "Estas fueron una de las primeras arquitecturas capaces de modelar lenguaje de manera contextual, lo que las convierte en precursoras de los actuales modelos de lenguaje de gran escala (LLMs).\n",
    "\n",
    "> Los archivos que se utilizaran en esta guía práctica serán: `edunn\\models\\cross_entropy_error.py` y `edunn\\models\\rnn.py`."
   ]
  },
  {
   "cell_type": "code",
   "execution_count": 3,
   "id": "38e320e7",
   "metadata": {},
   "outputs": [],
   "source": [
    "X_train, y_train, word_to_index, index_to_word = nn.datasets.load_sequence_generation(\"reddit_comments\")"
   ]
  },
  {
   "cell_type": "code",
   "execution_count": 4,
   "id": "8b34869d",
   "metadata": {},
   "outputs": [
    {
     "name": "stdout",
     "output_type": "stream",
     "text": [
      "x example: <SOS> body \"i joined a new league this year and they have different scoring rules than i'm used to\n",
      "x indices: [3, 495, 85, 3624, 6, 141, 825, 22, 226, 7, 28, 18, 182, 5076, 452, 74, 59, 187, 5]\n",
      "y example: body \"i joined a new league this year and they have different scoring rules than i'm used to <EOS>\n",
      "y indices: [495, 85, 3624, 6, 141, 825, 22, 226, 7, 28, 18, 182, 5076, 452, 74, 59, 187, 5, 2]\n"
     ]
    }
   ],
   "source": [
    "print(\"x example:\", \" \".join(index_to_word[x] for x in  X_train[0]))\n",
    "print(\"x indices:\",  X_train[0])\n",
    "print(\"y example:\", \" \".join(index_to_word[y] for y in y_train[0]))\n",
    "print(\"y indices:\", y_train[0])"
   ]
  },
  {
   "cell_type": "code",
   "execution_count": 5,
   "id": "aa4ff782",
   "metadata": {},
   "outputs": [
    {
     "name": "stdout",
     "output_type": "stream",
     "text": [
      "Vocabulary size: 8000\n"
     ]
    }
   ],
   "source": [
    "vocab_size = len(word_to_index)\n",
    "print(f\"Vocabulary size: {vocab_size}\")"
   ]
  },
  {
   "cell_type": "code",
   "execution_count": 6,
   "id": "15b9af9b",
   "metadata": {},
   "outputs": [
    {
     "data": {
      "text/plain": [
       "('<UNK>', '<PAD>', '<EOS>', '<SOS>')"
      ]
     },
     "execution_count": 6,
     "metadata": {},
     "output_type": "execute_result"
    }
   ],
   "source": [
    "index_to_word[0], index_to_word[1], index_to_word[2], index_to_word[3]"
   ]
  },
  {
   "cell_type": "code",
   "execution_count": 7,
   "id": "39286076",
   "metadata": {},
   "outputs": [
    {
     "data": {
      "text/plain": [
       "((83080,), (83080,))"
      ]
     },
     "execution_count": 7,
     "metadata": {},
     "output_type": "execute_result"
    }
   ],
   "source": [
    "X_train.shape, y_train.shape"
   ]
  },
  {
   "cell_type": "code",
   "execution_count": 8,
   "id": "e21ca2a5",
   "metadata": {},
   "outputs": [],
   "source": [
    "X_train = X_train[:1000]\n",
    "y_train = y_train[:1000]"
   ]
  },
  {
   "cell_type": "code",
   "execution_count": 9,
   "id": "2b43926c",
   "metadata": {},
   "outputs": [],
   "source": [
    "def pad_sequences(sequences, max_len=None, padding_value=0):\n",
    "    if max_len is None:\n",
    "        max_len = max(len(seq) for seq in sequences)\n",
    "    padded = np.full((len(sequences), max_len), padding_value, dtype=np.int32)\n",
    "    for i, seq in enumerate(sequences):\n",
    "        padded[i, :len(seq)] = seq[:max_len]\n",
    "    return padded"
   ]
  },
  {
   "cell_type": "code",
   "execution_count": 10,
   "id": "a992baaf",
   "metadata": {},
   "outputs": [],
   "source": [
    "def encode_onehot(sequences, vocab_size, max_len):\n",
    "    one_hot = np.zeros((len(sequences), max_len, vocab_size))\n",
    "    for i, seq in enumerate(sequences):\n",
    "        for t, idx in enumerate(seq):\n",
    "            if idx < vocab_size:  # Evitar índices fuera de rango\n",
    "                one_hot[i, t, idx] = 1\n",
    "    return one_hot"
   ]
  },
  {
   "cell_type": "code",
   "execution_count": 11,
   "id": "168f5336",
   "metadata": {},
   "outputs": [],
   "source": [
    "max_len = 50  # Ajusta según tus datos\n",
    "X_train_padded = pad_sequences(X_train, max_len=max_len, padding_value=1)\n",
    "y_train_padded = pad_sequences(y_train, max_len=max_len, padding_value=1)"
   ]
  },
  {
   "cell_type": "code",
   "execution_count": 12,
   "id": "91892145",
   "metadata": {},
   "outputs": [
    {
     "data": {
      "text/plain": [
       "((1000, 50), (1000, 50))"
      ]
     },
     "execution_count": 12,
     "metadata": {},
     "output_type": "execute_result"
    }
   ],
   "source": [
    "X_train_padded.shape, y_train_padded.shape"
   ]
  },
  {
   "cell_type": "code",
   "execution_count": 13,
   "id": "1bf4a3bc",
   "metadata": {},
   "outputs": [],
   "source": [
    "X_train_onehot = encode_onehot(X_train_padded, vocab_size, max_len)\n",
    "y_train_onehot = encode_onehot(y_train_padded, vocab_size, max_len)"
   ]
  },
  {
   "cell_type": "code",
   "execution_count": 14,
   "id": "8d50b53e",
   "metadata": {},
   "outputs": [
    {
     "data": {
      "text/plain": [
       "((1000, 50, 8000), (1000, 50, 8000))"
      ]
     },
     "execution_count": 14,
     "metadata": {},
     "output_type": "execute_result"
    }
   ],
   "source": [
    "X_train_onehot.shape, y_train_onehot.shape"
   ]
  },
  {
   "cell_type": "code",
   "execution_count": 15,
   "id": "64644aba",
   "metadata": {},
   "outputs": [
    {
     "data": {
      "text/plain": [
       "([3,\n",
       "  495,\n",
       "  85,\n",
       "  3624,\n",
       "  6,\n",
       "  141,\n",
       "  825,\n",
       "  22,\n",
       "  226,\n",
       "  7,\n",
       "  28,\n",
       "  18,\n",
       "  182,\n",
       "  5076,\n",
       "  452,\n",
       "  74,\n",
       "  59,\n",
       "  187,\n",
       "  5],\n",
       " array([   3,  495,   85, 3624,    6,  141,  825,   22,  226,    7,   28,\n",
       "          18,  182, 5076,  452,   74,   59,  187,    5,    1,    1,    1,\n",
       "           1,    1,    1,    1,    1,    1,    1,    1,    1,    1,    1,\n",
       "           1,    1,    1,    1,    1,    1,    1,    1,    1,    1,    1,\n",
       "           1,    1,    1,    1,    1,    1]),\n",
       " array([[0., 0., 0., ..., 0., 0., 0.],\n",
       "        [0., 0., 0., ..., 0., 0., 0.],\n",
       "        [0., 0., 0., ..., 0., 0., 0.],\n",
       "        ...,\n",
       "        [0., 1., 0., ..., 0., 0., 0.],\n",
       "        [0., 1., 0., ..., 0., 0., 0.],\n",
       "        [0., 1., 0., ..., 0., 0., 0.]]))"
      ]
     },
     "execution_count": 15,
     "metadata": {},
     "output_type": "execute_result"
    }
   ],
   "source": [
    "X_train[0], X_train_padded[0], X_train_onehot[0]"
   ]
  },
  {
   "cell_type": "markdown",
   "id": "ef8ca73a",
   "metadata": {},
   "source": [
    "## Método Forward\n",
    "\n",
    "La arquitectura de una RNN se puede describir medianate la terna de parámetros $(\\mathbf{U} \\in \\mathbb{R}^{H \\times I}, \\mathbf{W} \\in \\mathbb{R}^{H \\times H}, \\mathbf{V} \\in \\mathbb{R}^{O \\times H})$, que son compartidos en las diferentes etapas de tiempo.\n",
    "\n",
    "![alt text](img/rnn.png)\n",
    "\n",
    "Las ecuaciones del forward pass son:\n",
    "\n",
    "$$\n",
    "\\begin{aligned}\n",
    "\\mathbf{h}^{(t)} &= \\tanh\\left(\\mathbf{x}^{(t)} \\mathbf{U}^\\top + \\mathbf{h}^{(t-1)} \\mathbf{W}^\\top\\right)\n",
    "\\\\\n",
    "\\mathbf{y}^{(t)} &= \\mathbf{h}^{(t)} \\mathbf{V}^\\top\n",
    "\\end{aligned}\n",
    "$$\n",
    "\n",
    "donde $\\mathbf{x}^{(t)} \\in \\mathbb{R}^{B \\times I}$ es la secuencia de entrada, $\\mathbf{h}^{(t)} \\in \\mathbb{R}^{B \\times H}$ es el **estado oculto**, e $\\mathbf{y}^{(t)} \\in \\mathbb{R}^{B \\times O}$ es la **salida**.\n",
    "\n",
    "> $B$ es el tamaño del lote (`batch_size`), $I$ es la dimensión de entrada (`input_dim`), $H$ es la dimensión oculta (`hidden_dim`), y $O$ es la dimensión de salida (`output_dim`). Llamaremos $C$ al tamaño del vocabulario (`vocab_size`).\n",
    "\n",
    "Existen variantes como [LSTM (Long Short-Term Memory)](https://ieeexplore.ieee.org/abstract/document/6795963) o [GRU (Gated Recurrent Unit)](https://arxiv.org/abs/1406.1078), que fueron diseñadas para **mitigar el problema del desvanecimiento del gradiente** que enfrentan las RNN tradicionales al modelar dependencias largas. Ambas introducen puertas (*gates*) que regulan el flujo de información a través del tiempo. LSTM lo hace mediante tres puertas (input, forget, output), mientras que GRU simplifica la arquitectura utilizando solo dos (update y reset)."
   ]
  },
  {
   "cell_type": "markdown",
   "id": "fcb5bf2d",
   "metadata": {},
   "source": [
    "## Método Backward\n",
    "\n",
    "<div style=\"background-color: black; text-align: center;\">\n",
    "<img src=\"img/rnn-bptt-with-gradients.png\" width=75%>\n",
    "</div>\n",
    "\n",
    "Sabiendo que para un tiempo $t$ fijo, el $i$-ésimo componente de $\\mathbf{y}^{(t)}$ y que el gradiente de la función de error $E$ con respecto a dicha salida está dado por ($\\in\\mathbb{R}^{B\\times O}$):\n",
    "\n",
    "$$\n",
    "y^{(t)}_i = \\sum_{k=1}^{H} h^{(t)}_k V_{ik},\n",
    "\\quad\n",
    "\\mathbf{g}^{(t)}\\equiv \\frac{\\partial E}{\\partial \\mathbf{y}^{(t)}}\n",
    "$$\n",
    "\n",
    "> La **delta de Kronecker** $\\delta_{ki}$ es una forma compacta y elegante de expresar la condición: la expresión vale solo si dos índices son iguales.\n",
    ">$$\n",
    "\\underbrace{\n",
    "\\frac{\\partial}{\\partial B_{ij}} \\left( \\sum_{n=1}^{N} a_n B_{kn} \\right)\n",
    "}_{\\mathclap{\\text{= } a_j \\text{ si y solo si } k = i}}\n",
    "=\n",
    "\\begin{cases}\n",
    "a_j & \\text{si } k = i, \\\\\n",
    "0 & \\text{si } k \\ne i.\n",
    "\\end{cases}\n",
    "= a_j \\cdot \\delta_{ki}\n",
    ">$$\n",
    "\n",
    "### `dE_dV`\n",
    "\n",
    "$$\n",
    "\\frac{\\partial E}{\\partial \\mathbf{V}} = \\sum_{t=0}^{T-1} \\frac{\\partial E}{\\partial \\mathbf{y}^{(t)}} \\frac{\\partial \\mathbf{y}^{(t)}}{\\partial \\mathbf{V}}\n",
    "$$\n",
    "\n",
    "Entonces, por la regla de la cadena:\n",
    "\n",
    "$$\n",
    "\\frac{\\partial E}{\\partial V_{ik}}\n",
    "= \\sum_{j=1}^{O} \\frac{\\partial E}{\\partial y^{(t)}_j} \\frac{\\partial y^{(t)}_j}{\\partial V_{ik}}\n",
    "= \\sum_{j=1}^{O} g^{(t)}_j \\underbrace{ \\frac{\\partial}{\\partial V_{ik}} \\left( \\sum_{k=1}^{H} h^{(t)}_k V_{jk} \\right) }_{\\mathclap{h^{(t)}_k \\delta_{ij}}}\n",
    "= g^{(t)}_i h^{(t)}_k\n",
    "$$\n",
    "\n",
    "Es decir, cada entrada del gradiente es un producto \"exterior\" entre el vector de errores en salida y el estado oculto, sumando sobre todos los pasos temporales:\n",
    "\n",
    "$$\n",
    "\\boxed{\\quad\n",
    "\\frac{\\partial E}{\\partial \\mathbf{V}}\n",
    "= \\sum_{t=0}^{T-1} \\left( \\frac{\\partial E}{\\partial \\mathbf{y}^{(t)}} \\right)^{\\top} \\mathbf{h}^{(t)}\n",
    "= \\sum_{t=0}^{T-1} \\left( \\mathbf{g}^{(t)}\\right)^{\\top} \\mathbf{h}^{(t)} \\in\\mathbb{R}^{O\\times H}\n",
    "\\quad}\n",
    "$$\n",
    "\n",
    "<!-- dE_dV += dE_dy[:, t, :].T @ h[:, t, :] -->\n",
    "\n",
    "### `dE_dU`\n",
    "\n",
    "$$\n",
    "\\frac{\\partial E}{\\partial \\mathbf{U}} = \\sum_{t=0}^{T-1} \\frac{\\partial E}{\\partial \\mathbf{y}^{(t)}} \\frac{\\partial \\mathbf{y}^{(t)}}{\\partial \\mathbf{U}}\n",
    "$$\n",
    "\n",
    "Entonces, por la regla de la cadena:\n",
    "\n",
    "$$\n",
    "\\frac{\\partial y^{(t)}_i}{\\partial U_{pq}} = \\sum_{k=1}^{H} V_{ik} \\frac{\\partial h^{(t)}_k}{\\partial U_{pq}}\n",
    "$$\n",
    "\n",
    "Definimos a la \"entrada no activada\":\n",
    "\n",
    "$$\n",
    "\\mathbf{a}^{(t)} = \\mathbf{x}^{(t)} \\mathbf{U}^{\\top} + \\mathbf{h}^{(t-1)} \\mathbf{W}^{\\top}\n",
    "\\quad \\Longrightarrow \\quad\n",
    "a^{(t)}_k = \\sum_{m=1}^{I} x^{(t)}_m U_{km} + \\sum_{r=1}^{H} h^{(t-1)}_r W_{kr}\n",
    "$$\n",
    "\n",
    "Como $h^{(t)}_k = \\tanh(a^{(t)}_k)$, y por definición $\\tfrac{d\\tanh(f(x))}{dx} := \\left( 1 - \\tanh^{2}(f(x))\\right) \\cdot \\tfrac{df(x)}{dx}$, entonces:\n",
    "\n",
    "$$\n",
    "\\frac{\\partial h^{(t)}_k}{\\partial U_{pq}}\n",
    "= \\left( 1-(h^{(t)}_k)^{2}\\right) \\frac{\\partial a^{(t)}_k}{\\partial U_{pq}}\n",
    "$$\n",
    "\n",
    "$$\n",
    "\\frac{\\partial a^{(t)}_k}{\\partial U_{pq}}\n",
    "= \\frac{\\partial}{\\partial U_{pq}} \\left( \\sum_{m=1}^{I} x^{(t)}_m U_{km} \\right)\n",
    "= x^{(t)}_q \\delta_{kp}\n",
    "$$\n",
    "\n",
    "Por lo tanto:\n",
    "\n",
    "$$\n",
    "\\frac{\\partial y^{(t)}_i}{\\partial U_{pq}}\n",
    "= \\sum_{k=0}^{H} V_{ik} \\left( 1-(h^{(t)}_k)^{2}\\right) x^{(t)}_q \\delta_{kp}\n",
    "= V_{ip} \\left( 1-(h^{(t)}_p)^{2}\\right) x^{(t)}_q\n",
    "$$\n",
    "\n",
    "Reemplazando en la expresión original:\n",
    "\n",
    "$$\n",
    "\\frac{\\partial E}{\\partial U_{pq}}\n",
    "= \\sum_{t=0}^{T-1}\\sum_{i=1}^{O} \\underbrace{\\frac{\\partial E}{\\partial y^{(t)}_i}}_{g^{(t)}_i} \\frac{\\partial y^{(t)}_i}{\\partial U_{pq}}\n",
    "= \\sum_{t=0}^{T-1}\\sum_{i=1}^{O} g^{(t)}_i V_{ip} \\left( 1-(h^{(t)}_p)^{2}\\right) x^{(t)}_q\n",
    "$$\n",
    "\n",
    "Definiendo ahora los \"errores\" intermedios (filas):\n",
    "\n",
    "$$\n",
    "\\underbrace{\\delta_h^{(t)}}_{\\in\\mathbb{R}^{B\\times H}} := \\mathbf{g}^{(t)}\\mathbf{V}\n",
    "\\qquad\\text{y}\\qquad\n",
    "\\underbrace{\\delta_a^{(t)}}_{\\in\\mathbb{R}^{B\\times H}} := \\delta_h^{(t)} \\odot \\left( 1-(\\mathbf{h}^{(t)})^{2}\\right)\n",
    "$$\n",
    "\n",
    "<!-- dE_dh = dE_dy[:, t, :] @ V + dh_next\n",
    "dh_raw = (1 - h[:, t, :] ** 2) * dE_dh -->\n",
    "\n",
    "Entonces $\\sum_i g^{(t)}_i V_{ip} = (\\delta_h^{(t)})_p$, y\n",
    "\n",
    "$$\n",
    "\\frac{\\partial E}{\\partial U_{pq}}\n",
    "= \\sum_{t=0}^{T-1} \\underbrace{\\left( \\delta_h^{(t)} \\odot (1-(\\mathbf{h}^{(t)})^{2})\\right)_p}_{(\\delta_a^{(t)})_p} x^{(t)}_q\n",
    "$$\n",
    "\n",
    "En forma matricial compacta (para cada $t$):\n",
    "\n",
    "$$\n",
    "\\boxed{\\quad\n",
    "\\frac{\\partial E}{\\partial \\mathbf{U}}\n",
    "= \\sum_{t=0}^{T-1} \\left( \\frac{\\partial E}{\\partial \\mathbf{y}^{(t)}} \\mathbf{V}\\right) \\odot \\left( 1-(\\mathbf{h}^{(t)})^{2}\\right)^{\\top} \\mathbf{x}^{(t)}\n",
    "= \\sum_{t=0}^{T-1} \\left( \\delta_a^{(t)}\\right)^{\\top} \\mathbf{x}^{(t)} \\in\\mathbb{R}^{H\\times I}\n",
    "\\quad}\n",
    "$$\n",
    "\n",
    "$\\delta_a^{(t)}$ es exactamente el \"producto exterior\" **(error en preactivación)** × **(entrada actual)**.\n",
    "\n",
    "<!-- dE_dU += dh_raw.T @ x[:, t, :] -->\n",
    "\n",
    "### `dE_dW`\n",
    "\n",
    "$$\n",
    "\\frac{\\partial E}{\\partial \\mathbf{W}}\n",
    "= \\sum_{t=0}^{T-1}\\frac{\\partial E}{\\partial \\mathbf{y}^{(t)}} \\frac{\\partial \\mathbf{y}^{(t)}}{\\partial \\mathbf{W}}\n",
    "$$\n",
    "\n",
    "Entonces, por la regla de la cadena:\n",
    "\n",
    "$$\n",
    "\\frac{\\partial y^{(t)}_i}{\\partial W_{pr}}\n",
    "= \\sum_{k=0}^{H} V_{ik} \\frac{\\partial h^{(t)}_k}{\\partial W_{pr}}\n",
    "$$\n",
    "\n",
    "Utilizando la misma definición de $\\mathbf{a}^{(t)}$ (por $\\tanh$) y manteniendo constante a $\\mathbf{h}^{(t-1)}$ en el jacobiano local:\n",
    "\n",
    "$$\n",
    "\\frac{\\partial h^{(t)}_k}{\\partial W_{pr}}\n",
    "= \\left( 1-(h^{(t)}_k)^{2}\\right) \\frac{\\partial a^{(t)}_k}{\\partial W_{pr}}\n",
    "$$\n",
    "\n",
    "$$\n",
    "\\frac{\\partial a^{(t)}_k}{\\partial W_{pr}}\n",
    "= \\frac{\\partial}{\\partial W_{pr}} \\left( \\sum_{l=1}^{H} h^{(t-1)}_l W_{kl} \\right)\n",
    "= h^{(t-1)}_{r} \\delta_{kp}\n",
    "$$\n",
    "\n",
    "Por lo tanto:\n",
    "\n",
    "$$\n",
    "\\frac{\\partial y^{(t)}_i}{\\partial W_{pr}}\n",
    "= \\sum_k V_{ik} \\left( 1-(h^{(t)}_k)^{2}\\right) h^{(t-1)}_{r} \\delta_{kp}\n",
    "= V_{ip} \\left( 1-(h^{(t)}_p)^{2}\\right) h^{(t-1)}_{r}\n",
    "$$\n",
    "\n",
    "Reemplazando en la expresión original:\n",
    "\n",
    "$$\n",
    "\\frac{\\partial E}{\\partial W_{pr}}\n",
    "= \\sum_{t=0}^{T-1}\\sum_{i=1}^{O} \\underbrace{\\frac{\\partial E}{\\partial y^{(t)}_i}}_{g^{(t)}_i} \\frac{\\partial y^{(t)}_i}{\\partial W_{pr}}\n",
    "= \\sum_{t=0}^{T-1}\\sum_{i=1}^{O} g^{(t)}_i V_{ip} \\left( 1-(h^{(t)}_p)^{2}\\right) h^{(t-1)}_{r}\n",
    "$$\n",
    "\n",
    "Utilizando las mismas definiciones anteriores de $\\delta_h^{(t)}$ y $\\delta_a^{(t)}$, entonces $\\sum_i g^{(t)}_i V_{ip} = (\\delta_h^{(t)})_p$ y:\n",
    "\n",
    "$$\n",
    "\\boxed{\\quad\n",
    "\\frac{\\partial E}{\\partial \\mathbf{W}}\n",
    "= \\sum_{t=0}^{T-1} \\left( \\frac{\\partial E}{\\partial \\mathbf{y}^{(t)}} \\mathbf{V}\\right) \\odot \\left( 1-(\\mathbf{h}^{(t)})^{2}\\right)^{\\top} \\mathbf{h}^{(t-1)}\n",
    "= \\sum_{t=0}^{T-1} \\left( \\delta_a^{(t)}\\right)^{\\top} \\mathbf{h}^{(t-1)} \\in\\mathbb{R}^{H\\times H}\n",
    "\\quad}\n",
    "$$\n",
    "\n",
    "(para $t=0$ el término vale cero ya que $ \\mathbf{h}^{(-1)} = \\mathbf{0}$, debido a que la actualización de los pesos de $\\mathbf{W}$ depende del estado anterior, y como en el primer paso de tiempo no existe un estado oculto anterior, no hay contribución al gradiente de $\\mathbf{W}$ en $t=0$).\n",
    "\n",
    "<!-- if t > 0:\n",
    "    dE_dW += dh_raw.T @ h[:, t-1, :] -->\n",
    "\n",
    "### `dE_dx`\n",
    "\n",
    "$$\n",
    "\\frac{\\partial E}{\\partial \\mathbf{x}^{(t)}}\n",
    "= \\frac{\\partial E}{\\partial \\mathbf{y}^{(t)}} \\frac{\\partial \\mathbf{y}^{(t)}}{\\partial \\mathbf{x}^{(t)}}\n",
    "$$\n",
    "\n",
    "Entonces, por la regla de la cadena:\n",
    "\n",
    "$$\n",
    "\\frac{\\partial y^{(t)}_i}{\\partial x^{(t)}_q}\n",
    "= \\sum_k V_{ik} \\frac{\\partial h^{(t)}_k}{\\partial x^{(t)}_q}\n",
    "$$\n",
    "\n",
    "Utilizando la misma definición de $\\mathbf{a}^{(t)}$ (por $\\tanh$):\n",
    "\n",
    "$$\n",
    "\\frac{\\partial h^{(t)}_k}{\\partial x^{(t)}_q}\n",
    "= \\left( 1-(h^{(t)}_k)^{2}\\right) \\frac{\\partial a^{(t)}_k}{\\partial x^{(t)}_q}\n",
    "$$\n",
    "\n",
    "$$\n",
    "\\frac{\\partial a^{(t)}_k}{\\partial x^{(t)}_q}\n",
    "= \\frac{\\partial}{\\partial x^{(t)}_q} \\left( \\sum_{m=1}^{I} x^{(t)}_m U_{km} \\right)\n",
    "= U_{kq}\n",
    "$$\n",
    "\n",
    "Por lo tanto:\n",
    "\n",
    "$$\n",
    "\\frac{\\partial y^{(t)}_i}{\\partial x^{(t)}_q}\n",
    "= \\sum_{k=1}^{H} V_{ik} \\left( 1-(h^{(t)}_k)^{2}\\right) U_{kq}\n",
    "$$\n",
    "\n",
    "Reemplazando en la expresión original:\n",
    "\n",
    "$$\n",
    "\\frac{\\partial E}{\\partial x^{(t)}_q}\n",
    "= \\sum_{i=1}^{O} \\underbrace{\\frac{\\partial E}{\\partial y^{(t)}_i}}_{g^{(t)}_i} \\frac{\\partial y^{(t)}_i}{\\partial x^{(t)}_q}\n",
    "= \\sum_{i=1}^{O} \\sum_{k=1}^{H} g^{(t)}_i V_{ik} \\left( 1-(h^{(t)}_k)^{2}\\right) U_{kq}\n",
    "$$\n",
    "\n",
    "Utilizando las mismas definiciones anteriores de $\\delta_h^{(t)}$ y $\\delta_a^{(t)}$, entonces $\\sum_i g^{(t)}_i V_{ip} = (\\delta_h^{(t)})_p$ y:\n",
    "\n",
    "$$\n",
    "\\boxed{\\quad\n",
    "\\frac{\\partial E}{\\partial \\mathbf{x}^{(t)}}\n",
    "= \\left( \\frac{\\partial E}{\\partial \\mathbf{y}^{(t)}} \\mathbf{V}\\right) \\odot \\left( 1-(\\mathbf{h}^{(t)})^{2}\\right) \\mathbf{U}\n",
    "= \\delta_a^{(t)} \\mathbf{U} \\in\\mathbb{R}^{B\\times I}\n",
    "\\quad}\n",
    "$$\n",
    "\n",
    "<!-- dE_dx[:, t, :] = dh_raw @ U -->\n",
    "\n",
    "### `dE_dh`\n",
    "\n",
    "Actualmente, los cálculos se hicieron solo con la contribución **directa**, pero para que exista una dependencia a través del tiempo, se deben contabilizar automáticamente las rutas por las que $\\mathbf{U}$ y $\\mathbf{W}$ afectan $\\mathbf{h}^{(t-1)},\\mathbf{h}^{(t-2)},\\ldots$, acumulando gradientes (eso es, justamente, BPTT).\n",
    "\n",
    "En el error total $E = \\sum_s E^{(s)}$, $\\mathbf{x}^{(t)}$ también afecta salidas futuras ($s>t$) vía $\\mathbf{h}^{(t)} \\to \\mathbf{h}^{(t+1)} \\to \\cdots$. En la práctica, eso queda incorporado en $\\delta_a^{(t)}$ porque se calcula con la recurrencia hacia atrás (sumando el \"flujo futuro\").\n",
    "\n",
    "Al término $\\delta_h^{(t)}$ hay que sumarle $\\boldsymbol{\\phi}^{(t)}$ que corresponde a la contribución **futura** (del estado anterior) del gradiente sobre $\\mathbf{h}^{(t)}$ para que se vea afectado por ella el término $\\delta_a^{(t)}$.\n",
    "\n",
    "$$\n",
    "\\frac{\\partial E}{\\partial \\mathbf{h}^{(t)}}\n",
    "= \\underbrace{\\frac{\\partial E^{(t)}}{\\partial \\mathbf{h}^{(t)}}}_{\\text{aporte local}}\n",
    "+ \\underbrace{\\sum_{s>t}\\frac{\\partial E^{(s)}}{\\partial \\mathbf{h}^{(t)}}}_{\\text{aporte futuro}}\n",
    "$$\n",
    "\n",
    "<center>\n",
    "\n",
    "| Aporte local (vía $\\mathbf{y}^{(t)}$) | Aporte futuro (vía $\\mathbf{h}^{(t)} \\to \\mathbf{h}^{(t+1)} \\to \\cdots$) con el primer eslabón $t \\to t+1$: |\n",
    "|:---------:|:---------:|\n",
    "| $$ \\frac{\\partial E^{(t)}}{\\partial \\mathbf{h}^{(t)}} = \\frac{\\partial E^{(t)}}{\\partial \\mathbf{y}^{(t)}} \\frac{\\partial \\mathbf{y}^{(t)}}{\\partial \\mathbf{h}^{(t)}} = \\mathbf{g}^{(t)} \\mathbf{V} $$ | $$ \\sum_{s>t}\\frac{\\partial E^{(s)}}{\\partial \\mathbf{h}^{(t)}} = \\frac{\\partial E}{\\partial \\mathbf{h}^{(t+1)}} \\frac{\\partial \\mathbf{h}^{(t+1)}}{\\partial \\mathbf{h}^{(t)}} = \\frac{\\partial E}{\\partial \\mathbf{h}^{(t+1)}} \\underbrace{\\frac{\\partial \\mathbf{h}^{(t+1)}}{\\partial \\mathbf{a}^{(t+1)}}}_{\\text{diag}\\left( 1-(\\mathbf{h}^{(t+1)})^{2}\\right)} \\underbrace{\\frac{\\partial \\mathbf{a}^{(t+1)}}{\\partial \\mathbf{h}^{(t)}}}_{\\mathbf{W}} = \\underbrace{\\left( \\frac{\\partial E}{\\partial \\mathbf{h}^{(t+1)}} \\odot (1-(\\mathbf{h}^{(t+1)})^{2})\\right)}_{\\boldsymbol{\\delta}_a^{(t+1)}} \\mathbf{W} $$ |\n",
    "\n",
    "</center>\n",
    "\n",
    "<!-- #### Aporte local (vía $\\mathbf{y}^{(t)}$)\n",
    "\n",
    "$$\n",
    "\\frac{\\partial E^{(t)}}{\\partial \\mathbf{h}^{(t)}}\n",
    "= \\frac{\\partial E^{(t)}}{\\partial \\mathbf{y}^{(t)}}\\frac{\\partial \\mathbf{y}^{(t)}}{\\partial \\mathbf{h}^{(t)}}\n",
    "= \\mathbf{g}^{(t)} \\mathbf{V}\n",
    "$$\n",
    "\n",
    "#### Aporte futuro (vía $\\mathbf{h}^{(t)} \\to \\mathbf{h}^{(t+1)} \\to \\cdots$)\n",
    "\n",
    "El primer eslabón es $t \\to t+1$:\n",
    "\n",
    "$$\n",
    "\\sum_{s>t}\\frac{\\partial E^{(s)}}{\\partial \\mathbf{h}^{(t)}}\n",
    "= \\frac{\\partial E}{\\partial \\mathbf{h}^{(t+1)}} \\frac{\\partial \\mathbf{h}^{(t+1)}}{\\partial \\mathbf{h}^{(t)}}\n",
    "= \\frac{\\partial E}{\\partial \\mathbf{h}^{(t+1)}}\n",
    "\\underbrace{\\frac{\\partial \\mathbf{h}^{(t+1)}}{\\partial \\mathbf{a}^{(t+1)}}}_{\\text{diag}\\left( 1-(\\mathbf{h}^{(t+1)})^{2}\\right)}\n",
    "\\underbrace{\\frac{\\partial \\mathbf{a}^{(t+1)}}{\\partial \\mathbf{h}^{(t)}}}_{\\mathbf{W}}\n",
    "= \\underbrace{\\left( \\frac{\\partial E}{\\partial \\mathbf{h}^{(t+1)}} \\odot (1-(\\mathbf{h}^{(t+1)})^{2})\\right)}_{\\boldsymbol{\\delta}_a^{(t+1)}} \\mathbf{W}\n",
    "$$\n",
    "\n",
    "#### Recurrencia final que inyecta $\\boldsymbol{\\phi}^{(t)}$ -->\n",
    "\n",
    "La recurrencia final que inyecta $\\boldsymbol{\\phi}^{(t)}$ es:\n",
    "\n",
    "$$\n",
    "\\boxed{\\quad\n",
    "\\frac{\\partial E}{\\partial \\mathbf{h}^{(t)}}\n",
    "= \\mathbf{g}^{(t)} \\mathbf{V} + \\underbrace{\\boldsymbol{\\delta}_a^{(t+1)} \\mathbf{W}}_{\\boldsymbol{\\phi}^{(t)}} \\in\\mathbb{R}^{B\\times H}\n",
    "\\quad}\n",
    "$$\n",
    "\n",
    "donde definimos $\\delta_h^{(t)} \\equiv \\tfrac{\\partial E}{\\partial \\mathbf{h}^{(t)}}$. En el borde $t=T-1$, no hay futuro, así que el flujo $\\boldsymbol{\\phi}^{(t)} = 0$, no hay estado anterior al que propagar el gradiente.\n",
    "\n",
    "<!-- if t > 0:\n",
    "    dh_next = dh_raw @ W\n",
    "else:\n",
    "    dh_next = 0  # No hay estado anterior para t=0 -->\n"
   ]
  },
  {
   "cell_type": "markdown",
   "id": "a8bf0fc2",
   "metadata": {},
   "source": [
    "## Implementación\n",
    "\n",
    "En una RNN sin vectorizar todos los saltos de tiempo, se debe recorrer la secuencia paso a paso, de modo que el **`forward`** tendrá un bucle **ascendente**, ya que cada nuevo estado oculto $\\mathbf{h}^{(t)}$ depende del estado anterior $\\mathbf{h}^{(t-1)}$, y como se propaga la información de izquierda a derecha, es decir generamos $\\mathbf{h}^{(0)}, \\mathbf{h}^{(1)}, \\mathbf{h}^{(2)},\\dots$ en secuencia, el rango del for debe ser en orden cronológico: `for t in range(timesteps)`. \n",
    "\n",
    "```python\n",
    "for t in range(timesteps):\n",
    "    h_t = tanh(x_t·Uᵀ + h_(t−1)·Wᵀ)\n",
    "    y_t = h_t·Vᵀ\n",
    "    h_(t-1) = h_t\n",
    "```\n",
    "\n",
    "En cambio, **backpropagation through time (BPTT)**, como se deben acumular las derivadas de cada paso sobre los parámetros compartidos `(U, W, V)` y propagar el error hacia atrás en la secuencia, el gradiente en $\\mathbf{h}^{(t-1)}$ recibe contribuciones de la propia pérdida en el paso $t-1$ y la retroalimentación (a través de $\\mathbf{W}$) de la corrección en $\\mathbf{h}^{(t)}$. Para respetar esta dependencia, el **`backward`** deberá comenzar en el último paso $T$ y avanzar de manera **descendente** $0$, acumulando el gradiente \"hacia atrás\" en el tiempo.\n",
    "\n",
    "```python\n",
    "for t in reversed(range(timesteps)):\n",
    "    # gradientes de V, U, W, dx y propagación de dh\n",
    "```"
   ]
  },
  {
   "cell_type": "markdown",
   "id": "9d4e0a16",
   "metadata": {},
   "source": [
    "## Inicialización\n",
    "\n",
    "La inicialización de los parámetros `(U, W, V)` es llamativamente importante para esta arquitectura. No se pueden inicializar todos de manera uniforme, ya que esto resultaría en un cálculo simétrico en todas las capas. Varios trabajos, como el de [Xavier Glorot](https://proceedings.mlr.press/v9/glorot10a), han presentado el impacto en los resultados de realizar una correcta inicialización de parámetros previo al entrenamiento. En este caso, tales pesos deben ser inicializados de manera aleatoria, donde la inicialización depende de la función de activación `tanh`, por lo que el enfoque recomendado es inicializarlos con el inicializador `XavierUniform`.\n",
    "\n",
    "También, existe un problema en las RNN llamado el *vanishing gradient problem* que ocurre cuando los gradientes tienden a 0. Por eso, las RNN tradicionales no pueden capturar dependencias a largo plazo, así que usamos el parámetro `bptt_truncate` para limitar la longitud de la dependencia.\n"
   ]
  },
  {
   "cell_type": "code",
   "execution_count": 16,
   "id": "70fe78e3",
   "metadata": {},
   "outputs": [],
   "source": [
    "from edunn.initializers import XavierUniform\n",
    "hidden_dim = 128\n",
    "model = nn.RNN(vocab_size, vocab_size, hidden_dim, kernel_initializer=XavierUniform())"
   ]
  },
  {
   "cell_type": "markdown",
   "id": "79edf798",
   "metadata": {},
   "source": [
    "## Sequence Cross Entropy\n",
    "\n",
    "En cada paso de tiempo $t$, en la salida $\\mathbf{y}^{(t)}$, puede aplicarse una $\\text{softmax}$, por lo que se podrá utilizar la pérdida de **entropía cruzada** junto la optimización por **descenso de gradiente** o similar, pero teniendo en cuenta algunas consideraciones.\n",
    "\n",
    "$$E_{t}(\\mathbf{y}^{(t)},\\hat{\\mathbf{y}}^{(t)}) =-\\mathbf{y}^{(t)}\\log\\hat{\\mathbf{y}}^{(t)} \\quad \\Rightarrow \\quad E(\\mathbf{y},\\hat{\\mathbf{y}})=\\sum^{T-1}_{t=0}E_{t}(\\mathbf{y}^{(t)},\\hat{\\mathbf{y}}^{(t)}) = -\\sum^{T-1}_{t=0}\\mathbf{y}^{(t)}\\log\\hat{\\mathbf{y}}^{(t)}$$\n",
    "\n",
    "Aquí, $\\mathbf{y}^{(t)}$ representa la palabra correcta en el paso de tiempo $t$, e $\\hat{\\mathbf{y}}^{(t)}$ es nuestra predicción. Normalmente tratamos la secuencia completa (la frase) como un solo ejemplo de entrenamiento, así que el error total es simplemente la suma de los errores en cada paso de tiempo (cada palabra)."
   ]
  },
  {
   "cell_type": "markdown",
   "id": "222f6d7a",
   "metadata": {},
   "source": [
    "### Método Forward\n",
    "\n",
    "La RNN devuelve un vector $\\hat{\\mathbf{y}}$ con logits de tamaño `(batch_size, timesteps, vocab_size)`, que para que podamos utilizar la función de pérdida de entropía cruzada, estos deben pasar por una $\\text{softmax}$ para transformarlos en una distribución de probaiblidad y así poder compararlos con la etiqueta correcta $\\mathbf{y}$ (representada en one-hot).\n",
    "\n",
    "$$\n",
    "E_{t}\\bigl(\\mathbf{y}^{(t)},\\,\\hat{\\mathbf{y}}^{(t)}\\bigr)\n",
    "\\;=\\;\n",
    "-\\sum_{c=1}^{C}y^{(t)}_{c}\\,\\log \\bigl(\\text{softmax}(\\hat{\\mathbf{y}}^{(t)})_{c}\\bigr)\n",
    "\n",
    "\\quad\n",
    "\\Rightarrow\n",
    "\\quad\n",
    "\n",
    "E(\\mathbf{y},\\hat{\\mathbf{y}})\n",
    "\\;=\\;\n",
    "\\sum_{t=0}^{T-1}E_{t}\\bigl(\\mathbf{y}^{(t)},\\,\\hat{\\mathbf{y}}^{(t)}\\bigr)\n",
    "\\;=\\;\n",
    "-\\,\\sum_{t=0}^{T-1}\\sum_{c=1}^{C}y^{(t)}_{c}\\,\\log \\bigl(\\text{softmax}(\\hat{\\mathbf{y}}^{(t)})_{c}\\bigr)\n",
    "$$\n",
    "\n",
    "> NOTA: se deben ignorar los tokens de padding (aquellos que sólo rellenan hasta la longitud fija) y normalizar sobre el número de tokens válidos."
   ]
  },
  {
   "cell_type": "markdown",
   "id": "c20dafd4",
   "metadata": {},
   "source": [
    "#### Implementación\n",
    "\n",
    "Se define la **máscara de tokens válidos** como $\\mathrm{mask}_{b,t} = \\mathbb{1}_{\\mathrm{token}_{b,t} \\neq \\text{padding}} \\in \\{0,1\\}^{B\\times T}$. Luego convertimos el vector de logits $\\hat{\\mathbf{y}}^{(b,t)}\\in\\mathbb{R}^{C}$ en probabilidades $\\mathbf{p}^{(b,t)} = \\text{softmax}(\\hat{\\mathbf{y}}^{(b,t)})\\in[0,1]^{C}$. En consecuencia calculamos $E_{b,t} = - \\sum_{c} \\mathbf{y}^{(b,t)}_{c} \\log p^{(b,t)}_{c}$ para seleccionar las **probabilidades verdaderas**, ya que $c$ es el token correcto en $(b,t)$.\n",
    "\n",
    "Finalmente, sumamos sobre todos los $(b,t)$, ignorando padding al multiplicar por la máscara, y dividimos por la suma de la máscara ya que tal suma representa una media por token, de modo que la magnitud de la pérdida sea comparable independientemente de cuántos pasos de tiempo tenga cada batch.\n",
    "\n",
    "$$\n",
    "\\boxed{\\quad\n",
    "E =  \\frac{1}{\\sum_{b,t}\\mathrm{mask}_{b,t}} \\sum_{b=1}^{B}\\sum_{t=0}^{T-1} E_{b,t}                                                  \\mathrm{mask}_{b,t}\n",
    "  = -\\frac{1}{\\sum_{b,t}\\mathrm{mask}_{b,t}} \\sum_{b=1}^{B}\\sum_{t=0}^{T-1} \\sum_{c=1}^{C} \\mathbf{y}^{(b,t)}_{c} \\log p^{(b,t)}_{c} \\mathrm{mask}_{b,t}\n",
    "\\quad}\n",
    "$$\n",
    "\n",
    "> La función $\\text{softmax}(\\mathbf{z})_i = \\frac{e^{z_i}}{\\sum_j e^{z_j}}$ puede generar valores muy pequeños o muy grandes si los $z_i$ (*logits*) tienen magnitudes altas o muy dispares. Esto puede llevar a **overflow** o **underflow** numérico en la computación. En cambio, $\\log\\text{softmax}(\\mathbf{z})_i = z_i - \\log\\sum_j e^{z_j}$ permite restar el log-sum-exp **antes** de exponenciar, lo que estabiliza y evita errores numéricos.\n",
    ">\n",
    "> Además, **por razones de estabilidad numérica**, se resta el máximo en la `log_softmax`, ya que la parte crítica $\\sum_j e^{z_j}$ es sensible a que si algún $z_j$ es muy grande, $e^{z_j}$ tendrá valor `inf`:\n",
    ">\n",
    "> $$\n",
    "> \\textstyle\n",
    "> \\log\\text{softmax}(\\mathbf{z})_i = z_i - \\log\\sum_j e^{z_j}\n",
    "> \\quad \\longrightarrow \\quad\n",
    "> z_i - z_{\\text{max}} - \\log\\sum_j e^{z_j - z_{\\text{max}}}\n",
    "> $$"
   ]
  },
  {
   "cell_type": "markdown",
   "id": "2bf4bb0d",
   "metadata": {},
   "source": [
    "### Método Backward\n",
    "\n",
    "La derivada de la entropía cruzada combinada con softmax para un vector de logits $\\hat{\\mathbf{y}}^{(b,t)}\\in\\mathbb{R}^{C}$ y vector de etiqueta $\\mathbf{y}^{(b,t)}\\in\\{0,1\\}^{C}$ one-hot se calcula:\n",
    "\n",
    "$$\n",
    "\\frac{\\partial E}{\\partial \\hat{\\mathbf{y}}^{(b,t)}} = \\frac{\\partial E}{\\partial \\mathbf{p}^{(b,t)}} \\frac{\\partial \\mathbf{p}^{(b,t)}}{\\partial \\hat{\\mathbf{y}}^{(b,t)}}\n",
    "$$\n",
    "\n",
    "> Usamos que $\\dfrac{\\partial}{\\partial \\hat z_j}\\log p_i = \\frac{1}{p_i}\\frac{\\partial p_i}{\\partial \\hat z_j}$ y el jacobiano de softmax es $\\dfrac{\\partial p_i}{\\partial z_j} = p_i (\\delta_{ij} - p_j)$.\n",
    "\n",
    "\n",
    "### `dp_dŷ`\n",
    "\n",
    "Fijemos un par $(b,t)$ y derivemos respecto del logit $\\hat y^{(b,t)}_j$:\n",
    "\n",
    "$$\n",
    "\\frac{\\partial p^{(b,t)}_c}{\\partial \\hat y^{(b,t)}_j}\n",
    "= p^{(b,t)}_c (\\delta_{cj} - p^{(b,t)}_j)\n",
    "$$\n",
    "\n",
    "### `dE_dp`\n",
    "\n",
    "Fijemos un par $(b,t)$ y derivemos respecto del logit $\\hat y^{(b,t)}_j$:\n",
    "\n",
    "$$\n",
    "\\frac{\\partial}{\\partial \\hat y^{(b,t)}_j}\\big(\\log p^{(b,t)}_c\\big)\n",
    "= \\frac{1}{p^{(b,t)}_c} \\cdot p^{(b,t)}_c (\\delta_{cj} - p^{(b,t)}_j) = \\delta_{cj} - p^{(b,t)}_j\n",
    "$$\n",
    "\n",
    "y por tanto\n",
    "\n",
    "$$\n",
    "\\frac{\\partial E}{\\partial \\hat y^{(b,t)}_j}\n",
    "= -\\frac{\\mathrm{mask}_{b,t}}{\\sum_{b',t'}\\mathrm{mask}_{b',t'}} \\sum_{c=1}^C y^{(b,t)}_c \\frac{\\partial}{\\partial \\hat y^{(b,t)}_j}\\big(\\log p^{(b,t)}_c\\big)\n",
    "= -\\frac{\\mathrm{mask}_{b,t}}{\\sum_{b',t'}\\mathrm{mask}_{b',t'}} \\sum_{c=1}^C y^{(b,t)}_c (\\delta_{cj}-p^{(b,t)}_j)\n",
    "= -\\frac{\\mathrm{mask}_{b,t}}{\\sum_{b',t'}\\mathrm{mask}_{b',t'}} \\big(y^{(b,t)}_j - p^{(b,t)}_j\\big).\n",
    "$$\n",
    "\n",
    "Reordenando signos y en forma vectorial para ese $(b,t)$:\n",
    "\n",
    "$$\n",
    "\\boxed{\\quad\n",
    "\\frac{\\partial E}{\\partial \\hat{\\mathbf y}^{(b,t)}}\n",
    "= \\frac{\\mathrm{mask}_{b,t}}{\\sum_{b',t'}\\mathrm{mask}_{b',t'}} \\big(\\mathbf p^{(b,t)} - \\mathbf y^{(b,t)}\\big)\n",
    "\\quad}\n",
    "$$\n"
   ]
  },
  {
   "cell_type": "markdown",
   "id": "f359770c",
   "metadata": {},
   "source": [
    "#### Implementación\n",
    "\n",
    "Se reconstruyen las probabilidades $\\mathbf{p}^{(b,t)}\\in[0,1]^{C}$ y definimos al gradiente inicial en el espacio $\\mathbb{R}^{B\\times T\\times C}$ como $g^{(b,t)}_{c} = p^{(b,t)}_{c} - y^{(b,t)}_{c}$, finalmente aplicamos la máscara y normalizamos nuevamente a nivel de tokens de la secuencia, como se realizó en el forward pass.\n",
    "\n",
    "$$\n",
    "\\frac{\\partial E}{\\partial \\hat{\\mathbf{y}}^{(b,t)}} = \\mathbf{g}^{(b,t)} \\odot \\frac{\\mathrm{mask}_{b,t}}{\\sum_{b',t'}\\mathrm{mask}_{b',t'}}\n",
    "$$\n",
    "\n",
    "y para todo el lote/tiempo, la misma expresión aplica elemento a elemento (broadcasting de la máscara con `mask[:,:,None]`)."
   ]
  },
  {
   "cell_type": "code",
   "execution_count": 17,
   "id": "f420acd9",
   "metadata": {},
   "outputs": [],
   "source": [
    "error = nn.SequenceCrossEntropyWithLabels(pad_index=1)\n",
    "optimizer = nn.GradientDescent(lr=0.1, epochs=100, batch_size=16)"
   ]
  },
  {
   "cell_type": "code",
   "execution_count": 18,
   "id": "130ae8ed",
   "metadata": {},
   "outputs": [],
   "source": [
    "# history = optimizer.optimize(model, X_train_onehot, y_train_onehot, error)\n",
    "# nn.plot.plot_history(history, error_name=error.name)"
   ]
  },
  {
   "cell_type": "code",
   "execution_count": 19,
   "id": "fc4010bd",
   "metadata": {},
   "outputs": [],
   "source": [
    "y_pred = model.forward(X_train_onehot[:1])\n",
    "y_pred_labels = nn.utils.onehot2labels(y_pred)"
   ]
  },
  {
   "cell_type": "code",
   "execution_count": 20,
   "id": "8274ad5f",
   "metadata": {},
   "outputs": [
    {
     "data": {
      "text/plain": [
       "((1, 50, 8000), (1, 8000))"
      ]
     },
     "execution_count": 20,
     "metadata": {},
     "output_type": "execute_result"
    }
   ],
   "source": [
    "y_pred.shape, y_pred_labels.shape"
   ]
  },
  {
   "cell_type": "code",
   "execution_count": 21,
   "id": "f62f0ccd",
   "metadata": {},
   "outputs": [],
   "source": [
    "decode_greedy = lambda seq, eos=2: list(seq)[:list(seq).index(eos)] if eos in seq else list(seq)"
   ]
  },
  {
   "cell_type": "code",
   "execution_count": 22,
   "id": "20d2d9b9",
   "metadata": {},
   "outputs": [
    {
     "name": "stdout",
     "output_type": "stream",
     "text": [
      "X: <SOS> body \"i joined a new league this year and they have different scoring rules than i'm used to\n",
      "y: body \"i joined a new league this year and they have different scoring rules than i'm used to <EOS>\n",
      "ŷ: but \" have was you and that like in this to for and with people for it get on was not <PAD> it on on but as my people so people is what that have \" for if with it have is is more and what but for for and \" of a on your you more with and on with with with it but \" a get and your a people was but that don't of that have i that have a was the on in if i an the get but people <PAD> with this of but or are if with people for people for is it and can this in on if from people on with get \" for i don't be not don't and have but be\n"
     ]
    }
   ],
   "source": [
    "print(\"X:\", \" \".join(index_to_word[x] for x in X_train[0]))\n",
    "print(\"y:\", \" \".join(index_to_word[y] for y in y_train[0]))\n",
    "print(\"ŷ:\", \" \".join(index_to_word[y] for y in decode_greedy(y_pred_labels[0])))"
   ]
  },
  {
   "cell_type": "markdown",
   "id": "4b3c6822",
   "metadata": {},
   "source": [
    "# Copy Task\n",
    "\n",
    "El dataset anterior, `reddit_comments`, es similar a una tarea clásica de clasificación binaria conocida como \"copy-task\" (o, de forma más informal, \"echo-task\"). Esta tarea es ideal para verificar la lógica de memoria temporal mediante salidas codificadas en one-hot. Sin embargo, dado que ese dataset tiene un `vocab_size=8000`, entrenar una RNN con él requiere muchas épocas y una cantidad considerable de datos.\n",
    "\n",
    "La tarea consiste en presentar una secuencia seguida por un período de *silencio* (padding), y luego solicitar al modelo que **reproduzca** la secuencia original.\n",
    "\n",
    "Para facilitar un entrenamiento controlado, puede generarse automáticamente un dataset en el que se cumpla `X[t] == X[t-k]`, es decir, el modelo debe predecir el símbolo que ocurrió `k` pasos atrás. Esta tarea secuencia-a-secuencia con enteros permite verificar que la RNN aprende dependencias temporales, ya que obliga a la red a **memorizar** o **retener** información durante múltiples pasos. Así se puede comprobar que el estado oculto y el algoritmo de retropropagación a través del tiempo (BPTT) están funcionando correctamente.\n",
    "\n",
    "> Si tu red **aprende a repetir** el token correcto con una pérdida baja, significa que la BPTT, la gestión del estado y el cálculo de gradientes están bien implementados.  \n",
    "> Si no lo logra, sabrás que el fallo está en la parte recurrente o en la propagación temporal, y no en la complejidad del lenguaje natural.\n"
   ]
  },
  {
   "cell_type": "code",
   "execution_count": 23,
   "id": "864502e6",
   "metadata": {},
   "outputs": [],
   "source": [
    "def generate_echo_dataset(vocab_size: int,\n",
    "                          seq_len: int,\n",
    "                          delay: int,\n",
    "                          num_sequences: int):\n",
    "    \"\"\"\n",
    "    Generates a toy 'echo' dataset.\n",
    "\n",
    "    Args:\n",
    "        vocab_size (int): Size of the vocabulary, including PAD token at index 0.\n",
    "        seq_len (int): Length of each sequence.\n",
    "        delay (int): How many steps to delay the echo (target output).\n",
    "        num_sequences (int): Number of sequences to generate.\n",
    "\n",
    "    Returns:\n",
    "        tuple[np.ndarray, np.ndarray]: A pair of arrays (X_onehot, Y_onehot),\n",
    "        both with shape (num_sequences, seq_len, vocab_size).\n",
    "    \"\"\"\n",
    "\n",
    "    X_int = np.random.randint(1, vocab_size, size=(num_sequences, seq_len))\n",
    "    Y_int = np.zeros_like(X_int) # los primeros `delay` son PAD\n",
    "    Y_int[:, delay:] = X_int[:, :-delay]\n",
    "\n",
    "    X_onehot = np.eye(vocab_size)[X_int]\n",
    "    Y_onehot = np.eye(vocab_size)[Y_int]\n",
    "    \n",
    "    return X_onehot, Y_onehot"
   ]
  },
  {
   "cell_type": "code",
   "execution_count": 24,
   "id": "4c916e54",
   "metadata": {},
   "outputs": [
    {
     "name": "stdout",
     "output_type": "stream",
     "text": [
      "X_int ejemplo: [47 31  6 18 28  8 17 50 22 25 31 22 19 31 23  5 47 44 34 32]\n",
      "Y_int ejemplo: [ 0  0  0 47 31  6 18 28  8 17 50 22 25 31 22 19 31 23  5 47]\n"
     ]
    }
   ],
   "source": [
    "vocab_size   = 51    # 0=PAD, 1..50 símbolos reales\n",
    "seq_len      = 20\n",
    "delay        = 3\n",
    "num_sequences = 2048\n",
    "\n",
    "X_echo, Y_echo = generate_echo_dataset(vocab_size, seq_len, delay, num_sequences)\n",
    "\n",
    "print(\"X_int ejemplo:\", np.argmax(X_echo[0], axis=1))\n",
    "print(\"Y_int ejemplo:\", np.argmax(Y_echo[0], axis=1))"
   ]
  },
  {
   "cell_type": "code",
   "execution_count": 25,
   "id": "7c44b986",
   "metadata": {},
   "outputs": [],
   "source": [
    "hidden_dim = 16\n",
    "model = nn.RNN(input_dim=vocab_size,\n",
    "               output_dim=vocab_size,\n",
    "               hidden_dim=hidden_dim,\n",
    "               bptt_truncate=seq_len,\n",
    "               kernel_initializer=XavierUniform())\n",
    "\n",
    "error     = nn.SequenceCrossEntropyWithLabels(pad_index=0)\n",
    "optimizer = nn.GradientDescent(lr=0.1, epochs=200, batch_size=32)"
   ]
  },
  {
   "cell_type": "code",
   "execution_count": 26,
   "id": "efe6c876",
   "metadata": {},
   "outputs": [
    {
     "data": {
      "application/vnd.jupyter.widget-view+json": {
       "model_id": "d4470cefd5654b3f85e7e3e451ac30bb",
       "version_major": 2,
       "version_minor": 0
      },
      "text/plain": [
       "optim. RNN_1:   0%|          | 0/200 [00:00<?, ?it/s]"
      ]
     },
     "metadata": {},
     "output_type": "display_data"
    },
    {
     "data": {
      "image/png": "[encoded data removed]",
      "text/plain": [
       "<Figure size 640x480 with 1 Axes>"
      ]
     },
     "metadata": {},
     "output_type": "display_data"
    }
   ],
   "source": [
    "history = optimizer.optimize(model, X_echo, Y_echo, error)\n",
    "nn.plot.plot_history(history, error_name=error.name)"
   ]
  },
  {
   "cell_type": "code",
   "execution_count": 27,
   "id": "576a0d91",
   "metadata": {},
   "outputs": [],
   "source": [
    "y_pred_logits = model.forward(X_echo[:1])\n",
    "y_pred_idx    = nn.utils.onehot2labels(y_pred_logits)[0]"
   ]
  },
  {
   "cell_type": "code",
   "execution_count": 28,
   "id": "1371af06",
   "metadata": {},
   "outputs": [
    {
     "data": {
      "text/plain": [
       "((1, 20, 51), (1, 20, 51))"
      ]
     },
     "execution_count": 28,
     "metadata": {},
     "output_type": "execute_result"
    }
   ],
   "source": [
    "X_echo[:1].shape, y_pred_logits.shape"
   ]
  },
  {
   "cell_type": "code",
   "execution_count": 29,
   "id": "2d119493",
   "metadata": {},
   "outputs": [
    {
     "name": "stdout",
     "output_type": "stream",
     "text": [
      "X: [47 31  6 18 28  8 17 50 22 25 31 22 19 31 23  5 47 44 34 32]\n",
      "y: [ 0  0  0 47 31  6 18 28  8 17 50 22 25 31 22 19 31 23  5 47]\n",
      "ŷ: [20 28 32 47 31  6 18 28  8 17 50 22 25 31 14 19 31 23  5 47]\n"
     ]
    }
   ],
   "source": [
    "print(\"X:\", np.argmax(X_echo[0], axis=1))\n",
    "print(\"y:\", np.argmax(Y_echo[0], axis=1))\n",
    "print(\"ŷ:\", np.argmax(y_pred_logits[0], axis=1))"
   ]
  },
  {
   "cell_type": "code",
   "execution_count": 30,
   "id": "7ecacc37",
   "metadata": {},
   "outputs": [],
   "source": [
    "# definir estado inicial (t = -1) -> h_prev\n",
    "# Forward pass a través del tiempo (for i to timesteps)\n",
    "    # Calcular estado oculto: h_t = tanh(x_t @ U.T + h_prev @ W.T)\n",
    "    # Calcular salida: y_t = h_t @ V.T\n",
    "    # Almacenar estado y actualizar para siguiente timestep\n",
    "\n",
    "# Backward pass a través del tiempo (en reversa)\n",
    "    # # Gradiente para V: dE/dV += (dE_dy_t.T @ h_t)\n",
    "    # dE_dV += np.dot(\n",
    "    #     dE_dy[:, t, :].T, hs[:, t, :]  # (input_dim, batch_size)  # (batch_size, hidden_dim)\n",
    "    # )  # Resultado: (input_dim, hidden_dim)\n",
    "\n",
    "    # # Gradiente del estado oculto (desde salida y estado siguiente)\n",
    "    # dE_dh = np.dot(dE_dy[:, t, :], V) + dh_next  # (batch_size, hidden_dim)  # (batch_size, hidden_dim)\n",
    "\n",
    "    # # Gradiente a través de tanh (dhraw = dE_dh * (1 - hs[t]^2))\n",
    "    # dh_raw = (1 - hs[:, t, :] ** 2) * dE_dh\n",
    "\n",
    "    # # Gradiente para U: dE/dU += (dh_raw.T @ x_t)\n",
    "    # dE_dU += np.dot(\n",
    "    #     dh_raw.T, x[:, t, :]  # (hidden_dim, batch_size)  # (batch_size, input_dim)\n",
    "    # )  # Resultado: (hidden_dim, input_dim)\n",
    "\n",
    "    # # Gradiente para entrada x_t: dE/dx_t = dh_raw @ U\n",
    "    # dE_dx[:, t, :] = np.dot(dh_raw, U)  # (batch_size, input_dim)\n",
    "\n",
    "    # # Actualizar dh_next si no es el primer timestep\n",
    "    # if t > 0:\n",
    "    #     # Gradiente para W: dE/dW += (dh_raw.T @ h_{t-1})\n",
    "    #     dE_dW += np.dot(\n",
    "    #         dh_raw.T, hs[:, t - 1, :]  # (hidden_dim, batch_size)  # (batch_size, hidden_dim)\n",
    "    #     )  # Resultado: (hidden_dim, hidden_dim)\n",
    "\n",
    "    #     # Preparar gradiente para siguiente estado: dh_next = dh_raw @ W\n",
    "    #     dh_next = np.dot(dh_raw, W)  # (batch_size, hidden_dim)\n",
    "    # else:\n",
    "    #     # En t=0 no hay estado anterior\n",
    "    #     dh_next = np.zeros((batch_size, self.hidden_dim))"
   ]
  },
  {
   "cell_type": "code",
   "execution_count": null,
   "id": "2193e2a7",
   "metadata": {},
   "outputs": [],
   "source": []
  }
 ],
 "metadata": {
  "kernelspec": {
   "display_name": "captum",
   "language": "python",
   "name": "python3"
  },
  "language_info": {
   "codemirror_mode": {
    "name": "ipython",
    "version": 3
   },
   "file_extension": ".py",
   "mimetype": "text/x-python",
   "name": "python",
   "nbconvert_exporter": "python",
   "pygments_lexer": "ipython3",
   "version": "3.12.3"
  }
 },
 "nbformat": 4,
 "nbformat_minor": 5
}
