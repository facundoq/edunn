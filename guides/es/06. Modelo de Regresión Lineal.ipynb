{
 "cells": [
  {
   "cell_type": "code",
   "execution_count": null,
   "metadata": {},
   "outputs": [],
   "source": [
    "%load_ext autoreload\n",
    "%autoreload 2\n",
    "import numpy as np\n",
    "import edunn as nn\n",
    "from edunn import utils"
   ]
  },
  {
   "cell_type": "markdown",
   "metadata": {},
   "source": [
    "# Modelo de Regresión Lineal: `forward`\n",
    "\n",
    "Un modelo de Regresión Lineal se forma aplicando primero una capa lineal $f(x)=wx$ y luego una capa de bias $f(x)=x+b$ obteniendo finalmente la función $f(x)=wx+b$. Ahora bien, en lugar de ver a $f(x)$ como $wx+b$, podemos verlo como `x -> Linear -> Bias -> y`. Es decir, como una sucesión de capas, que cada una transforma la entrada `x` hasta obtener la salida `y`.\n",
    "\n",
    "En términos de código, el método `forward` de un modelo de `LinearRegression` es la composición de las funciones `forward` de las capas `Linear` y `Bias`:\n",
    "````python\n",
    "y_linear = linear.forward(x)\n",
    "y = bias.forward(y_linear)\n",
    "````\n",
    "\n",
    "Implementa el método `forward` del modelo `LinearRegression` en el archivo `edunn/models/linear_regression.py`:"
   ]
  },
  {
   "cell_type": "code",
   "execution_count": null,
   "metadata": {},
   "outputs": [],
   "source": [
    "x = np.array([[3,-7],\n",
    "             [-3,7]])\n",
    "\n",
    "w = np.array([[2, 3, 4],[4,5,6]])\n",
    "b = np.array([1,2,3])\n",
    "linear_initializer = nn.initializers.Constant(w)\n",
    "bias_initializer = nn.initializers.Constant(b)\n",
    "layer=nn.LinearRegression(2,3,linear_initializer=linear_initializer,bias_initializer=bias_initializer)\n",
    "y = np.array([[-21, -24, -27],\n",
    "              [ 23, 28,  33]])\n",
    "\n",
    "utils.check_same(y,layer.forward(x))\n",
    "\n",
    "linear_initializer = nn.initializers.Constant(-w)\n",
    "bias_initializer = nn.initializers.Constant(-b)\n",
    "layer=nn.LinearRegression(2,3,linear_initializer=linear_initializer,bias_initializer=bias_initializer)\n",
    "utils.check_same(-y,layer.forward(x))"
   ]
  },
  {
   "cell_type": "markdown",
   "metadata": {},
   "source": [
    "# Modelo de Regresión Lineal: `backward`\n",
    "\n",
    "El método `backward` de un modelo de `LinearRegression` es la composición *inversa* de las funciones `backward` de las capas `Linear` y `Bias`.\n",
    "\n",
    "Es decir, la derivada del error de la salida del modelo primero pasa por `Bias`, que calcula la derivada respecto de sus parámetros y lo devuelve en `δEδbias` (el único parámetro es $b$ en este caso). Ahora tenemos entonces `δEδx_bias` la derivada del error respecto de la salida de la capa `Linear`. Por ende, podemos hacer lo mismo pero al revés que el `forward`.\n",
    "\n",
    "¡Este es el primer ejemplo (simple) de la aplicación del algoritmo de *backpropagation*! Esta vez, solo con dos modelos/capas. Luego lo generalizaremos con el modelo `Sequential`.\n",
    "\n",
    "En este caso, también te ayudamos combinando el diccionario de gradientes de cada capa en un gran diccionario único de gradientes de `LinearRegression` utilizando el operador `**` que desarma un diccionario, con `{**dict1, **dict2}` que los vuelve a combinar.\n",
    "\n"
   ]
  },
  {
   "cell_type": "code",
   "execution_count": null,
   "metadata": {},
   "outputs": [],
   "source": [
    "samples = 100\n",
    "batch_size=2\n",
    "din=3 # dimensión de entrada\n",
    "dout=5 # dimensión de salida\n",
    "input_shape=(batch_size,din)\n",
    "\n",
    "# Verificar las derivadas de un modelo de Regresión Lineal\n",
    "# con valores aleatorios de `w`, `b`, y `x`, la entrada\n",
    "layer=nn.LinearRegression(din,dout)\n",
    "\n",
    "utils.check_gradient.common_layer(layer,input_shape,samples=samples)    \n"
   ]
  },
  {
   "cell_type": "markdown",
   "metadata": {},
   "source": [
    "¡Tenemos nuestro primer modelo complejo! Pero todavía no podemos entrenarlo. Para eso necesitamos:\n",
    "\n",
    "1. Un conjunto de datos\n",
    "2. Una función de error\n",
    "3. Un algoritmo de optimización para esa función de error\n",
    "\n",
    "En la siguientes guías, vamos a implementar (2) y luego (3), y tomando algún conjunto de datos (1) pondremos a prueba este modelo de Regresión Lineal."
   ]
  }
 ],
 "metadata": {
  "kernelspec": {
   "display_name": "Python 3",
   "language": "python",
   "name": "python3"
  },
  "language_info": {
   "codemirror_mode": {
    "name": "ipython",
    "version": 3
   },
   "file_extension": ".py",
   "mimetype": "text/x-python",
   "name": "python",
   "nbconvert_exporter": "python",
   "pygments_lexer": "ipython3",
   "version": "3.8.10"
  }
 },
 "nbformat": 4,
 "nbformat_minor": 4
}
