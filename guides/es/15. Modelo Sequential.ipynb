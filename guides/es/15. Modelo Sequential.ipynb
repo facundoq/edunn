{
 "cells": [
  {
   "cell_type": "code",
   "execution_count": null,
   "metadata": {},
   "outputs": [],
   "source": [
    "%load_ext autoreload\n",
    "%autoreload 2\n"
   ]
  },
  {
   "cell_type": "markdown",
   "metadata": {},
   "source": [
    "# Modelo Sequential\n",
    "\n",
    "Un modelo de Regresión Lineal se forma aplicando primero una capa lineal ($f(x)=wx$) con una capa de bias ($f(x)=x+b$) obteniendo la función $f(x)=wx+b$. Ahora bien, en lugar de ver a $f(x)$ de esta forma, podemos verlo como `x -> Lineal -> Bias -> y`. Es decir, como una sucesión de capas, que cada una transforma la entrada `x` hasta obtener la salida `y`."
   ]
  },
  {
   "cell_type": "code",
   "execution_count": null,
   "metadata": {},
   "outputs": [],
   "source": []
  },
  {
   "cell_type": "markdown",
   "metadata": {},
   "source": [
    "# Regresión Lineal\n",
    "\n",
    "Ahora que tenemos todos los elementos, podemos definir y entrenar nuestro primer modelo regresión lineal para estimar el precio de casas utilizando el conjunto de datos de [Casas de Boston](https://www.kaggle.com/c/boston-housing)"
   ]
  },
  {
   "cell_type": "code",
   "execution_count": null,
   "metadata": {},
   "outputs": [],
   "source": [
    "import simplenn as sn\n",
    "import numpy as np\n",
    "from simplenn import metrics,datasets\n",
    "\n",
    "x,y=datasets.load_regression(\"boston\")\n",
    "x = (x-x.mean(axis=0))/x.std(axis=0)\n",
    "n, din = x.shape\n",
    "n, dout = y.shape\n",
    "print(\"Dataset sizes:\", x.shape,y.shape)\n",
    "\n",
    "hidden_dim=10\n",
    "\n",
    "#Red con dos capas lineales\n",
    "model = sn.Sequential([sn.Linear(din,dout),\n",
    "                       sn.Bias(dout),\n",
    "                      ])\n",
    "\n",
    "error = sn.MeanError(sn.SquaredError())\n",
    "optimizer = sn.StochasticGradientDescent(lr=0.001,epochs=1000,batch_size=32)\n",
    "\n",
    "# Algoritmo de optimización\n",
    "history = optimizer.optimize(model,x,y,error)\n",
    "sn.plot.plot_history(history,error_name=error.name)\n",
    "\n",
    "\n",
    "print(\"Error del modelo:\")\n",
    "y_pred=model.forward(x)\n",
    "metrics.regression_summary(y,y_pred)\n",
    "sn.plot.regression1d_predictions(y,y_pred)"
   ]
  },
  {
   "cell_type": "markdown",
   "metadata": {},
   "source": [
    "# Comparación con sklearn\n",
    "\n",
    "Como verificación adicional, calcularemos los parámetros óptimos de un modelo de regresión lineal con sklearn, y visualizamos los resultados. El error debería ser similar al de nuestro modelo (RMSE=3.27 o 3.28)."
   ]
  },
  {
   "cell_type": "code",
   "execution_count": null,
   "metadata": {},
   "outputs": [],
   "source": [
    "from sklearn import linear_model\n",
    "model=linear_model.LinearRegression()\n",
    "model.fit(x,y)\n",
    "y_pred=model.predict(x)\n",
    "print(\"Error del modelo:\")\n",
    "metrics.regression_summary(y,y_pred)\n",
    "print()\n",
    "\n",
    "sn.plot.regression1d_predictions(y,y_pred)\n"
   ]
  }
 ],
 "metadata": {
  "kernelspec": {
   "display_name": "Python 3",
   "language": "python",
   "name": "python3"
  },
  "language_info": {
   "codemirror_mode": {
    "name": "ipython",
    "version": 3
   },
   "file_extension": ".py",
   "mimetype": "text/x-python",
   "name": "python",
   "nbconvert_exporter": "python",
   "pygments_lexer": "ipython3",
   "version": "3.8.5"
  }
 },
 "nbformat": 4,
 "nbformat_minor": 4
}
