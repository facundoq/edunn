{
 "cells": [
  {
   "cell_type": "code",
   "execution_count": 1,
   "metadata": {},
   "outputs": [],
   "source": [
    "import sys\n",
    "sys.path.insert(0, '../..')"
   ]
  },
  {
   "cell_type": "code",
   "execution_count": 2,
   "metadata": {},
   "outputs": [],
   "source": [
    "%load_ext autoreload\n",
    "%autoreload 2\n",
    "import numpy as np\n",
    "import edunn as nn\n",
    "from edunn import utils"
   ]
  },
  {
   "cell_type": "markdown",
   "metadata": {},
   "source": [
    "# Capa Flatten\n",
    "\n",
    "La operación de aplanamiento (Flatten) en una red neuronal convolucional es bastante sencilla. En el método `forward`, simplemente necesitas cambiar la forma del tensor de entrada a un vector, respetando la dimensión de lotes. En el método `backward`, necesitas cambiar la forma del vector de nuevo a la forma original del tensor de entrada. Implementa ambos métodos."
   ]
  },
  {
   "cell_type": "code",
   "execution_count": 3,
   "metadata": {},
   "outputs": [],
   "source": [
    "np.random.seed(123)\n",
    "\n",
    "x = np.random.rand(2,3,5,5)\n",
    "\n",
    "layer=nn.Flatten()\n",
    "y=layer.forward(x)"
   ]
  },
  {
   "cell_type": "code",
   "execution_count": 4,
   "metadata": {},
   "outputs": [
    {
     "data": {
      "text/plain": [
       "(array([[[[1., 1., 1., 1., 1.],\n",
       "          [1., 1., 1., 1., 1.],\n",
       "          [1., 1., 1., 1., 1.],\n",
       "          [1., 1., 1., 1., 1.],\n",
       "          [1., 1., 1., 1., 1.]],\n",
       " \n",
       "         [[1., 1., 1., 1., 1.],\n",
       "          [1., 1., 1., 1., 1.],\n",
       "          [1., 1., 1., 1., 1.],\n",
       "          [1., 1., 1., 1., 1.],\n",
       "          [1., 1., 1., 1., 1.]],\n",
       " \n",
       "         [[1., 1., 1., 1., 1.],\n",
       "          [1., 1., 1., 1., 1.],\n",
       "          [1., 1., 1., 1., 1.],\n",
       "          [1., 1., 1., 1., 1.],\n",
       "          [1., 1., 1., 1., 1.]]],\n",
       " \n",
       " \n",
       "        [[[1., 1., 1., 1., 1.],\n",
       "          [1., 1., 1., 1., 1.],\n",
       "          [1., 1., 1., 1., 1.],\n",
       "          [1., 1., 1., 1., 1.],\n",
       "          [1., 1., 1., 1., 1.]],\n",
       " \n",
       "         [[1., 1., 1., 1., 1.],\n",
       "          [1., 1., 1., 1., 1.],\n",
       "          [1., 1., 1., 1., 1.],\n",
       "          [1., 1., 1., 1., 1.],\n",
       "          [1., 1., 1., 1., 1.]],\n",
       " \n",
       "         [[1., 1., 1., 1., 1.],\n",
       "          [1., 1., 1., 1., 1.],\n",
       "          [1., 1., 1., 1., 1.],\n",
       "          [1., 1., 1., 1., 1.],\n",
       "          [1., 1., 1., 1., 1.]]]]),\n",
       " {})"
      ]
     },
     "execution_count": 4,
     "metadata": {},
     "output_type": "execute_result"
    }
   ],
   "source": [
    "# Define el gradiente de la salida\n",
    "g = np.ones_like(y)\n",
    "\n",
    "# Propaga el gradiente hacia atrás a través de la convolución\n",
    "layer_grad = layer.backward(g)\n",
    "layer_grad"
   ]
  },
  {
   "cell_type": "markdown",
   "metadata": {},
   "source": [
    "# Comprobaciones con PyTorch"
   ]
  },
  {
   "cell_type": "code",
   "execution_count": 5,
   "metadata": {},
   "outputs": [
    {
     "data": {
      "text/plain": [
       "tensor([[0.6965, 0.2861, 0.2269, 0.5513, 0.7195, 0.4231, 0.9808, 0.6848, 0.4809,\n",
       "         0.3921, 0.3432, 0.7290, 0.4386, 0.0597, 0.3980, 0.7380, 0.1825, 0.1755,\n",
       "         0.5316, 0.5318, 0.6344, 0.8494, 0.7245, 0.6110, 0.7224, 0.3230, 0.3618,\n",
       "         0.2283, 0.2937, 0.6310, 0.0921, 0.4337, 0.4309, 0.4937, 0.4258, 0.3123,\n",
       "         0.4264, 0.8934, 0.9442, 0.5018, 0.6240, 0.1156, 0.3173, 0.4148, 0.8663,\n",
       "         0.2505, 0.4830, 0.9856, 0.5195, 0.6129, 0.1206, 0.8263, 0.6031, 0.5451,\n",
       "         0.3428, 0.3041, 0.4170, 0.6813, 0.8755, 0.5104, 0.6693, 0.5859, 0.6249,\n",
       "         0.6747, 0.8423, 0.0832, 0.7637, 0.2437, 0.1942, 0.5725, 0.0957, 0.8853,\n",
       "         0.6272, 0.7234, 0.0161],\n",
       "        [0.5944, 0.5568, 0.1590, 0.1531, 0.6955, 0.3188, 0.6920, 0.5544, 0.3890,\n",
       "         0.9251, 0.8417, 0.3574, 0.0436, 0.3048, 0.3982, 0.7050, 0.9954, 0.3559,\n",
       "         0.7625, 0.5932, 0.6917, 0.1511, 0.3989, 0.2409, 0.3435, 0.5131, 0.6666,\n",
       "         0.1059, 0.1309, 0.3220, 0.6616, 0.8465, 0.5533, 0.8545, 0.3848, 0.3168,\n",
       "         0.3543, 0.1711, 0.8291, 0.3387, 0.5524, 0.5786, 0.5215, 0.0027, 0.9883,\n",
       "         0.9053, 0.2076, 0.2925, 0.5200, 0.9019, 0.9836, 0.2575, 0.5644, 0.8070,\n",
       "         0.3944, 0.7311, 0.1611, 0.6007, 0.8659, 0.9835, 0.0794, 0.4283, 0.2045,\n",
       "         0.4506, 0.5478, 0.0933, 0.2969, 0.9276, 0.5690, 0.4574, 0.7535, 0.7419,\n",
       "         0.0486, 0.7087, 0.8392]], dtype=torch.float64,\n",
       "       grad_fn=<ViewBackward0>)"
      ]
     },
     "execution_count": 5,
     "metadata": {},
     "output_type": "execute_result"
    }
   ],
   "source": [
    "import torch\n",
    "import torch.nn as tnn\n",
    "\n",
    "x = torch.from_numpy(x).to(torch.double)\n",
    "x.requires_grad = True\n",
    "\n",
    "flatten = tnn.Flatten()\n",
    "y_torch = flatten(x)\n",
    "y_torch"
   ]
  },
  {
   "cell_type": "code",
   "execution_count": 6,
   "metadata": {},
   "outputs": [
    {
     "name": "stdout",
     "output_type": "stream",
     "text": [
      "\u001b[42m\u001b[30mSUCCESS :)\u001b[0m Arrays are equal (tolerance 1e-12)\n"
     ]
    }
   ],
   "source": [
    "utils.check_same(y_torch.detach().numpy(),y)"
   ]
  },
  {
   "cell_type": "code",
   "execution_count": 7,
   "metadata": {},
   "outputs": [
    {
     "name": "stdout",
     "output_type": "stream",
     "text": [
      "Gradiente de la entrada (δE/δx):\n",
      "tensor([[[[1., 1., 1., 1., 1.],\n",
      "          [1., 1., 1., 1., 1.],\n",
      "          [1., 1., 1., 1., 1.],\n",
      "          [1., 1., 1., 1., 1.],\n",
      "          [1., 1., 1., 1., 1.]],\n",
      "\n",
      "         [[1., 1., 1., 1., 1.],\n",
      "          [1., 1., 1., 1., 1.],\n",
      "          [1., 1., 1., 1., 1.],\n",
      "          [1., 1., 1., 1., 1.],\n",
      "          [1., 1., 1., 1., 1.]],\n",
      "\n",
      "         [[1., 1., 1., 1., 1.],\n",
      "          [1., 1., 1., 1., 1.],\n",
      "          [1., 1., 1., 1., 1.],\n",
      "          [1., 1., 1., 1., 1.],\n",
      "          [1., 1., 1., 1., 1.]]],\n",
      "\n",
      "\n",
      "        [[[1., 1., 1., 1., 1.],\n",
      "          [1., 1., 1., 1., 1.],\n",
      "          [1., 1., 1., 1., 1.],\n",
      "          [1., 1., 1., 1., 1.],\n",
      "          [1., 1., 1., 1., 1.]],\n",
      "\n",
      "         [[1., 1., 1., 1., 1.],\n",
      "          [1., 1., 1., 1., 1.],\n",
      "          [1., 1., 1., 1., 1.],\n",
      "          [1., 1., 1., 1., 1.],\n",
      "          [1., 1., 1., 1., 1.]],\n",
      "\n",
      "         [[1., 1., 1., 1., 1.],\n",
      "          [1., 1., 1., 1., 1.],\n",
      "          [1., 1., 1., 1., 1.],\n",
      "          [1., 1., 1., 1., 1.],\n",
      "          [1., 1., 1., 1., 1.]]]], dtype=torch.float64) torch.Size([2, 3, 5, 5])\n"
     ]
    }
   ],
   "source": [
    "# Define el gradiente de la salida\n",
    "g = torch.ones_like(y_torch)\n",
    "\n",
    "# Propaga el gradiente hacia atrás a través de la convolución\n",
    "y_torch.backward(g)\n",
    "\n",
    "# Imprime el gradiente de la imagen de entrada\n",
    "print(\"Gradiente de la entrada (δE/δx):\")\n",
    "print(x.grad, x.grad.shape)"
   ]
  },
  {
   "cell_type": "code",
   "execution_count": 8,
   "metadata": {},
   "outputs": [
    {
     "name": "stdout",
     "output_type": "stream",
     "text": [
      "\u001b[42m\u001b[30mSUCCESS :)\u001b[0m Arrays are equal (tolerance 1e-12)\n"
     ]
    }
   ],
   "source": [
    "utils.check_same(x.grad.numpy(),layer_grad[0])"
   ]
  },
  {
   "cell_type": "code",
   "execution_count": 9,
   "metadata": {},
   "outputs": [
    {
     "name": "stdout",
     "output_type": "stream",
     "text": [
      "\u001b[104m\u001b[30mFlatten_1 layer:\u001b[0m\n",
      "\u001b[41m\u001b[30m ERROR \u001b[0m\n",
      "δEδx\n",
      " Relative error (max):1.00000 (tolerance: 1e-05)\n",
      "\u001b[0m######################## Details: ######################## \n",
      " Input x:\n",
      "[[[[ 1.39535293 -0.35893593 -0.54864213]\n",
      "   [-2.5570546  -0.54892041 -0.97805771]\n",
      "   [-0.35482446  0.39158424  0.17719233]]\n",
      "\n",
      "  [[-0.02996801  0.19958211 -0.12611777]\n",
      "   [ 0.19701893 -3.23105501 -0.26929349]\n",
      "   [-0.11085072 -0.34126172 -0.21794626]]\n",
      "\n",
      "  [[ 0.70331012 -0.59810533  2.2007021 ]\n",
      "   [ 0.68829693 -0.00630725 -0.2066623 ]\n",
      "   [-0.08652229 -0.91530707 -0.09520254]]]\n",
      "\n",
      "\n",
      " [[[ 0.27868352  0.57954162  0.57968978]\n",
      "   [-0.27487755 -1.41608225 -0.66910263]\n",
      "   [ 1.61219304  0.89605831  0.36961959]]\n",
      "\n",
      "  [[-0.76129424  0.00364515 -1.25566869]\n",
      "   [-0.55193688 -0.24520334 -0.36163993]\n",
      "   [ 0.95660193 -1.41872591 -0.86543227]]\n",
      "\n",
      "  [[-1.37468797 -1.23735321  0.1240559 ]\n",
      "   [-1.60044053  0.75386878 -0.24681578]\n",
      "   [ 0.06878833  0.32257674 -0.43416652]]]]\n",
      " Input δEδy:\n",
      "[[ 1.03247972 -0.19434273  0.59407026 -0.19911238  0.29087439  0.27966267\n",
      "   0.24996994 -0.97430785  0.43587577 -0.31895699  0.63048803 -2.15249344\n",
      "  -1.46511622  0.36344556  1.86292759  0.83505875 -0.68245093 -1.69205242\n",
      "   0.74268622 -0.08058322  0.59070422  0.11529872  0.02964293  2.95862545\n",
      "  -0.00612996 -0.15924521 -0.12144868]\n",
      " [-0.58353672  0.99013289 -0.35375433  0.63594271  0.28460303  1.21898586\n",
      "   0.4201796  -1.21338478 -1.32648779  1.40836915 -0.6087108  -1.32060258\n",
      "  -0.6696186   1.26462529 -1.420213   -0.8664952  -0.66680751 -1.25118987\n",
      "  -1.18432734 -1.51810798 -0.46118741 -0.35490883 -0.68253815 -1.65369784\n",
      "   1.25333595 -1.32907883  0.27803371]]\n",
      " δEδx (numerical, automatic):\n",
      "[[[[0. 0. 0.]\n",
      "   [0. 0. 0.]\n",
      "   [0. 0. 0.]]\n",
      "\n",
      "  [[0. 0. 0.]\n",
      "   [0. 0. 0.]\n",
      "   [0. 0. 0.]]\n",
      "\n",
      "  [[0. 0. 0.]\n",
      "   [0. 0. 0.]\n",
      "   [0. 0. 0.]]]\n",
      "\n",
      "\n",
      " [[[0. 0. 0.]\n",
      "   [0. 0. 0.]\n",
      "   [0. 0. 0.]]\n",
      "\n",
      "  [[0. 0. 0.]\n",
      "   [0. 0. 0.]\n",
      "   [0. 0. 0.]]\n",
      "\n",
      "  [[0. 0. 0.]\n",
      "   [0. 0. 0.]\n",
      "   [0. 0. 0.]]]]\n",
      " δEδx (analytic, your implementation):\n",
      "[[[[ 1.03247972 -0.19434273  0.59407026]\n",
      "   [-0.19911238  0.29087439  0.27966267]\n",
      "   [ 0.24996994 -0.97430785  0.43587577]]\n",
      "\n",
      "  [[-0.31895699  0.63048803 -2.15249344]\n",
      "   [-1.46511622  0.36344556  1.86292759]\n",
      "   [ 0.83505875 -0.68245093 -1.69205242]]\n",
      "\n",
      "  [[ 0.74268622 -0.08058322  0.59070422]\n",
      "   [ 0.11529872  0.02964293  2.95862545]\n",
      "   [-0.00612996 -0.15924521 -0.12144868]]]\n",
      "\n",
      "\n",
      " [[[-0.58353672  0.99013289 -0.35375433]\n",
      "   [ 0.63594271  0.28460303  1.21898586]\n",
      "   [ 0.4201796  -1.21338478 -1.32648779]]\n",
      "\n",
      "  [[ 1.40836915 -0.6087108  -1.32060258]\n",
      "   [-0.6696186   1.26462529 -1.420213  ]\n",
      "   [-0.8664952  -0.66680751 -1.25118987]]\n",
      "\n",
      "  [[-1.18432734 -1.51810798 -0.46118741]\n",
      "   [-0.35490883 -0.68253815 -1.65369784]\n",
      "   [ 1.25333595 -1.32907883  0.27803371]]]]\n",
      "##########################################################\n",
      "\u001b[0m\n"
     ]
    }
   ],
   "source": [
    "samples = 100\n",
    "batch_size=2\n",
    "din=3 # dimensión de entrada\n",
    "dout=5 # dimensión de salida\n",
    "input_shape=(batch_size,din,3,3)\n",
    "\n",
    "# Verificar las derivadas de un modelo de Flatten\n",
    "# con valores aleatorios de `w`, `b`, y `x`, la entrada\n",
    "layer=nn.Flatten()\n",
    "\n",
    "\n",
    "utils.check_gradient.common_layer(layer,input_shape,samples=samples,tolerance=1e-5)    "
   ]
  }
 ],
 "metadata": {
  "kernelspec": {
   "display_name": "captum",
   "language": "python",
   "name": "python3"
  },
  "language_info": {
   "codemirror_mode": {
    "name": "ipython",
    "version": 3
   },
   "file_extension": ".py",
   "mimetype": "text/x-python",
   "name": "python",
   "nbconvert_exporter": "python",
   "pygments_lexer": "ipython3",
   "version": "3.10.4"
  }
 },
 "nbformat": 4,
 "nbformat_minor": 2
}
