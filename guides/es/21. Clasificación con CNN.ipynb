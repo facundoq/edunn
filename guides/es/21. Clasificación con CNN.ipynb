{
 "cells": [
  {
   "cell_type": "code",
   "execution_count": 1,
   "metadata": {},
   "outputs": [],
   "source": [
    "import sys\n",
    "sys.path.insert(0, '../..')"
   ]
  },
  {
   "cell_type": "code",
   "execution_count": 2,
   "metadata": {},
   "outputs": [],
   "source": [
    "%load_ext autoreload\n",
    "%autoreload 2\n",
    "import edunn as nn\n",
    "import numpy as np"
   ]
  },
  {
   "cell_type": "markdown",
   "metadata": {},
   "source": [
    "# Clasificación con CNN\n",
    "\n",
    "También podemos entrenar una red neuronal para clasificar las imágenes de dígitos escritos a mano del conjunto de datos de [MNIST](http://yann.lecun.com/exdb/mnist/). Este conjunto de datos es un clásico en el aprendizaje automático, y es un buen punto de partida para probar las redes neuronales convolucionales. Intentá probar agregando/quitando capas adicionales y variando los parámetros de las mismas.\n"
   ]
  },
  {
   "cell_type": "code",
   "execution_count": 3,
   "metadata": {},
   "outputs": [
    {
     "name": "stdout",
     "output_type": "stream",
     "text": [
      "Tamaños de x e y: (1200, 784) (1200,)\n"
     ]
    }
   ],
   "source": [
    "x,y,classes=nn.datasets.load_classification(\"mnist\")\n",
    "# normalización de los datos\n",
    "# x = (x-x.mean(axis=0))/x.std(axis=0)\n",
    "n, din = x.shape\n",
    "# calcular cantidad de clases\n",
    "classes = y.max()+1\n",
    "print(\"Tamaños de x e y:\", x.shape,y.shape)"
   ]
  },
  {
   "cell_type": "code",
   "execution_count": 4,
   "metadata": {},
   "outputs": [
    {
     "data": {
      "text/plain": [
       "<matplotlib.image.AxesImage at 0x262a9e87a30>"
      ]
     },
     "execution_count": 4,
     "metadata": {},
     "output_type": "execute_result"
    },
    {
     "data": {
      "image/png": "[encoded data removed]",
      "text/plain": [
       "<Figure size 640x480 with 1 Axes>"
      ]
     },
     "metadata": {},
     "output_type": "display_data"
    }
   ],
   "source": [
    "import matplotlib.pyplot as plt\n",
    "plt.imshow(np.reshape(x[0],(28,28)),cmap=\"gray\")"
   ]
  },
  {
   "cell_type": "code",
   "execution_count": 5,
   "metadata": {},
   "outputs": [],
   "source": [
    "x = x.reshape(-1, 1, 28, 28)"
   ]
  },
  {
   "cell_type": "code",
   "execution_count": 6,
   "metadata": {},
   "outputs": [
    {
     "data": {
      "text/plain": [
       "3136"
      ]
     },
     "execution_count": 6,
     "metadata": {},
     "output_type": "execute_result"
    }
   ],
   "source": [
    "def calculate_in_features(input_size, layers):\n",
    "    output_size = input_size\n",
    "    for layer in layers:\n",
    "        output_size = (output_size - layer['kernel_size'] + 2*layer['padding']) // layer['stride'] + 1\n",
    "        out_channels = layer['out_channels']\n",
    "    in_features = output_size * output_size * out_channels\n",
    "    return in_features\n",
    "\n",
    "layers = [\n",
    "    {'out_channels': 32,    'kernel_size': 3,   'stride': 2, 'padding': 1},\n",
    "    {'out_channels': 64,    'kernel_size': 3,   'stride': 2, 'padding': 1},\n",
    "]\n",
    "input_size = x.shape[-1]\n",
    "in_features = calculate_in_features(input_size, layers)\n",
    "in_features"
   ]
  },
  {
   "cell_type": "code",
   "execution_count": 7,
   "metadata": {},
   "outputs": [],
   "source": [
    "hidden_dim=3\n",
    "#Red con dos capas \n",
    "model = nn.Sequential([\n",
    "    nn.Convolution2D(in_channels=1,     out_channels=32,    kernel_size=(3,3),      stride=2, padding=1),\n",
    "    nn.ReLU(),\n",
    "    nn.Convolution2D(in_channels=32,    out_channels=64,    kernel_size=(3,3),      stride=2, padding=1),\n",
    "    nn.ReLU(),\n",
    "    nn.Flatten(),\n",
    "    nn.Dense(input_size=in_features,output_size=128,activation_name=\"relu\"),\n",
    "    nn.Dense(input_size=128,output_size=classes,activation_name=\"softmax\"),\n",
    "    ])\n",
    "\n",
    "error = nn.MeanError(nn.CrossEntropyWithLabels())\n",
    "optimizer = nn.GradientDescent(lr=0.1,epochs=5,batch_size=32)"
   ]
  },
  {
   "cell_type": "code",
   "execution_count": 8,
   "metadata": {},
   "outputs": [
    {
     "data": {
      "application/vnd.jupyter.widget-view+json": {
       "model_id": "d6ed04a3d426496f9b0dff502b90c17e",
       "version_major": 2,
       "version_minor": 0
      },
      "text/plain": [
       "optim. Sequential_0:   0%|          | 0/5 [00:00<?, ?it/s]"
      ]
     },
     "metadata": {},
     "output_type": "display_data"
    },
    {
     "ename": "KeyboardInterrupt",
     "evalue": "",
     "output_type": "error",
     "traceback": [
      "\u001b[1;31m---------------------------------------------------------------------------\u001b[0m",
      "\u001b[1;31mKeyboardInterrupt\u001b[0m                         Traceback (most recent call last)",
      "Cell \u001b[1;32mIn [8], line 2\u001b[0m\n\u001b[0;32m      1\u001b[0m \u001b[38;5;66;03m# Algoritmo de optimización\u001b[39;00m\n\u001b[1;32m----> 2\u001b[0m history \u001b[38;5;241m=\u001b[39m optimizer\u001b[38;5;241m.\u001b[39moptimize(model,x,y,error)\n\u001b[0;32m      3\u001b[0m nn\u001b[38;5;241m.\u001b[39mplot\u001b[38;5;241m.\u001b[39mplot_history(history,error_name\u001b[38;5;241m=\u001b[39merror\u001b[38;5;241m.\u001b[39mname)\n",
      "File \u001b[1;32md:\\GitHub\\edunn\\guides\\es\\../..\\edunn\\optimizer.py:83\u001b[0m, in \u001b[0;36mBatchedGradientOptimizer.optimize\u001b[1;34m(self, model, x, y, error_layer, verbose)\u001b[0m\n\u001b[0;32m     81\u001b[0m epoch_error\u001b[38;5;241m=\u001b[39m\u001b[38;5;241m0\u001b[39m\n\u001b[0;32m     82\u001b[0m \u001b[38;5;28;01mfor\u001b[39;00m i,(x_batch,y_batch) \u001b[38;5;129;01min\u001b[39;00m \u001b[38;5;28menumerate\u001b[39m(batch_arrays(\u001b[38;5;28mself\u001b[39m\u001b[38;5;241m.\u001b[39mbatch_size,x,y,shuffle\u001b[38;5;241m=\u001b[39m\u001b[38;5;28mself\u001b[39m\u001b[38;5;241m.\u001b[39mshuffle)):\n\u001b[1;32m---> 83\u001b[0m     δEδx, δEδps, batch_error \u001b[38;5;241m=\u001b[39m \u001b[38;5;28;43mself\u001b[39;49m\u001b[38;5;241;43m.\u001b[39;49m\u001b[43mbackpropagation\u001b[49m\u001b[43m(\u001b[49m\u001b[43mmodel\u001b[49m\u001b[43m,\u001b[49m\u001b[43m \u001b[49m\u001b[43mx\u001b[49m\u001b[43m,\u001b[49m\u001b[43m \u001b[49m\u001b[43my\u001b[49m\u001b[43m,\u001b[49m\u001b[43m \u001b[49m\u001b[43merror_layer\u001b[49m\u001b[43m)\u001b[49m\n\u001b[0;32m     84\u001b[0m     \u001b[38;5;28mself\u001b[39m\u001b[38;5;241m.\u001b[39moptimize_batch(model,δEδps,epoch,i)\n\u001b[0;32m     85\u001b[0m     epoch_error\u001b[38;5;241m+\u001b[39m\u001b[38;5;241m=\u001b[39mbatch_error\n",
      "File \u001b[1;32md:\\GitHub\\edunn\\guides\\es\\../..\\edunn\\optimizer.py:57\u001b[0m, in \u001b[0;36mBatchedGradientOptimizer.backpropagation\u001b[1;34m(self, model, x, y_true, error_layer)\u001b[0m\n\u001b[0;32m     55\u001b[0m \u001b[38;5;28;01mdef\u001b[39;00m \u001b[38;5;21mbackpropagation\u001b[39m(\u001b[38;5;28mself\u001b[39m,model:Model, x:np\u001b[38;5;241m.\u001b[39mndarray, y_true:np\u001b[38;5;241m.\u001b[39mndarray, error_layer:Model):\n\u001b[0;32m     56\u001b[0m     \u001b[38;5;66;03m# forward pass (model and error)\u001b[39;00m\n\u001b[1;32m---> 57\u001b[0m     y \u001b[38;5;241m=\u001b[39m \u001b[43mmodel\u001b[49m\u001b[38;5;241;43m.\u001b[39;49m\u001b[43mforward\u001b[49m\u001b[43m(\u001b[49m\u001b[43mx\u001b[49m\u001b[43m)\u001b[49m\n\u001b[0;32m     58\u001b[0m     E \u001b[38;5;241m=\u001b[39m error_layer\u001b[38;5;241m.\u001b[39mforward(y_true, y)\n\u001b[0;32m     60\u001b[0m     \u001b[38;5;66;03m# backward pass (error and model)\u001b[39;00m\n",
      "File \u001b[1;32md:\\GitHub\\edunn\\guides\\es\\../..\\edunn\\models\\sequential.py:33\u001b[0m, in \u001b[0;36mSequential.forward\u001b[1;34m(self, x)\u001b[0m\n\u001b[0;32m     31\u001b[0m \u001b[38;5;66;03m### YOUR IMPLEMENTATION START  ###\u001b[39;00m\n\u001b[0;32m     32\u001b[0m \u001b[38;5;28;01mfor\u001b[39;00m layer \u001b[38;5;129;01min\u001b[39;00m \u001b[38;5;28mself\u001b[39m\u001b[38;5;241m.\u001b[39mlayers:\n\u001b[1;32m---> 33\u001b[0m     x \u001b[38;5;241m=\u001b[39m \u001b[43mlayer\u001b[49m\u001b[38;5;241;43m.\u001b[39;49m\u001b[43mforward\u001b[49m\u001b[43m(\u001b[49m\u001b[43mx\u001b[49m\u001b[43m)\u001b[49m\n\u001b[0;32m     34\u001b[0m y \u001b[38;5;241m=\u001b[39m x\n\u001b[0;32m     35\u001b[0m \u001b[38;5;66;03m### YOUR IMPLEMENTATION END  ###\u001b[39;00m\n",
      "File \u001b[1;32md:\\GitHub\\edunn\\guides\\es\\../..\\edunn\\models\\convolution.py:161\u001b[0m, in \u001b[0;36mConvolution2D.forward\u001b[1;34m(self, x)\u001b[0m\n\u001b[0;32m    158\u001b[0m w \u001b[38;5;241m=\u001b[39m \u001b[38;5;28mself\u001b[39m\u001b[38;5;241m.\u001b[39mget_parameters()[\u001b[38;5;124m\"\u001b[39m\u001b[38;5;124mw\u001b[39m\u001b[38;5;124m\"\u001b[39m]\n\u001b[0;32m    160\u001b[0m \u001b[38;5;66;03m### YOUR IMPLEMENTATION START  ###\u001b[39;00m\n\u001b[1;32m--> 161\u001b[0m y \u001b[38;5;241m=\u001b[39m \u001b[43mconv2d_forward\u001b[49m\u001b[43m(\u001b[49m\u001b[43mw\u001b[49m\u001b[43m,\u001b[49m\u001b[43mx\u001b[49m\u001b[43m,\u001b[49m\u001b[38;5;28;43mself\u001b[39;49m\u001b[38;5;241;43m.\u001b[39;49m\u001b[43mstrides\u001b[49m\u001b[43m,\u001b[49m\u001b[38;5;28;43mself\u001b[39;49m\u001b[38;5;241;43m.\u001b[39;49m\u001b[43mpad_size\u001b[49m\u001b[43m)\u001b[49m\n\u001b[0;32m    162\u001b[0m \u001b[38;5;66;03m### YOUR IMPLEMENTATION END  ###\u001b[39;00m\n\u001b[0;32m    163\u001b[0m \n\u001b[0;32m    164\u001b[0m \u001b[38;5;66;03m# add input to cache to calculate δEδw in backward step\u001b[39;00m\n\u001b[0;32m    165\u001b[0m \u001b[38;5;28mself\u001b[39m\u001b[38;5;241m.\u001b[39mset_cache(x)\n",
      "File \u001b[1;32md:\\GitHub\\edunn\\guides\\es\\../..\\edunn\\models\\convolution.py:61\u001b[0m, in \u001b[0;36mconv2d_forward\u001b[1;34m(w, x, strides, pad_size)\u001b[0m\n\u001b[0;32m     59\u001b[0m                     \u001b[38;5;28;01mfor\u001b[39;00m l \u001b[38;5;129;01min\u001b[39;00m \u001b[38;5;28mrange\u001b[39m(bx):\n\u001b[0;32m     60\u001b[0m                         \u001b[38;5;28;01mfor\u001b[39;00m m \u001b[38;5;129;01min\u001b[39;00m \u001b[38;5;28mrange\u001b[39m(bw):\n\u001b[1;32m---> 61\u001b[0m                             y[l,m,i,j] \u001b[38;5;241m+\u001b[39m\u001b[38;5;241m=\u001b[39m w[m,k,a,b] \u001b[38;5;241m*\u001b[39m x[l,k,i\u001b[38;5;241m*\u001b[39mstride_h\u001b[38;5;241m+\u001b[39ma,j\u001b[38;5;241m*\u001b[39mstride_w\u001b[38;5;241m+\u001b[39mb]\n\u001b[0;32m     62\u001b[0m \u001b[38;5;66;03m### YOUR IMPLEMENTATION END  ###\u001b[39;00m\n\u001b[0;32m     64\u001b[0m \u001b[38;5;28;01mreturn\u001b[39;00m y\n",
      "\u001b[1;31mKeyboardInterrupt\u001b[0m: "
     ]
    }
   ],
   "source": [
    "# Algoritmo de optimización\n",
    "history = optimizer.optimize(model,x,y,error)\n",
    "nn.plot.plot_history(history,error_name=error.name)"
   ]
  },
  {
   "cell_type": "code",
   "execution_count": null,
   "metadata": {},
   "outputs": [],
   "source": [
    "print(\"Métricas del modelo:\")\n",
    "y_pred=model.forward(x)"
   ]
  },
  {
   "cell_type": "code",
   "execution_count": null,
   "metadata": {},
   "outputs": [],
   "source": [
    "y_pred_labels=nn.utils.onehot2labels(y_pred)"
   ]
  },
  {
   "cell_type": "code",
   "execution_count": null,
   "metadata": {},
   "outputs": [],
   "source": [
    "nn.metrics.classification_summary(y,y_pred_labels.astype(int))"
   ]
  }
 ],
 "metadata": {
  "kernelspec": {
   "display_name": "Python 3",
   "language": "python",
   "name": "python3"
  },
  "language_info": {
   "codemirror_mode": {
    "name": "ipython",
    "version": 3
   },
   "file_extension": ".py",
   "mimetype": "text/x-python",
   "name": "python",
   "nbconvert_exporter": "python",
   "pygments_lexer": "ipython3",
   "version": "3.10.4"
  }
 },
 "nbformat": 4,
 "nbformat_minor": 4
}
