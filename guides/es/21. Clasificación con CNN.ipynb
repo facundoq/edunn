{
 "cells": [
  {
   "cell_type": "code",
   "execution_count": 1,
   "metadata": {},
   "outputs": [],
   "source": [
    "import sys\n",
    "sys.path.insert(0, '../..')"
   ]
  },
  {
   "cell_type": "code",
   "execution_count": 2,
   "metadata": {},
   "outputs": [],
   "source": [
    "%load_ext autoreload\n",
    "%autoreload 2\n",
    "import edunn as nn\n",
    "import numpy as np"
   ]
  },
  {
   "cell_type": "markdown",
   "metadata": {},
   "source": [
    "# Clasificación con CNN\n",
    "\n",
    "También podemos entrenar una red neuronal para clasificar las imágenes de dígitos escritos a mano del conjunto de datos de [MNIST](http://yann.lecun.com/exdb/mnist/). Este conjunto de datos es un clásico en el aprendizaje automático, y es un buen punto de partida para probar las redes neuronales convolucionales. Intentá probar agregando/quitando capas adicionales y variando los parámetros de las mismas.\n"
   ]
  },
  {
   "cell_type": "code",
   "execution_count": 3,
   "metadata": {},
   "outputs": [
    {
     "name": "stdout",
     "output_type": "stream",
     "text": [
      "Tamaños de x e y: (1200, 784) (1200,)\n"
     ]
    }
   ],
   "source": [
    "x,y,classes=nn.datasets.load_classification(\"mnist\")\n",
    "# normalización de los datos\n",
    "# x = (x-x.mean(axis=0))/x.std(axis=0)\n",
    "n, din = x.shape\n",
    "# calcular cantidad de clases\n",
    "classes = y.max()+1\n",
    "print(\"Tamaños de x e y:\", x.shape,y.shape)"
   ]
  },
  {
   "cell_type": "code",
   "execution_count": 4,
   "metadata": {},
   "outputs": [],
   "source": [
    "i=4"
   ]
  },
  {
   "cell_type": "code",
   "execution_count": 5,
   "metadata": {},
   "outputs": [
    {
     "data": {
      "text/plain": [
       "<matplotlib.image.AxesImage at 0x2660593faf0>"
      ]
     },
     "execution_count": 5,
     "metadata": {},
     "output_type": "execute_result"
    },
    {
     "data": {
      "image/png": "[encoded data removed]",
      "text/plain": [
       "<Figure size 640x480 with 1 Axes>"
      ]
     },
     "metadata": {},
     "output_type": "display_data"
    }
   ],
   "source": [
    "import matplotlib.pyplot as plt\n",
    "plt.title(y[i])\n",
    "plt.imshow(np.reshape(x[i],(28,28)),cmap=\"gray\")"
   ]
  },
  {
   "cell_type": "code",
   "execution_count": 6,
   "metadata": {},
   "outputs": [],
   "source": [
    "x = x.reshape(-1, 1, 28, 28)"
   ]
  },
  {
   "cell_type": "code",
   "execution_count": 7,
   "metadata": {},
   "outputs": [],
   "source": [
    "# Min-Max Normalization\n",
    "# x -= x.min()\n",
    "# x /= x.max()"
   ]
  },
  {
   "cell_type": "code",
   "execution_count": 8,
   "metadata": {},
   "outputs": [
    {
     "data": {
      "text/plain": [
       "(0.0, 255.0)"
      ]
     },
     "execution_count": 8,
     "metadata": {},
     "output_type": "execute_result"
    }
   ],
   "source": [
    "x.min(), x.max()"
   ]
  },
  {
   "cell_type": "code",
   "execution_count": 9,
   "metadata": {},
   "outputs": [],
   "source": [
    "# Negative Image\n",
    "# x *= -1\n",
    "# x +=  1"
   ]
  },
  {
   "cell_type": "code",
   "execution_count": 10,
   "metadata": {},
   "outputs": [],
   "source": [
    "# def downsample_images(x):\n",
    "#     N, C, H, W = x.shape\n",
    "\n",
    "#     # Reshape the image to group every 2x2 pixels\n",
    "#     x = x.reshape(N, C, H//2, 2, W//2, 2)\n",
    "\n",
    "#     # Calculate the mean in the new dimensions to reduce the size of the image\n",
    "#     x_downsampled = x.mean(axis=(3, 5))\n",
    "\n",
    "#     return x_downsampled\n",
    "\n",
    "# x = downsample_images(x)\n",
    "# x.shape"
   ]
  },
  {
   "cell_type": "code",
   "execution_count": 11,
   "metadata": {},
   "outputs": [],
   "source": [
    "# import matplotlib.pyplot as plt\n",
    "# plt.title(y[i])\n",
    "# plt.imshow(np.reshape(x[i,0],(14,14)),cmap=\"gray\")"
   ]
  },
  {
   "cell_type": "code",
   "execution_count": 12,
   "metadata": {},
   "outputs": [
    {
     "data": {
      "text/plain": [
       "1600"
      ]
     },
     "execution_count": 12,
     "metadata": {},
     "output_type": "execute_result"
    }
   ],
   "source": [
    "def calculate_in_features(input_size, layers):\n",
    "    output_size = input_size\n",
    "    for layer in layers:\n",
    "        output_size = (output_size - layer['kernel_size'] + 2*layer['padding']) // layer['stride'] + 1\n",
    "        out_channels = layer['out_channels']\n",
    "    in_features = output_size * output_size * out_channels\n",
    "    return in_features\n",
    "\n",
    "layers = [\n",
    "    {'out_channels': 32,    'kernel_size': 3,   'stride': 1, 'padding': 0},\n",
    "    {'out_channels': 32,    'kernel_size': 2,   'stride': 2, 'padding': 0},\n",
    "    {'out_channels': 64,    'kernel_size': 3,   'stride': 1, 'padding': 0},\n",
    "    {'out_channels': 64,    'kernel_size': 2,   'stride': 2, 'padding': 0},\n",
    "]\n",
    "input_size = x.shape[-1]\n",
    "in_features = calculate_in_features(input_size, layers)\n",
    "in_features"
   ]
  },
  {
   "cell_type": "code",
   "execution_count": 13,
   "metadata": {},
   "outputs": [],
   "source": [
    "#Red con dos capas \n",
    "initializer = None#nn.initializers.RandomNormal(1e-20)\n",
    "model = nn.Sequential([\n",
    "    nn.Convolution2D(in_channels=1,     out_channels=32,    kernel_size=(3,3),      stride=1, padding=0, kernel_initializer=initializer),\n",
    "    nn.ReLU(),\n",
    "    nn.MaxPool2d(kernel_size=2, stride=2),\n",
    "    nn.Convolution2D(in_channels=32,    out_channels=64,    kernel_size=(3,3),      stride=1, padding=0, kernel_initializer=initializer),\n",
    "    nn.ReLU(),\n",
    "    nn.MaxPool2d(kernel_size=2, stride=2),\n",
    "    nn.Flatten(),\n",
    "    nn.Dense(input_size=in_features,output_size=128,activation_name=\"relu\",linear_initializer=None),\n",
    "    nn.Dense(input_size=128,output_size=classes,activation_name=\"softmax\",linear_initializer=None),\n",
    "    ])\n",
    "\n",
    "error = nn.MeanError(nn.CrossEntropyWithLabels())\n",
    "optimizer = nn.GradientDescent(lr=0.1,epochs=100,batch_size=16)"
   ]
  },
  {
   "cell_type": "code",
   "execution_count": 14,
   "metadata": {},
   "outputs": [],
   "source": [
    "np.set_printoptions(threshold=sys.maxsize)"
   ]
  },
  {
   "cell_type": "code",
   "execution_count": 15,
   "metadata": {},
   "outputs": [
    {
     "data": {
      "application/vnd.jupyter.widget-view+json": {
       "model_id": "af1113d192c5454dba9d5733f48ceb89",
       "version_major": 2,
       "version_minor": 0
      },
      "text/plain": [
       "optim. Sequential_0:   0%|          | 0/100 [00:00<?, ?it/s]"
      ]
     },
     "metadata": {},
     "output_type": "display_data"
    },
    {
     "ename": "KeyboardInterrupt",
     "evalue": "",
     "output_type": "error",
     "traceback": [
      "\u001b[1;31m---------------------------------------------------------------------------\u001b[0m",
      "\u001b[1;31mKeyboardInterrupt\u001b[0m                         Traceback (most recent call last)",
      "Cell \u001b[1;32mIn [15], line 2\u001b[0m\n\u001b[0;32m      1\u001b[0m \u001b[38;5;66;03m# Algoritmo de optimización\u001b[39;00m\n\u001b[1;32m----> 2\u001b[0m history \u001b[38;5;241m=\u001b[39m optimizer\u001b[38;5;241m.\u001b[39moptimize(model,x,y,error)\n\u001b[0;32m      3\u001b[0m nn\u001b[38;5;241m.\u001b[39mplot\u001b[38;5;241m.\u001b[39mplot_history(history,error_name\u001b[38;5;241m=\u001b[39merror\u001b[38;5;241m.\u001b[39mname)\n",
      "File \u001b[1;32md:\\GitHub\\edunn\\guides\\es\\../..\\edunn\\optimizer.py:83\u001b[0m, in \u001b[0;36mBatchedGradientOptimizer.optimize\u001b[1;34m(self, model, x, y, error_layer, verbose)\u001b[0m\n\u001b[0;32m     81\u001b[0m epoch_error\u001b[38;5;241m=\u001b[39m\u001b[38;5;241m0\u001b[39m\n\u001b[0;32m     82\u001b[0m \u001b[38;5;28;01mfor\u001b[39;00m i,(x_batch,y_batch) \u001b[38;5;129;01min\u001b[39;00m \u001b[38;5;28menumerate\u001b[39m(batch_arrays(\u001b[38;5;28mself\u001b[39m\u001b[38;5;241m.\u001b[39mbatch_size,x,y,shuffle\u001b[38;5;241m=\u001b[39m\u001b[38;5;28mself\u001b[39m\u001b[38;5;241m.\u001b[39mshuffle)):\n\u001b[1;32m---> 83\u001b[0m     δEδx, δEδps, batch_error \u001b[38;5;241m=\u001b[39m \u001b[38;5;28;43mself\u001b[39;49m\u001b[38;5;241;43m.\u001b[39;49m\u001b[43mbackpropagation\u001b[49m\u001b[43m(\u001b[49m\u001b[43mmodel\u001b[49m\u001b[43m,\u001b[49m\u001b[43m \u001b[49m\u001b[43mx_batch\u001b[49m\u001b[43m,\u001b[49m\u001b[43m \u001b[49m\u001b[43my_batch\u001b[49m\u001b[43m,\u001b[49m\u001b[43m \u001b[49m\u001b[43merror_layer\u001b[49m\u001b[43m)\u001b[49m\n\u001b[0;32m     84\u001b[0m     \u001b[38;5;28mself\u001b[39m\u001b[38;5;241m.\u001b[39moptimize_batch(model,δEδps,epoch,i)\n\u001b[0;32m     85\u001b[0m     epoch_error\u001b[38;5;241m+\u001b[39m\u001b[38;5;241m=\u001b[39mbatch_error\n",
      "File \u001b[1;32md:\\GitHub\\edunn\\guides\\es\\../..\\edunn\\optimizer.py:62\u001b[0m, in \u001b[0;36mBatchedGradientOptimizer.backpropagation\u001b[1;34m(self, model, x, y_true, error_layer)\u001b[0m\n\u001b[0;32m     60\u001b[0m \u001b[38;5;66;03m# backward pass (error and model)\u001b[39;00m\n\u001b[0;32m     61\u001b[0m δEδy, _ \u001b[38;5;241m=\u001b[39m error_layer\u001b[38;5;241m.\u001b[39mbackward(\u001b[38;5;241m1\u001b[39m)\n\u001b[1;32m---> 62\u001b[0m δEδx,δEδps \u001b[38;5;241m=\u001b[39m \u001b[43mmodel\u001b[49m\u001b[38;5;241;43m.\u001b[39;49m\u001b[43mbackward\u001b[49m\u001b[43m(\u001b[49m\u001b[43mδEδy\u001b[49m\u001b[43m)\u001b[49m\n\u001b[0;32m     64\u001b[0m \u001b[38;5;28;01mreturn\u001b[39;00m δEδx,δEδps,E\n",
      "File \u001b[1;32md:\\GitHub\\edunn\\guides\\es\\../..\\edunn\\models\\sequential.py:70\u001b[0m, in \u001b[0;36mSequential.backward\u001b[1;34m(self, δEδy)\u001b[0m\n\u001b[0;32m     64\u001b[0m \u001b[38;5;66;03m# Hint: use `self.merge_gradients(m_i, δEδp_i, δEδp)`\u001b[39;00m\n\u001b[0;32m     65\u001b[0m \u001b[38;5;66;03m# to add the gradients `δEδp_i` of parameters of `m_i`\u001b[39;00m\n\u001b[0;32m     66\u001b[0m \u001b[38;5;66;03m# to the final gradients `δEδp` dictionary\u001b[39;00m\n\u001b[0;32m     67\u001b[0m \u001b[38;5;66;03m### YOUR IMPLEMENTATION START  ###\u001b[39;00m\n\u001b[0;32m     68\u001b[0m \u001b[38;5;28;01mfor\u001b[39;00m m_i \u001b[38;5;129;01min\u001b[39;00m \u001b[38;5;28mreversed\u001b[39m(\u001b[38;5;28mself\u001b[39m\u001b[38;5;241m.\u001b[39mlayers):\n\u001b[0;32m     69\u001b[0m     \u001b[38;5;66;03m# print('\\x1b[6;30;42m' + m_i.name + '\\x1b[0m', \"\\n\\n δEδy\", δEδy.shape, \"\\n\", δEδy)\u001b[39;00m\n\u001b[1;32m---> 70\u001b[0m     δEδy, δEδp_i \u001b[38;5;241m=\u001b[39m \u001b[43mm_i\u001b[49m\u001b[38;5;241;43m.\u001b[39;49m\u001b[43mbackward\u001b[49m\u001b[43m(\u001b[49m\u001b[43mδEδy\u001b[49m\u001b[43m)\u001b[49m\n\u001b[0;32m     71\u001b[0m     \u001b[38;5;28mself\u001b[39m\u001b[38;5;241m.\u001b[39mmerge_gradients(m_i, δEδp_i, δEδp)\n\u001b[0;32m     72\u001b[0m δEδx \u001b[38;5;241m=\u001b[39m δEδy\n",
      "File \u001b[1;32md:\\GitHub\\edunn\\guides\\es\\../..\\edunn\\models\\pooling.py:95\u001b[0m, in \u001b[0;36mMaxPool2d.backward\u001b[1;34m(self, δEδy)\u001b[0m\n\u001b[0;32m     93\u001b[0m x, \u001b[38;5;241m=\u001b[39m \u001b[38;5;28mself\u001b[39m\u001b[38;5;241m.\u001b[39mget_cache()\n\u001b[0;32m     94\u001b[0m \u001b[38;5;66;03m### YOUR IMPLEMENTATION START  ###\u001b[39;00m\n\u001b[1;32m---> 95\u001b[0m δEδx \u001b[38;5;241m=\u001b[39m \u001b[43mconv2d_backward_max\u001b[49m\u001b[43m(\u001b[49m\u001b[43mδEδy\u001b[49m\u001b[43m,\u001b[49m\u001b[43mx\u001b[49m\u001b[43m,\u001b[49m\u001b[38;5;28;43mself\u001b[39;49m\u001b[38;5;241;43m.\u001b[39;49m\u001b[43mstride\u001b[49m\u001b[43m,\u001b[49m\u001b[38;5;28;43mself\u001b[39;49m\u001b[38;5;241;43m.\u001b[39;49m\u001b[43mkernel_size\u001b[49m\u001b[43m)\u001b[49m\n\u001b[0;32m     96\u001b[0m \u001b[38;5;66;03m### YOUR IMPLEMENTATION END  ###\u001b[39;00m\n\u001b[0;32m     97\u001b[0m \u001b[38;5;28;01mreturn\u001b[39;00m δEδx, {}\n",
      "File \u001b[1;32md:\\GitHub\\edunn\\guides\\es\\../..\\edunn\\models\\pooling.py:43\u001b[0m, in \u001b[0;36mconv2d_backward_max\u001b[1;34m(dy, x, stride, pool_size)\u001b[0m\n\u001b[0;32m     40\u001b[0m \u001b[38;5;28;01mfor\u001b[39;00m k \u001b[38;5;129;01min\u001b[39;00m \u001b[38;5;28mrange\u001b[39m(cx):\n\u001b[0;32m     41\u001b[0m     \u001b[38;5;28;01mfor\u001b[39;00m l \u001b[38;5;129;01min\u001b[39;00m \u001b[38;5;28mrange\u001b[39m(bx):\n\u001b[0;32m     42\u001b[0m         \u001b[38;5;66;03m# get the index in the region i,j where the value is the maximum\u001b[39;00m\n\u001b[1;32m---> 43\u001b[0m         i_t, j_t \u001b[38;5;241m=\u001b[39m \u001b[43mnp\u001b[49m\u001b[38;5;241;43m.\u001b[39;49m\u001b[43mwhere\u001b[49m\u001b[43m(\u001b[49m\u001b[43mnp\u001b[49m\u001b[38;5;241;43m.\u001b[39;49m\u001b[43mmax\u001b[49m\u001b[43m(\u001b[49m\n\u001b[0;32m     44\u001b[0m \u001b[43m            \u001b[49m\u001b[43mx\u001b[49m\u001b[43m[\u001b[49m\u001b[43ml\u001b[49m\u001b[43m,\u001b[49m\u001b[43m \u001b[49m\u001b[43mk\u001b[49m\u001b[43m,\u001b[49m\u001b[43m \u001b[49m\u001b[43mi\u001b[49m\u001b[43m \u001b[49m\u001b[38;5;241;43m*\u001b[39;49m\u001b[43m \u001b[49m\u001b[43mstride_h\u001b[49m\u001b[43m \u001b[49m\u001b[43m:\u001b[49m\u001b[43m \u001b[49m\u001b[43mi\u001b[49m\u001b[43m \u001b[49m\u001b[38;5;241;43m*\u001b[39;49m\u001b[43m \u001b[49m\u001b[43mstride_h\u001b[49m\u001b[43m \u001b[49m\u001b[38;5;241;43m+\u001b[39;49m\u001b[43m \u001b[49m\u001b[43mph\u001b[49m\u001b[43m,\u001b[49m\u001b[43m \u001b[49m\u001b[43mj\u001b[49m\u001b[43m \u001b[49m\u001b[38;5;241;43m*\u001b[39;49m\u001b[43m \u001b[49m\u001b[43mstride_w\u001b[49m\u001b[43m \u001b[49m\u001b[43m:\u001b[49m\u001b[43m \u001b[49m\u001b[43mj\u001b[49m\u001b[43m \u001b[49m\u001b[38;5;241;43m*\u001b[39;49m\u001b[43m \u001b[49m\u001b[43mstride_w\u001b[49m\u001b[43m \u001b[49m\u001b[38;5;241;43m+\u001b[39;49m\u001b[43m \u001b[49m\u001b[43mpw\u001b[49m\u001b[43m]\u001b[49m\u001b[43m)\u001b[49m\u001b[43m \u001b[49m\u001b[38;5;241;43m==\u001b[39;49m\u001b[43m \u001b[49m\n\u001b[0;32m     45\u001b[0m \u001b[43m            \u001b[49m\u001b[43mx\u001b[49m\u001b[43m[\u001b[49m\u001b[43ml\u001b[49m\u001b[43m,\u001b[49m\u001b[43m \u001b[49m\u001b[43mk\u001b[49m\u001b[43m,\u001b[49m\u001b[43m \u001b[49m\u001b[43mi\u001b[49m\u001b[43m \u001b[49m\u001b[38;5;241;43m*\u001b[39;49m\u001b[43m \u001b[49m\u001b[43mstride_h\u001b[49m\u001b[43m \u001b[49m\u001b[43m:\u001b[49m\u001b[43m \u001b[49m\u001b[43mi\u001b[49m\u001b[43m \u001b[49m\u001b[38;5;241;43m*\u001b[39;49m\u001b[43m \u001b[49m\u001b[43mstride_h\u001b[49m\u001b[43m \u001b[49m\u001b[38;5;241;43m+\u001b[39;49m\u001b[43m \u001b[49m\u001b[43mph\u001b[49m\u001b[43m,\u001b[49m\u001b[43m \u001b[49m\u001b[43mj\u001b[49m\u001b[43m \u001b[49m\u001b[38;5;241;43m*\u001b[39;49m\u001b[43m \u001b[49m\u001b[43mstride_w\u001b[49m\u001b[43m \u001b[49m\u001b[43m:\u001b[49m\u001b[43m \u001b[49m\u001b[43mj\u001b[49m\u001b[43m \u001b[49m\u001b[38;5;241;43m*\u001b[39;49m\u001b[43m \u001b[49m\u001b[43mstride_w\u001b[49m\u001b[43m \u001b[49m\u001b[38;5;241;43m+\u001b[39;49m\u001b[43m \u001b[49m\u001b[43mpw\u001b[49m\u001b[43m]\u001b[49m\u001b[43m)\u001b[49m\n\u001b[0;32m     46\u001b[0m         i_t, j_t \u001b[38;5;241m=\u001b[39m i_t[\u001b[38;5;241m0\u001b[39m], j_t[\u001b[38;5;241m0\u001b[39m]\n\u001b[0;32m     47\u001b[0m         \u001b[38;5;66;03m# only the position of the maximum element in the region i,j gets the incoming gradient, the other gradients are zero\u001b[39;00m\n",
      "\u001b[1;31mKeyboardInterrupt\u001b[0m: "
     ]
    }
   ],
   "source": [
    "# Algoritmo de optimización\n",
    "history = optimizer.optimize(model,x,y,error)\n",
    "nn.plot.plot_history(history,error_name=error.name)"
   ]
  },
  {
   "cell_type": "code",
   "execution_count": null,
   "metadata": {},
   "outputs": [],
   "source": [
    "print(\"Métricas del modelo:\")\n",
    "y_pred=model.forward(x)"
   ]
  },
  {
   "cell_type": "code",
   "execution_count": null,
   "metadata": {},
   "outputs": [],
   "source": [
    "y_pred_labels=nn.utils.onehot2labels(y_pred)"
   ]
  },
  {
   "cell_type": "code",
   "execution_count": null,
   "metadata": {},
   "outputs": [],
   "source": [
    "nn.metrics.classification_summary(y,y_pred_labels.astype(int))"
   ]
  }
 ],
 "metadata": {
  "kernelspec": {
   "display_name": "Python 3",
   "language": "python",
   "name": "python3"
  },
  "language_info": {
   "codemirror_mode": {
    "name": "ipython",
    "version": 3
   },
   "file_extension": ".py",
   "mimetype": "text/x-python",
   "name": "python",
   "nbconvert_exporter": "python",
   "pygments_lexer": "ipython3",
   "version": "3.10.4"
  }
 },
 "nbformat": 4,
 "nbformat_minor": 4
}
