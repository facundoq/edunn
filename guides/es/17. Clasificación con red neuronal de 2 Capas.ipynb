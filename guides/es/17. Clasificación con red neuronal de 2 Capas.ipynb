{
 "cells": [
  {
   "cell_type": "code",
   "execution_count": null,
   "metadata": {},
   "outputs": [],
   "source": [
    "%load_ext autoreload\n",
    "%autoreload 2\n",
    "import simplenn as sn\n",
    "import numpy as np"
   ]
  },
  {
   "cell_type": "markdown",
   "metadata": {},
   "source": [
    "# Clasificación con una red de 2 capas\n",
    "\n",
    "También podemos entrenar una red neuronal para clasificar las flores del conjunto de datos de [Iris](https://www.kaggle.com/uciml/iris). Podés probar agregando capas adicionales o cambiando a otro problema como el de los Vinos.\n"
   ]
  },
  {
   "cell_type": "code",
   "execution_count": null,
   "metadata": {},
   "outputs": [],
   "source": [
    "\n",
    "\n",
    "x,y,classes=sn.datasets.load_classification(\"iris\")\n",
    "# normalización de los datos\n",
    "x = (x-x.mean(axis=0))/x.std(axis=0)\n",
    "n, din = x.shape\n",
    "# calcular cantidad de clases\n",
    "classes = y.max()+1\n",
    "print(\"Tamaños de x e y:\", x.shape,y.shape)\n",
    "\n",
    "hidden_dim=3\n",
    "#Red con dos capas \n",
    "model = sn.Sequential([sn.Dense(din,hidden_dim,activation_name=\"relu\"),\n",
    "                       sn.Dense(hidden_dim,classes,activation_name=\"softmax\"),\n",
    "                      ])\n",
    "\n",
    "error = sn.MeanError(sn.CrossEntropyWithLabels())\n",
    "optimizer = sn.GradientDescent(lr=0.1,epochs=1000,batch_size=16)\n",
    "\n",
    "# Algoritmo de optimización\n",
    "history = optimizer.optimize(model,x,y,error)\n",
    "sn.plot.plot_history(history,error_name=error.name)\n",
    "\n",
    "\n",
    "print(\"Métricas del modelo:\")\n",
    "y_pred=model.forward(x)\n",
    "y_pred_labels=sn.utils.onehot2labels(y_pred)\n",
    "sn.metrics.classification_summary(y,y_pred_labels)"
   ]
  }
 ],
 "metadata": {
  "kernelspec": {
   "display_name": "Python 3",
   "language": "python",
   "name": "python3"
  },
  "language_info": {
   "codemirror_mode": {
    "name": "ipython",
    "version": 3
   },
   "file_extension": ".py",
   "mimetype": "text/x-python",
   "name": "python",
   "nbconvert_exporter": "python",
   "pygments_lexer": "ipython3",
   "version": "3.8.5"
  }
 },
 "nbformat": 4,
 "nbformat_minor": 4
}
