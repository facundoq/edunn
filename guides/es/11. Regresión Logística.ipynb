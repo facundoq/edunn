{
 "cells": [
  {
   "cell_type": "code",
   "execution_count": 1,
   "metadata": {},
   "outputs": [],
   "source": [
    "%load_ext autoreload\n",
    "%autoreload 2\n",
    "import numpy as np\n",
    "import simplenn as sn\n",
    "from simplenn import utils"
   ]
  },
  {
   "cell_type": "markdown",
   "metadata": {},
   "source": [
    "# Modelo de Regresión Logística: `forward`\n",
    "\n",
    "Un modelo de Regresión Logística se forma aplicando la función `Softmax` a un modelo de Regresión Lineal. De esta forma, esta función convierte a la salida de la Regresión Lineal en probabilidades.\n",
    "\n",
    "La función de la Regresión logística es $f(x)=softmax(wx+b)$. No obstante, como hicimos con el modelo `LinearRegression`, podemos ver este modelo como la aplicación de\n",
    "* Una capa `Linear` $f(x)=wx$,\n",
    "* Una capa `Bias` $f(x)=x+b$\n",
    "* Una capa `Softmax` $f(x)=softmax(x)$\n",
    "Es decir, tenemos la siguiente secuencia de transformaciońes `x → Linear → Bias → Softmax → y`. \n",
    "\n",
    "\n",
    "Implementa el método `forward` del modelo `LinearRegression` en el archivo `simplenn/models/logistic_regression.py`. Para eso, ya definimos e inicializamos modelos internos de clase `Linear`, `Bias` y `Softmax`; solo tenés que llamar a sus `forward` respectivos en el orden adecuado."
   ]
  },
  {
   "cell_type": "code",
   "execution_count": 2,
   "metadata": {},
   "outputs": [
    {
     "name": "stdout",
     "output_type": "stream",
     "text": [
      "\u001b[42m\u001b[30mSUCCESS :)\u001b[0m Arrays are equal (tolerance 1e-12)\n",
      "\u001b[42m\u001b[30mSUCCESS :)\u001b[0m Arrays are equal (tolerance 1e-12)\n"
     ]
    }
   ],
   "source": [
    "x = np.array([[1,0],\n",
    "             [0,1],\n",
    "             [1,1]])\n",
    "\n",
    "w = np.array([[100,0],\n",
    "              [0,100]])\n",
    "b = np.array([0])\n",
    "linear_initializer = sn.initializers.Constant(w)\n",
    "bias_initializer = sn.initializers.Constant(b)\n",
    "layer=sn.LogisticRegression(2,2,linear_initializer=linear_initializer,bias_initializer=bias_initializer)\n",
    "y = np.array([[1, 0],\n",
    "              [0, 1],\n",
    "              [0.5,0.5]\n",
    "             ])\n",
    "\n",
    "utils.check_same(y,layer.forward(x))\n",
    "\n",
    "linear_initializer = sn.initializers.Constant(-w)\n",
    "bias_initializer = sn.initializers.Constant(-b)\n",
    "layer=sn.LogisticRegression(2,2,linear_initializer=linear_initializer,bias_initializer=bias_initializer)\n",
    "utils.check_same(1-y,layer.forward(x))"
   ]
  },
  {
   "cell_type": "markdown",
   "metadata": {},
   "source": [
    "# Modelo de Regresión Logística: `backward`\n",
    "\n",
    "El método `backward` de un modelo de `LogisticRegression` es la composición *inversa* de las funciones `backward` de las capas `Linear`, `Bias`, y `Softmax`. Recordá que estas se aplican en el orden contrario al método forward.\n",
    "\n",
    "En este caso, también te ayudamos combinando el diccionario de gradientes de cada capa en un gran diccionario único de gradientes de `LogisticRegression` utilizando el operador `**` que desarma un diccionario, con `{**dict1, **dict2}` que los vuelve a combinar.\n",
    "\n"
   ]
  },
  {
   "cell_type": "code",
   "execution_count": 26,
   "metadata": {},
   "outputs": [
    {
     "name": "stdout",
     "output_type": "stream",
     "text": [
      "\u001b[104m\u001b[30mLogisticRegression_24 layer:\u001b[0m\n",
      "\u001b[42m\u001b[30mSUCCESS\u001b[0m 2600 partial derivatives checked (100 random input samples)\n"
     ]
    }
   ],
   "source": [
    "samples = 100\n",
    "batch_size=2\n",
    "din=3 # dimensión de entrada\n",
    "dout=5 # dimensión de salida\n",
    "input_shape=(batch_size,din)\n",
    "\n",
    "# Verificar las derivadas de un modelo de Regresión Logística\n",
    "# con valores aleatorios de `w`, `b`, y `x`, la entrada\n",
    "layer=sn.LogisticRegression(din,dout)\n",
    "\n",
    "utils.check_gradient.common_layer(layer,input_shape,samples=samples,tolerance=1e-5)    \n"
   ]
  },
  {
   "cell_type": "markdown",
   "metadata": {},
   "source": [
    "# Regresión Logística aplicada\n",
    "\n",
    "Ahora que tenemos todos los elementos, podemos definir y entrenar nuestro primer modelo regresión logística para clasificar las flores del conjunto de datos de [Iris](https://www.kaggle.com/uciml/iris).\n",
    "\n",
    "En este caso, vamos a entrenar el modelo con la función de error cuadrático medio; no obstante, si bien esta función de error funcionará, hace el que problema de optimización no sea _convexo_ y por ende no haya un único mínimo global. Más adelante, implementaremos la función de error de _Entropía Cruzada_, diseñada específicamente para lidiar con salidas que representan distribuciones de probabilidad."
   ]
  },
  {
   "cell_type": "code",
   "execution_count": 47,
   "metadata": {},
   "outputs": [
    {
     "name": "stdout",
     "output_type": "stream",
     "text": [
      "Dataset sizes: (150, 4) (150, 3)\n"
     ]
    },
    {
     "data": {
      "application/vnd.jupyter.widget-view+json": {
       "model_id": "a67a42f8da734dfdb1b6971b9bbf3e95",
       "version_major": 2,
       "version_minor": 0
      },
      "text/plain": [
       "fit:   0%|          | 0/1000 [00:00<?, ?it/s]"
      ]
     },
     "metadata": {},
     "output_type": "display_data"
    },
    {
     "data": {
      "image/png": "[encoded data removed]",
      "text/plain": [
       "<Figure size 432x288 with 1 Axes>"
      ]
     },
     "metadata": {
      "needs_background": "light"
     },
     "output_type": "display_data"
    },
    {
     "name": "stdout",
     "output_type": "stream",
     "text": [
      "Error del modelo:\n",
      "Accuracy: 0.86 (3 classes)\n",
      "Confusion matrix: (rows true, columns pred)\n",
      "[[50  0  0]\n",
      " [ 0 41  9]\n",
      " [ 0 12 38]]\n"
     ]
    }
   ],
   "source": [
    "import simplenn as sn\n",
    "import numpy as np\n",
    "from simplenn import metrics,datasets\n",
    "\n",
    "# Cargar datos como codificación \"onehot\"\n",
    "# y tiene tantas columnas como clases\n",
    "# si el ejemplo i es de clase 2, por ejemplo, entonces\n",
    "# y[i,2]=1 y el resto de los valores de y[i,:] valen 0\n",
    "# (nota: las etiquetas de clase comienzan en 0)\n",
    "x,y,classes=datasets.load_classification(\"iris\",onehot=True)\n",
    "# normalización de los datos\n",
    "x = (x-x.mean(axis=0))/x.std(axis=0)\n",
    "n, din = x.shape\n",
    "n, dout = y.shape\n",
    "\n",
    "print(\"Dataset sizes:\", x.shape,y.shape)\n",
    "\n",
    "#Modelo de regresión logística\n",
    "model = sn.LogisticRegression(din,dout)\n",
    "# Error cuadrático medio\n",
    "error = sn.MeanError(sn.SquaredError())\n",
    "optimizer = sn.StochasticGradientDescent(lr=0.001,epochs=1000,batch_size=32)\n",
    "\n",
    "# Algoritmo de optimización\n",
    "history = optimizer.optimize(model,x,y,error)\n",
    "sn.plot.plot_history(history,error_name=error.name)\n",
    "\n",
    "\n",
    "print(\"Error del modelo:\")\n",
    "y_pred=model.forward(x)\n",
    "metrics.classification_summary_onehot(y,y_pred)\n",
    "#sn.plot.regression1d_predictions(y,y_pred_labels)"
   ]
  }
 ],
 "metadata": {
  "kernelspec": {
   "display_name": "Python 3",
   "language": "python",
   "name": "python3"
  },
  "language_info": {
   "codemirror_mode": {
    "name": "ipython",
    "version": 3
   },
   "file_extension": ".py",
   "mimetype": "text/x-python",
   "name": "python",
   "nbconvert_exporter": "python",
   "pygments_lexer": "ipython3",
   "version": "3.8.5"
  }
 },
 "nbformat": 4,
 "nbformat_minor": 4
}
