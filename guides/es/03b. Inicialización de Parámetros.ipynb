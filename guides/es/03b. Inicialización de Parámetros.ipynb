{
 "cells": [
  {
   "cell_type": "code",
   "execution_count": null,
   "metadata": {},
   "outputs": [],
   "source": [
    "%load_ext autoreload\n",
    "%autoreload 2\n",
    "\n",
    "import edunn as nn\n",
    "import numpy as np\n",
    "\n",
    "from edunn import utils"
   ]
  },
  {
   "cell_type": "markdown",
   "metadata": {},
   "source": [
    "# Inicialización de parámetros\n",
    "\n",
    "Las capas `AddConstant` y `MultiplyConstant` creadas anteriormente no fueron definidas como _capas con parámetros_, sino que fueron definidas tomando un valor fijo provisto al momento de ser creadas.\n",
    "\n",
    "Al definirla como una _capa con parámetros_, se pueden inicializar los parámetros de forma más flexible (ej: definiendo valores aleatorios) utilizando un objeto `Initializer`."
   ]
  },
  {
   "cell_type": "markdown",
   "metadata": {},
   "source": [
    "# Initializer\n",
    "Un objeto `Initializer` permite delegar la responsabilidad de inicializar los parámetros de una capa. Se pueden definir distintas estrategias de inicialización, por ejemplo:\n",
    "\n",
    "- Inicialización en un valor constante\n",
    "- Inicialización en 0 (caso particular del anterior)\n",
    "- Inicialización en valores aleatorios"
   ]
  },
  {
   "cell_type": "markdown",
   "metadata": {},
   "source": [
    "# Creación e inicialización\n",
    "\n",
    "Para esta guía crearemos una capa `DummyLayer` para comprender el uso del Initializer.\n",
    "\n",
    "La capa `DummyLayer` tiene un vector de parámetros `c`, que debe crearse e inicializarse de alguna forma. Además, este parámetro se registra en la capa para poder ser accedido posteriormente.\n",
    "La capa funciona para arrays que tengan el mismo tamaño que los parámetros.\n",
    "\n",
    "Observa la implementación del método `__init__` de la capa `DummyLayer` para ver como el parámetro `c` es creado. Verás que se utiliza un `Initializer` para establecer su valor inicial.\n",
    "\n",
    "Al crear la capa se le puede pasar un objeto de tipo `Initializer` que va a crear y asignarle el valor inicial al parámetro `c`. Por defecto, si no recibe ningún `Initializer`, el parámetro se inicializará con ceros utilizando la clase `initializers.Zero`\n"
   ]
  },
  {
   "cell_type": "code",
   "execution_count": null,
   "metadata": {},
   "outputs": [],
   "source": [
    "from edunn.model import ModelWithParameters, ParameterSet\n",
    "from edunn import initializers\n",
    "\n",
    "class DummyLayer(ModelWithParameters):\n",
    "\n",
    "    def __init__(self, output_size: int, initializer: initializers.Initializer = None, name=None):\n",
    "        super().__init__(name=name)\n",
    "\n",
    "        if initializer is None:\n",
    "            initializer = initializers.Zero()\n",
    "\n",
    "        c = initializer.create((output_size,))\n",
    "        self.register_parameter('c', c)\n",
    "\n",
    "    def forward(self, *x) -> np.ndarray:\n",
    "        pass\n",
    "\n",
    "    def backward(self, dE_dy: np.ndarray) -> (np.ndarray, ParameterSet):\n",
    "        pass\n"
   ]
  },
  {
   "cell_type": "markdown",
   "metadata": {},
   "source": [
    "\n",
    "Examinando la implementación de la clase `Initializers.Zero` en `edunn/initializers.py`, podemos ver que:\n",
    "* Hereda de `Initializer`\n",
    "* Implementa el método `initialize(self, p: np.ndarray)` que recibe un array de numpy para inicializar\n",
    "* Utiliza `p[:]` para inicializar en 0 en lugar de `p = 0`. Hay dos razones importantes para esto:\n",
    "    * Utilizar `p = 0` solo cambiaría la _variable local_ `p` en lugar de cambiar el _array de numpy_ al cual `p` apunta\n",
    "    * Al utilizar `p[:]` estamos cambiando el __contenido__ del array de parámetros, que pertenece a la clase de la capa (en este caso `DummyLayer`)\n",
    "\n",
    "Una vez creada la clase, podemos obtener el vector de parámetros `c` de la clase `AddValue`con el método `get_parameters()`\n"
   ]
  },
  {
   "cell_type": "code",
   "execution_count": null,
   "metadata": {},
   "outputs": [],
   "source": [
    "# Crea una capa DummyLayer con 2 valores de entrada/salida\n",
    "layer = DummyLayer(2, initializer=nn.initializers.Zero())\n",
    "print(f\"Nombre de la capa: {layer.name}\")\n",
    "print(f\"Parámetros de la capa: {layer.get_parameters()}\")\n",
    "print()\n",
    "\n",
    "# Por defecto, el inicializador ya es `Zero`\n",
    "layer2 = DummyLayer(2)\n",
    "print(f\"Nombre de la capa: {layer2.name}\")\n",
    "print(f\"Parámetros de la capa: {layer2.get_parameters()}\")"
   ]
  },
  {
   "cell_type": "markdown",
   "metadata": {},
   "source": [
    "# Acceso a los parámetros por nombre\n",
    "\n",
    "El método `get_parameters()` devuelve un diccionario de parámetros, ya que admite tener más de un parámetro por capa.\n",
    "\n",
    "\n",
    "Dado que ya sabemos en este caso cuál es el nombre del único parámetro de la capa, podemos acceder al mismo con su nombre en string, `'c'`:"
   ]
  },
  {
   "cell_type": "code",
   "execution_count": null,
   "metadata": {},
   "outputs": [],
   "source": [
    "print(f\"Parametros: {layer.get_parameters()}\")\n",
    "print(f\"Parametro 'c': {layer.get_parameters()['c']}\")\n"
   ]
  },
  {
   "cell_type": "markdown",
   "metadata": {},
   "source": [
    "# Implementación de un Inicializador constante\n",
    "\n",
    "Mientras que algunas veces los parámetros son inicializados a `0`, es muy común darles algún valor constante. \n",
    "\n",
    "Implementa el inicializador `Constant` que le asigna un valor o arreglo constante al parámetro, de modo que por ejemplo, se pueda inicializar `c` con todos valores `3` o con un vector de valores `[1, 2, 3, 4]`. \n",
    "\n",
    "Busca la clase `Constant` en el módulo `edunn/initializers.py` e implementa el método `initialize` para que permita inicializar el parámetro con un valor arbitrario.\n"
   ]
  },
  {
   "cell_type": "code",
   "execution_count": null,
   "metadata": {},
   "outputs": [],
   "source": [
    "# Creamos una capa DummyLayer con 2 valores de salida (y también de entrada). \n",
    "# Los parámetros están todos inicializados con 3\n",
    "valor = 3\n",
    "layer = DummyLayer(2, initializer=nn.initializers.Constant(valor))\n",
    "\n",
    "print(f\"Nombre de la capa: {layer.name}\")\n",
    "print(f\"Parámetro 'c' de la capa: {layer.get_parameters()['c']}\")\n",
    "utils.check_same(layer.get_parameters()['c'], np.array([3, 3]))\n",
    "print()\n",
    "\n",
    "# Creamos una capa DummyLayer con valores iniciales 1, 2, 3, 4\n",
    "# Notar que estamos asegurando que la cantidad de valores del initializer Constant sea el mismo que el array valor\n",
    "valor2 = np.array([1, 2, 3, 4])\n",
    "layer2 = DummyLayer(4, initializer=nn.initializers.Constant(valor2))\n",
    "\n",
    "print(f\"Nombre de la capa 2: {layer2.name}\")\n",
    "print(f\"Parámetro 'c' de la capa 2: {layer2.get_parameters()['c']}\")\n",
    "\n",
    "utils.check_same(layer2.get_parameters()['c'], valor2)"
   ]
  }
 ],
 "metadata": {
  "kernelspec": {
   "display_name": "Python 3 (ipykernel)",
   "language": "python",
   "name": "python3"
  },
  "language_info": {
   "codemirror_mode": {
    "name": "ipython",
    "version": 3
   },
   "file_extension": ".py",
   "mimetype": "text/x-python",
   "name": "python",
   "nbconvert_exporter": "python",
   "pygments_lexer": "ipython3",
   "version": "3.10.12"
  }
 },
 "nbformat": 4,
 "nbformat_minor": 4
}
