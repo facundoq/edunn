{
 "cells": [
  {
   "cell_type": "code",
   "execution_count": 1,
   "metadata": {},
   "outputs": [],
   "source": []
  },
  {
   "cell_type": "markdown",
   "metadata": {},
   "source": [
    "# Classifying the Iris dataset with a `edunn` neural network\n",
    "\n",
    "Lets train a network to classify the [Iris](https://www.kaggle.com/uciml/iris) dataset. You can experiment adding/removing layers from the network.\n"
   ]
  },
  {
   "cell_type": "code",
   "execution_count": 4,
   "metadata": {},
   "outputs": [
    {
     "name": "stdout",
     "output_type": "stream",
     "text": [
      "Dataset iris: 150 samples, 4 features, 3 classes (['setosa', 'versicolor', 'virginica'])\n"
     ]
    },
    {
     "data": {
      "application/vnd.jupyter.widget-view+json": {
       "model_id": "726f5b7a662c4cd98d08f2ca004bbd28",
       "version_major": 2,
       "version_minor": 0
      },
      "text/plain": [
       "optim. Sequential_1:   0%|          | 0/100 [00:00<?, ?it/s]"
      ]
     },
     "metadata": {},
     "output_type": "display_data"
    },
    {
     "data": {
      "image/png": "[encoded data removed]",
      "text/plain": [
       "<Figure size 432x288 with 1 Axes>"
      ]
     },
     "metadata": {
      "needs_background": "light"
     },
     "output_type": "display_data"
    },
    {
     "name": "stdout",
     "output_type": "stream",
     "text": [
      "Accuracy: 0.3333333333333333 (3 classes)\n",
      "Confusion matrix: (rows true, columns pred)\n",
      "[[ 0  0 50]\n",
      " [ 0  0 50]\n",
      " [ 0  0 50]]\n"
     ]
    }
   ],
   "source": [
    "%pip install edunn\n",
    "import edunn as nn\n",
    "import numpy as np\n",
    "\n",
    "# Load dataset `iris`\n",
    "dataset_name=\"iris\"\n",
    "x,y,classes=nn.datasets.load_classification(dataset_name)\n",
    "\n",
    "# Calculate number of classes and print dataset info\n",
    "n, din = x.shape\n",
    "n_classes = y.max()+1\n",
    "print(f\"Dataset {dataset_name}: {n} samples, {din} features, {n_classes} classes ({classes})\")\n",
    "\n",
    "\n",
    "# Normalize input features\n",
    "x = (x-x.mean(axis=0))/x.std(axis=0)\n",
    "\n",
    "\n",
    "# Train three layer networknetwork\n",
    "model = nn.Sequential([nn.Dense(din,3,activation_name=\"relu\"),\n",
    "                       nn.Dense(3,5,activation_name=\"tanh\"),\n",
    "                       nn.Dense(5,n_classes,activation_name=\"softmax\"),\n",
    "                      ])\n",
    "\n",
    "error = nn.MeanError(nn.CrossEntropyWithLabels())\n",
    "optimizer = nn.GradientDescent(lr=0.001,epochs=100,batch_size=32)\n",
    "\n",
    "# Optimize and plot error history\n",
    "history = optimizer.optimize(model,x,y,error)\n",
    "nn.plot.plot_history(history,error_name=error.name)\n",
    "\n",
    "\n",
    "# Calcualte metrics\n",
    "y_pred=model.forward(x)\n",
    "y_pred_labels=nn.utils.onehot2labels(y_pred)\n",
    "nn.metrics.classification_summary(y,y_pred_labels)"
   ]
  }
 ],
 "metadata": {
  "kernelspec": {
   "display_name": "Python 3",
   "language": "python",
   "name": "python3"
  },
  "language_info": {
   "codemirror_mode": {
    "name": "ipython",
    "version": 3
   },
   "file_extension": ".py",
   "mimetype": "text/x-python",
   "name": "python",
   "nbconvert_exporter": "python",
   "pygments_lexer": "ipython3",
   "version": "3.8.10"
  }
 },
 "nbformat": 4,
 "nbformat_minor": 4
}
